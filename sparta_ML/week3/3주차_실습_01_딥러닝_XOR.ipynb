{
  "nbformat": 4,
  "nbformat_minor": 0,
  "metadata": {
    "colab": {
      "name": "3주차 실습 - 01. 딥러닝 XOR",
      "provenance": [],
      "collapsed_sections": [],
      "include_colab_link": true
    },
    "kernelspec": {
      "name": "python3",
      "display_name": "Python 3"
    }
  },
  "cells": [
    {
      "cell_type": "markdown",
      "metadata": {
        "id": "view-in-github",
        "colab_type": "text"
      },
      "source": [
        "<a href=\"https://colab.research.google.com/github/Haebuk/sparta_ML/blob/main/3%EC%A3%BC%EC%B0%A8_%EC%8B%A4%EC%8A%B5_01_%EB%94%A5%EB%9F%AC%EB%8B%9D_XOR.ipynb\" target=\"_parent\"><img src=\"https://colab.research.google.com/assets/colab-badge.svg\" alt=\"Open In Colab\"/></a>"
      ]
    },
    {
      "cell_type": "code",
      "metadata": {
        "id": "cGl7tV6zYlP2"
      },
      "source": [
        "import numpy as np\n",
        "from tensorflow.keras.models import Sequential\n",
        "from tensorflow.keras.layers import Dense\n",
        "from tensorflow.keras.optimizers import Adam, SGD"
      ],
      "execution_count": 1,
      "outputs": []
    },
    {
      "cell_type": "markdown",
      "metadata": {
        "id": "IOZ3kGcNY8hP"
      },
      "source": [
        "# XOR 데이터셋\n",
        "\n",
        "![](https://i.imgur.com/llFchxI.png)"
      ]
    },
    {
      "cell_type": "code",
      "metadata": {
        "id": "WiXA_GyPY8Ea"
      },
      "source": [
        "x_data = np.array([[0, 0], [0, 1], [1, 0], [1, 1]], dtype=np.float32) # 케라스 float32\n",
        "y_data = np.array([[0], [1], [1], [0]], dtype=np.float32)"
      ],
      "execution_count": 2,
      "outputs": []
    },
    {
      "cell_type": "markdown",
      "metadata": {
        "id": "lLPGg54nYs86"
      },
      "source": [
        "# XOR 이진 논리 회귀"
      ]
    },
    {
      "cell_type": "code",
      "metadata": {
        "colab": {
          "base_uri": "https://localhost:8080/"
        },
        "id": "oqpq8Z9UW5z7",
        "outputId": "25c6fcaa-6f48-4d37-e7c6-20667e55bb17"
      },
      "source": [
        "model = Sequential([\n",
        "  Dense(1, activation='sigmoid')\n",
        "])\n",
        "\n",
        "model.compile(loss='binary_crossentropy', optimizer=SGD(lr=0.1))\n",
        "\n",
        "model.fit(x_data, y_data, epochs=1000, verbose=0)"
      ],
      "execution_count": 3,
      "outputs": [
        {
          "output_type": "stream",
          "text": [
            "/usr/local/lib/python3.7/dist-packages/tensorflow/python/keras/optimizer_v2/optimizer_v2.py:375: UserWarning: The `lr` argument is deprecated, use `learning_rate` instead.\n",
            "  \"The `lr` argument is deprecated, use `learning_rate` instead.\")\n"
          ],
          "name": "stderr"
        },
        {
          "output_type": "execute_result",
          "data": {
            "text/plain": [
              "<tensorflow.python.keras.callbacks.History at 0x7f2b43ed27d0>"
            ]
          },
          "metadata": {
            "tags": []
          },
          "execution_count": 3
        }
      ]
    },
    {
      "cell_type": "code",
      "metadata": {
        "colab": {
          "base_uri": "https://localhost:8080/"
        },
        "id": "atwdM_sYXhJS",
        "outputId": "5697c168-64ac-477e-951d-67b27ba52e4c"
      },
      "source": [
        "y_pred = model.predict(x_data)\n",
        "\n",
        "print(y_pred) # 0 1 1 0이 나와야 하는데 전부 .5가 나옴 - 이진 논리 회귀로 불가능"
      ],
      "execution_count": 4,
      "outputs": [
        {
          "output_type": "stream",
          "text": [
            "[[0.50027704]\n",
            " [0.499734  ]\n",
            " [0.500353  ]\n",
            " [0.4998099 ]]\n"
          ],
          "name": "stdout"
        }
      ]
    },
    {
      "cell_type": "markdown",
      "metadata": {
        "id": "cI6To7CYYwcV"
      },
      "source": [
        "# XOR 딥러닝(MLP)"
      ]
    },
    {
      "cell_type": "code",
      "metadata": {
        "colab": {
          "base_uri": "https://localhost:8080/"
        },
        "id": "m7K9HNdkXuQS",
        "outputId": "5d19abb4-ed32-4398-d31a-70477fe6cdc7"
      },
      "source": [
        "model = Sequential([\n",
        "  Dense(8, activation='relu'), # 히든 레이어 추가\n",
        "  Dense(1, activation='sigmoid'),\n",
        "])\n",
        "\n",
        "model.compile(loss='binary_crossentropy', optimizer=SGD(lr=0.1))\n",
        "\n",
        "model.fit(x_data, y_data, epochs=1000, verbose=0)"
      ],
      "execution_count": 5,
      "outputs": [
        {
          "output_type": "stream",
          "text": [
            "/usr/local/lib/python3.7/dist-packages/tensorflow/python/keras/optimizer_v2/optimizer_v2.py:375: UserWarning: The `lr` argument is deprecated, use `learning_rate` instead.\n",
            "  \"The `lr` argument is deprecated, use `learning_rate` instead.\")\n"
          ],
          "name": "stderr"
        },
        {
          "output_type": "execute_result",
          "data": {
            "text/plain": [
              "<tensorflow.python.keras.callbacks.History at 0x7f2b370d07d0>"
            ]
          },
          "metadata": {
            "tags": []
          },
          "execution_count": 5
        }
      ]
    },
    {
      "cell_type": "code",
      "metadata": {
        "colab": {
          "base_uri": "https://localhost:8080/"
        },
        "id": "1exYIaf2X3Vm",
        "outputId": "1a4adb35-45df-4ec6-a66a-433c7b325107"
      },
      "source": [
        "y_pred = model.predict(x_data)\n",
        "\n",
        "print(y_pred) # 0 1 1 0 에 가까운 값"
      ],
      "execution_count": 6,
      "outputs": [
        {
          "output_type": "stream",
          "text": [
            "[[0.04378569]\n",
            " [0.9733304 ]\n",
            " [0.9853822 ]\n",
            " [0.01576218]]\n"
          ],
          "name": "stdout"
        }
      ]
    },
    {
      "cell_type": "markdown",
      "metadata": {
        "id": "nDHt2P5DaIMF"
      },
      "source": [
        "# Keras Functional API\n",
        "\n",
        "우리는 지금까지 Keras의 Sequential 클래스를 사용하여 Sequential API를 사용했습니다. Sequential API는 순차적인 모델 설계에는 편리한 API 이지만, 복잡한 네트워크를 설계하기에는 한계가 있기 때문에 실무에서는 Functional API를 주로 사용합니다.\n",
        "\n",
        "위에서 했던 XOR 딥러닝 문제를 Functional API로 다시 작성해보겠습니다!"
      ]
    },
    {
      "cell_type": "code",
      "metadata": {
        "id": "esLNf0O9aoG0"
      },
      "source": [
        "import numpy as np\n",
        "from tensorflow.keras.models import Sequential, Model # Model 추가 임포트\n",
        "from tensorflow.keras.layers import Dense, Input # Input 추가 임포트\n",
        "from tensorflow.keras.optimizers import Adam, SGD"
      ],
      "execution_count": 7,
      "outputs": []
    },
    {
      "cell_type": "markdown",
      "metadata": {
        "id": "B5vfGC5EbYUF"
      },
      "source": [
        "`model.summary()` 를 사용하여 모델의 구조를 확인할 수 있습니다.\n",
        "\n",
        "Sequential API를 사용하면 구조를 확인하기 힘들지만 Functional API를 사용하면 `model.summary()`를 사용하여 구조를 확인하기 쉽다는 장점도 있습니다."
      ]
    },
    {
      "cell_type": "code",
      "metadata": {
        "colab": {
          "base_uri": "https://localhost:8080/"
        },
        "id": "HunEvs9faHfD",
        "outputId": "de061a12-d969-4c73-d4e5-fe6556a47924"
      },
      "source": [
        "input = Input(shape=(2,)) # x1, x2\n",
        "hidden = Dense(8, activation='relu')(input) # input을 넣어줌\n",
        "output = Dense(1, activation='sigmoid')(hidden) # hidden을 넣어줌\n",
        "\n",
        "model = Model(inputs=input, outputs=output) # Sequential 대신 Model\n",
        "\n",
        "model.compile(loss='binary_crossentropy', optimizer=SGD(lr=0.1))\n",
        "\n",
        "model.summary()"
      ],
      "execution_count": 8,
      "outputs": [
        {
          "output_type": "stream",
          "text": [
            "Model: \"model\"\n",
            "_________________________________________________________________\n",
            "Layer (type)                 Output Shape              Param #   \n",
            "=================================================================\n",
            "input_1 (InputLayer)         [(None, 2)]               0         \n",
            "_________________________________________________________________\n",
            "dense_3 (Dense)              (None, 8)                 24        \n",
            "_________________________________________________________________\n",
            "dense_4 (Dense)              (None, 1)                 9         \n",
            "=================================================================\n",
            "Total params: 33\n",
            "Trainable params: 33\n",
            "Non-trainable params: 0\n",
            "_________________________________________________________________\n"
          ],
          "name": "stdout"
        },
        {
          "output_type": "stream",
          "text": [
            "/usr/local/lib/python3.7/dist-packages/tensorflow/python/keras/optimizer_v2/optimizer_v2.py:375: UserWarning: The `lr` argument is deprecated, use `learning_rate` instead.\n",
            "  \"The `lr` argument is deprecated, use `learning_rate` instead.\")\n"
          ],
          "name": "stderr"
        }
      ]
    },
    {
      "cell_type": "code",
      "metadata": {
        "colab": {
          "base_uri": "https://localhost:8080/"
        },
        "id": "p-a-DOJDX6tH",
        "outputId": "edde543e-c719-4d18-c069-a1bdc251ecb8"
      },
      "source": [
        "model.fit(x_data, y_data, epochs=1000, verbose=0)\n",
        "\n",
        "y_pred = model.predict(x_data)\n",
        "\n",
        "print(y_pred)"
      ],
      "execution_count": 9,
      "outputs": [
        {
          "output_type": "stream",
          "text": [
            "[[0.02274591]\n",
            " [0.98882955]\n",
            " [0.98360884]\n",
            " [0.01317763]]\n"
          ],
          "name": "stdout"
        }
      ]
    },
    {
      "cell_type": "code",
      "metadata": {
        "id": "MCKDXGjJbD1X"
      },
      "source": [
        ""
      ],
      "execution_count": null,
      "outputs": []
    }
  ]
}