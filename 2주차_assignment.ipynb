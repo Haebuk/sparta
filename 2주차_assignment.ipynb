{
  "nbformat": 4,
  "nbformat_minor": 0,
  "metadata": {
    "colab": {
      "name": "2주차_assignment.ipynb",
      "provenance": [],
      "authorship_tag": "ABX9TyOm08tQ8jb+mVjH3f/iNNhD",
      "include_colab_link": true
    },
    "kernelspec": {
      "name": "python3",
      "display_name": "Python 3"
    },
    "language_info": {
      "name": "python"
    }
  },
  "cells": [
    {
      "cell_type": "markdown",
      "metadata": {
        "id": "view-in-github",
        "colab_type": "text"
      },
      "source": [
        "<a href=\"https://colab.research.google.com/github/Haebuk/sparta_ML/blob/main/2%EC%A3%BC%EC%B0%A8_assignment.ipynb\" target=\"_parent\"><img src=\"https://colab.research.google.com/assets/colab-badge.svg\" alt=\"Open In Colab\"/></a>"
      ]
    },
    {
      "cell_type": "code",
      "metadata": {
        "id": "4jAjKSXLLd0u"
      },
      "source": [
        "import os\n",
        "os.environ['KAGGLE_USERNAME'] = 'haebuk' # username\n",
        "os.environ['KAGGLE_KEY'] = '16c03a2e7a5ac83dd5590eeecd19c9da' # key"
      ],
      "execution_count": 1,
      "outputs": []
    },
    {
      "cell_type": "code",
      "metadata": {
        "colab": {
          "base_uri": "https://localhost:8080/"
        },
        "id": "4WlVPOp8LTVP",
        "outputId": "bda95412-15c1-41ce-9379-4d2df6e6d20a"
      },
      "source": [
        "!kaggle datasets download -d kandij/diabetes-dataset\n",
        "!unzip diabetes-dataset.zip"
      ],
      "execution_count": 2,
      "outputs": [
        {
          "output_type": "stream",
          "text": [
            "Downloading diabetes-dataset.zip to /content\n",
            "\r  0% 0.00/8.92k [00:00<?, ?B/s]\n",
            "\r100% 8.92k/8.92k [00:00<00:00, 3.46MB/s]\n",
            "Archive:  diabetes-dataset.zip\n",
            "  inflating: diabetes2.csv           \n"
          ],
          "name": "stdout"
        }
      ]
    },
    {
      "cell_type": "code",
      "metadata": {
        "id": "A3SRS-b9Ll-l"
      },
      "source": [
        "import pandas as pd\n",
        "import numpy as np\n",
        "import seaborn as sns\n",
        "import matplotlib.pyplot as plt\n",
        "from tensorflow.keras.models import Sequential\n",
        "from tensorflow.keras.layers import Dense\n",
        "from tensorflow.keras.optimizers import Adam\n",
        "from sklearn.model_selection import train_test_split\n",
        "from sklearn.preprocessing import StandardScaler"
      ],
      "execution_count": 6,
      "outputs": []
    },
    {
      "cell_type": "code",
      "metadata": {
        "colab": {
          "base_uri": "https://localhost:8080/",
          "height": 222
        },
        "id": "d8P6GEPaLgEc",
        "outputId": "0619dcb0-6a11-4ff4-da9c-b14af1de5b79"
      },
      "source": [
        "df = pd.read_csv('diabetes2.csv')\n",
        "print(df.shape)\n",
        "df.head()"
      ],
      "execution_count": 18,
      "outputs": [
        {
          "output_type": "stream",
          "text": [
            "(768, 9)\n"
          ],
          "name": "stdout"
        },
        {
          "output_type": "execute_result",
          "data": {
            "text/html": [
              "<div>\n",
              "<style scoped>\n",
              "    .dataframe tbody tr th:only-of-type {\n",
              "        vertical-align: middle;\n",
              "    }\n",
              "\n",
              "    .dataframe tbody tr th {\n",
              "        vertical-align: top;\n",
              "    }\n",
              "\n",
              "    .dataframe thead th {\n",
              "        text-align: right;\n",
              "    }\n",
              "</style>\n",
              "<table border=\"1\" class=\"dataframe\">\n",
              "  <thead>\n",
              "    <tr style=\"text-align: right;\">\n",
              "      <th></th>\n",
              "      <th>Pregnancies</th>\n",
              "      <th>Glucose</th>\n",
              "      <th>BloodPressure</th>\n",
              "      <th>SkinThickness</th>\n",
              "      <th>Insulin</th>\n",
              "      <th>BMI</th>\n",
              "      <th>DiabetesPedigreeFunction</th>\n",
              "      <th>Age</th>\n",
              "      <th>Outcome</th>\n",
              "    </tr>\n",
              "  </thead>\n",
              "  <tbody>\n",
              "    <tr>\n",
              "      <th>0</th>\n",
              "      <td>6</td>\n",
              "      <td>148</td>\n",
              "      <td>72</td>\n",
              "      <td>35</td>\n",
              "      <td>0</td>\n",
              "      <td>33.6</td>\n",
              "      <td>0.627</td>\n",
              "      <td>50</td>\n",
              "      <td>1</td>\n",
              "    </tr>\n",
              "    <tr>\n",
              "      <th>1</th>\n",
              "      <td>1</td>\n",
              "      <td>85</td>\n",
              "      <td>66</td>\n",
              "      <td>29</td>\n",
              "      <td>0</td>\n",
              "      <td>26.6</td>\n",
              "      <td>0.351</td>\n",
              "      <td>31</td>\n",
              "      <td>0</td>\n",
              "    </tr>\n",
              "    <tr>\n",
              "      <th>2</th>\n",
              "      <td>8</td>\n",
              "      <td>183</td>\n",
              "      <td>64</td>\n",
              "      <td>0</td>\n",
              "      <td>0</td>\n",
              "      <td>23.3</td>\n",
              "      <td>0.672</td>\n",
              "      <td>32</td>\n",
              "      <td>1</td>\n",
              "    </tr>\n",
              "    <tr>\n",
              "      <th>3</th>\n",
              "      <td>1</td>\n",
              "      <td>89</td>\n",
              "      <td>66</td>\n",
              "      <td>23</td>\n",
              "      <td>94</td>\n",
              "      <td>28.1</td>\n",
              "      <td>0.167</td>\n",
              "      <td>21</td>\n",
              "      <td>0</td>\n",
              "    </tr>\n",
              "    <tr>\n",
              "      <th>4</th>\n",
              "      <td>0</td>\n",
              "      <td>137</td>\n",
              "      <td>40</td>\n",
              "      <td>35</td>\n",
              "      <td>168</td>\n",
              "      <td>43.1</td>\n",
              "      <td>2.288</td>\n",
              "      <td>33</td>\n",
              "      <td>1</td>\n",
              "    </tr>\n",
              "  </tbody>\n",
              "</table>\n",
              "</div>"
            ],
            "text/plain": [
              "   Pregnancies  Glucose  BloodPressure  ...  DiabetesPedigreeFunction  Age  Outcome\n",
              "0            6      148             72  ...                     0.627   50        1\n",
              "1            1       85             66  ...                     0.351   31        0\n",
              "2            8      183             64  ...                     0.672   32        1\n",
              "3            1       89             66  ...                     0.167   21        0\n",
              "4            0      137             40  ...                     2.288   33        1\n",
              "\n",
              "[5 rows x 9 columns]"
            ]
          },
          "metadata": {
            "tags": []
          },
          "execution_count": 18
        }
      ]
    },
    {
      "cell_type": "code",
      "metadata": {
        "colab": {
          "base_uri": "https://localhost:8080/",
          "height": 204
        },
        "id": "nVdoYSleLkuM",
        "outputId": "43f41978-9781-4973-f7e9-24950837b519"
      },
      "source": [
        "X = df.drop('Outcome', axis=1)\n",
        "X = X.astype(np.float32)\n",
        "X.head()"
      ],
      "execution_count": 9,
      "outputs": [
        {
          "output_type": "execute_result",
          "data": {
            "text/html": [
              "<div>\n",
              "<style scoped>\n",
              "    .dataframe tbody tr th:only-of-type {\n",
              "        vertical-align: middle;\n",
              "    }\n",
              "\n",
              "    .dataframe tbody tr th {\n",
              "        vertical-align: top;\n",
              "    }\n",
              "\n",
              "    .dataframe thead th {\n",
              "        text-align: right;\n",
              "    }\n",
              "</style>\n",
              "<table border=\"1\" class=\"dataframe\">\n",
              "  <thead>\n",
              "    <tr style=\"text-align: right;\">\n",
              "      <th></th>\n",
              "      <th>Pregnancies</th>\n",
              "      <th>Glucose</th>\n",
              "      <th>BloodPressure</th>\n",
              "      <th>SkinThickness</th>\n",
              "      <th>Insulin</th>\n",
              "      <th>BMI</th>\n",
              "      <th>DiabetesPedigreeFunction</th>\n",
              "      <th>Age</th>\n",
              "    </tr>\n",
              "  </thead>\n",
              "  <tbody>\n",
              "    <tr>\n",
              "      <th>0</th>\n",
              "      <td>6.0</td>\n",
              "      <td>148.0</td>\n",
              "      <td>72.0</td>\n",
              "      <td>35.0</td>\n",
              "      <td>0.0</td>\n",
              "      <td>33.599998</td>\n",
              "      <td>0.627</td>\n",
              "      <td>50.0</td>\n",
              "    </tr>\n",
              "    <tr>\n",
              "      <th>1</th>\n",
              "      <td>1.0</td>\n",
              "      <td>85.0</td>\n",
              "      <td>66.0</td>\n",
              "      <td>29.0</td>\n",
              "      <td>0.0</td>\n",
              "      <td>26.600000</td>\n",
              "      <td>0.351</td>\n",
              "      <td>31.0</td>\n",
              "    </tr>\n",
              "    <tr>\n",
              "      <th>2</th>\n",
              "      <td>8.0</td>\n",
              "      <td>183.0</td>\n",
              "      <td>64.0</td>\n",
              "      <td>0.0</td>\n",
              "      <td>0.0</td>\n",
              "      <td>23.299999</td>\n",
              "      <td>0.672</td>\n",
              "      <td>32.0</td>\n",
              "    </tr>\n",
              "    <tr>\n",
              "      <th>3</th>\n",
              "      <td>1.0</td>\n",
              "      <td>89.0</td>\n",
              "      <td>66.0</td>\n",
              "      <td>23.0</td>\n",
              "      <td>94.0</td>\n",
              "      <td>28.100000</td>\n",
              "      <td>0.167</td>\n",
              "      <td>21.0</td>\n",
              "    </tr>\n",
              "    <tr>\n",
              "      <th>4</th>\n",
              "      <td>0.0</td>\n",
              "      <td>137.0</td>\n",
              "      <td>40.0</td>\n",
              "      <td>35.0</td>\n",
              "      <td>168.0</td>\n",
              "      <td>43.099998</td>\n",
              "      <td>2.288</td>\n",
              "      <td>33.0</td>\n",
              "    </tr>\n",
              "  </tbody>\n",
              "</table>\n",
              "</div>"
            ],
            "text/plain": [
              "   Pregnancies  Glucose  ...  DiabetesPedigreeFunction   Age\n",
              "0          6.0    148.0  ...                     0.627  50.0\n",
              "1          1.0     85.0  ...                     0.351  31.0\n",
              "2          8.0    183.0  ...                     0.672  32.0\n",
              "3          1.0     89.0  ...                     0.167  21.0\n",
              "4          0.0    137.0  ...                     2.288  33.0\n",
              "\n",
              "[5 rows x 8 columns]"
            ]
          },
          "metadata": {
            "tags": []
          },
          "execution_count": 9
        }
      ]
    },
    {
      "cell_type": "code",
      "metadata": {
        "colab": {
          "base_uri": "https://localhost:8080/"
        },
        "id": "NOIPukPQPCAe",
        "outputId": "daed6fdb-de84-4781-ca29-6231d4676d80"
      },
      "source": [
        "se = StandardScaler()\n",
        "X_se = se.fit_transform(X)\n",
        "print(X.values[0])\n",
        "print(X_se[0])"
      ],
      "execution_count": 26,
      "outputs": [
        {
          "output_type": "stream",
          "text": [
            "[  6.    148.     72.     35.      0.     33.6     0.627  50.   ]\n",
            "[ 0.6399473   0.8483238   0.14964075  0.90726995 -0.6928905   0.20401257\n",
            "  0.46849188  1.4259955 ]\n"
          ],
          "name": "stdout"
        }
      ]
    },
    {
      "cell_type": "code",
      "metadata": {
        "colab": {
          "base_uri": "https://localhost:8080/",
          "height": 204
        },
        "id": "FsnmQH3IMSQk",
        "outputId": "c3543859-7566-47c6-ae63-6cdbefa604a8"
      },
      "source": [
        "y = df[['Outcome']]\n",
        "y = y.astype(np.float32)\n",
        "y.head()"
      ],
      "execution_count": 11,
      "outputs": [
        {
          "output_type": "execute_result",
          "data": {
            "text/html": [
              "<div>\n",
              "<style scoped>\n",
              "    .dataframe tbody tr th:only-of-type {\n",
              "        vertical-align: middle;\n",
              "    }\n",
              "\n",
              "    .dataframe tbody tr th {\n",
              "        vertical-align: top;\n",
              "    }\n",
              "\n",
              "    .dataframe thead th {\n",
              "        text-align: right;\n",
              "    }\n",
              "</style>\n",
              "<table border=\"1\" class=\"dataframe\">\n",
              "  <thead>\n",
              "    <tr style=\"text-align: right;\">\n",
              "      <th></th>\n",
              "      <th>Outcome</th>\n",
              "    </tr>\n",
              "  </thead>\n",
              "  <tbody>\n",
              "    <tr>\n",
              "      <th>0</th>\n",
              "      <td>1.0</td>\n",
              "    </tr>\n",
              "    <tr>\n",
              "      <th>1</th>\n",
              "      <td>0.0</td>\n",
              "    </tr>\n",
              "    <tr>\n",
              "      <th>2</th>\n",
              "      <td>1.0</td>\n",
              "    </tr>\n",
              "    <tr>\n",
              "      <th>3</th>\n",
              "      <td>0.0</td>\n",
              "    </tr>\n",
              "    <tr>\n",
              "      <th>4</th>\n",
              "      <td>1.0</td>\n",
              "    </tr>\n",
              "  </tbody>\n",
              "</table>\n",
              "</div>"
            ],
            "text/plain": [
              "   Outcome\n",
              "0      1.0\n",
              "1      0.0\n",
              "2      1.0\n",
              "3      0.0\n",
              "4      1.0"
            ]
          },
          "metadata": {
            "tags": []
          },
          "execution_count": 11
        }
      ]
    },
    {
      "cell_type": "code",
      "metadata": {
        "colab": {
          "base_uri": "https://localhost:8080/",
          "height": 335
        },
        "id": "HbVr_0jeMYiz",
        "outputId": "cb93bca4-c64e-40e8-a4a6-a18314b33160"
      },
      "source": [
        "sns.countplot(y['Outcome'])\n",
        "plt.show()"
      ],
      "execution_count": 16,
      "outputs": [
        {
          "output_type": "stream",
          "text": [
            "/usr/local/lib/python3.7/dist-packages/seaborn/_decorators.py:43: FutureWarning: Pass the following variable as a keyword arg: x. From version 0.12, the only valid positional argument will be `data`, and passing other arguments without an explicit keyword will result in an error or misinterpretation.\n",
            "  FutureWarning\n"
          ],
          "name": "stderr"
        },
        {
          "output_type": "display_data",
          "data": {
            "image/png": "[encoded data removed]",
            "text/plain": [
              "<Figure size 432x288 with 1 Axes>"
            ]
          },
          "metadata": {
            "tags": [],
            "needs_background": "light"
          }
        }
      ]
    },
    {
      "cell_type": "code",
      "metadata": {
        "colab": {
          "base_uri": "https://localhost:8080/"
        },
        "id": "QL9v508OMguL",
        "outputId": "7d1393c2-fb2a-44ca-dbfb-58172b914ad6"
      },
      "source": [
        "X_train, X_test, y_train, y_test = train_test_split(X_se, y, test_size=0.2, random_state=1)\n",
        "print(X_train.shape, X_test.shape)\n",
        "print(y_train.shape, y_test.shape)"
      ],
      "execution_count": 27,
      "outputs": [
        {
          "output_type": "stream",
          "text": [
            "(614, 8) (154, 8)\n",
            "(614, 1) (154, 1)\n"
          ],
          "name": "stdout"
        }
      ]
    },
    {
      "cell_type": "code",
      "metadata": {
        "colab": {
          "base_uri": "https://localhost:8080/"
        },
        "id": "yUnvTdouM8I8",
        "outputId": "737c73eb-f298-45ea-fcb8-99ad33304ce6"
      },
      "source": [
        "model = Sequential([\n",
        "    Dense(1, activation='sigmoid')\n",
        "])\n",
        "\n",
        "model.compile(loss='binary_crossentropy',optimizer=Adam(learning_rate=0.001), metrics=['acc'])\n",
        "model.fit(\n",
        "    X_train, y_train,\n",
        "    validation_data = (X_test, y_test),\n",
        "    epochs = 100\n",
        ")"
      ],
      "execution_count": 31,
      "outputs": [
        {
          "output_type": "stream",
          "text": [
            "Epoch 1/100\n",
            "20/20 [==============================] - 1s 8ms/step - loss: 0.8597 - acc: 0.5472 - val_loss: 0.8741 - val_acc: 0.5455\n",
            "Epoch 2/100\n",
            "20/20 [==============================] - 0s 3ms/step - loss: 0.8408 - acc: 0.5407 - val_loss: 0.8545 - val_acc: 0.5519\n",
            "Epoch 3/100\n",
            "20/20 [==============================] - 0s 4ms/step - loss: 0.8226 - acc: 0.5472 - val_loss: 0.8373 - val_acc: 0.5649\n",
            "Epoch 4/100\n",
            "20/20 [==============================] - 0s 3ms/step - loss: 0.8060 - acc: 0.5570 - val_loss: 0.8200 - val_acc: 0.5649\n",
            "Epoch 5/100\n",
            "20/20 [==============================] - 0s 2ms/step - loss: 0.7895 - acc: 0.5668 - val_loss: 0.8035 - val_acc: 0.5779\n",
            "Epoch 6/100\n",
            "20/20 [==============================] - 0s 2ms/step - loss: 0.7742 - acc: 0.5782 - val_loss: 0.7886 - val_acc: 0.5844\n",
            "Epoch 7/100\n",
            "20/20 [==============================] - 0s 2ms/step - loss: 0.7599 - acc: 0.5912 - val_loss: 0.7741 - val_acc: 0.5779\n",
            "Epoch 8/100\n",
            "20/20 [==============================] - 0s 3ms/step - loss: 0.7464 - acc: 0.5993 - val_loss: 0.7604 - val_acc: 0.5844\n",
            "Epoch 9/100\n",
            "20/20 [==============================] - 0s 2ms/step - loss: 0.7332 - acc: 0.6010 - val_loss: 0.7470 - val_acc: 0.5909\n",
            "Epoch 10/100\n",
            "20/20 [==============================] - 0s 3ms/step - loss: 0.7212 - acc: 0.5993 - val_loss: 0.7345 - val_acc: 0.5909\n",
            "Epoch 11/100\n",
            "20/20 [==============================] - 0s 3ms/step - loss: 0.7103 - acc: 0.6091 - val_loss: 0.7233 - val_acc: 0.5909\n",
            "Epoch 12/100\n",
            "20/20 [==============================] - 0s 2ms/step - loss: 0.6997 - acc: 0.6156 - val_loss: 0.7121 - val_acc: 0.6039\n",
            "Epoch 13/100\n",
            "20/20 [==============================] - 0s 3ms/step - loss: 0.6894 - acc: 0.6205 - val_loss: 0.7019 - val_acc: 0.6104\n",
            "Epoch 14/100\n",
            "20/20 [==============================] - 0s 3ms/step - loss: 0.6798 - acc: 0.6254 - val_loss: 0.6918 - val_acc: 0.6104\n",
            "Epoch 15/100\n",
            "20/20 [==============================] - 0s 2ms/step - loss: 0.6709 - acc: 0.6336 - val_loss: 0.6825 - val_acc: 0.6169\n",
            "Epoch 16/100\n",
            "20/20 [==============================] - 0s 3ms/step - loss: 0.6627 - acc: 0.6417 - val_loss: 0.6736 - val_acc: 0.6234\n",
            "Epoch 17/100\n",
            "20/20 [==============================] - 0s 2ms/step - loss: 0.6546 - acc: 0.6433 - val_loss: 0.6662 - val_acc: 0.6234\n",
            "Epoch 18/100\n",
            "20/20 [==============================] - 0s 2ms/step - loss: 0.6473 - acc: 0.6450 - val_loss: 0.6585 - val_acc: 0.6234\n",
            "Epoch 19/100\n",
            "20/20 [==============================] - 0s 2ms/step - loss: 0.6409 - acc: 0.6498 - val_loss: 0.6508 - val_acc: 0.6299\n",
            "Epoch 20/100\n",
            "20/20 [==============================] - 0s 3ms/step - loss: 0.6341 - acc: 0.6498 - val_loss: 0.6444 - val_acc: 0.6364\n",
            "Epoch 21/100\n",
            "20/20 [==============================] - 0s 2ms/step - loss: 0.6282 - acc: 0.6531 - val_loss: 0.6378 - val_acc: 0.6364\n",
            "Epoch 22/100\n",
            "20/20 [==============================] - 0s 2ms/step - loss: 0.6223 - acc: 0.6596 - val_loss: 0.6312 - val_acc: 0.6429\n",
            "Epoch 23/100\n",
            "20/20 [==============================] - 0s 3ms/step - loss: 0.6169 - acc: 0.6580 - val_loss: 0.6255 - val_acc: 0.6429\n",
            "Epoch 24/100\n",
            "20/20 [==============================] - 0s 3ms/step - loss: 0.6114 - acc: 0.6612 - val_loss: 0.6195 - val_acc: 0.6494\n",
            "Epoch 25/100\n",
            "20/20 [==============================] - 0s 2ms/step - loss: 0.6062 - acc: 0.6661 - val_loss: 0.6137 - val_acc: 0.6623\n",
            "Epoch 26/100\n",
            "20/20 [==============================] - 0s 3ms/step - loss: 0.6013 - acc: 0.6678 - val_loss: 0.6085 - val_acc: 0.6623\n",
            "Epoch 27/100\n",
            "20/20 [==============================] - 0s 3ms/step - loss: 0.5967 - acc: 0.6759 - val_loss: 0.6036 - val_acc: 0.6688\n",
            "Epoch 28/100\n",
            "20/20 [==============================] - 0s 2ms/step - loss: 0.5924 - acc: 0.6808 - val_loss: 0.5986 - val_acc: 0.6818\n",
            "Epoch 29/100\n",
            "20/20 [==============================] - 0s 2ms/step - loss: 0.5882 - acc: 0.6840 - val_loss: 0.5940 - val_acc: 0.6948\n",
            "Epoch 30/100\n",
            "20/20 [==============================] - 0s 3ms/step - loss: 0.5844 - acc: 0.6857 - val_loss: 0.5896 - val_acc: 0.6883\n",
            "Epoch 31/100\n",
            "20/20 [==============================] - 0s 2ms/step - loss: 0.5806 - acc: 0.6954 - val_loss: 0.5857 - val_acc: 0.6948\n",
            "Epoch 32/100\n",
            "20/20 [==============================] - 0s 2ms/step - loss: 0.5771 - acc: 0.6922 - val_loss: 0.5821 - val_acc: 0.6948\n",
            "Epoch 33/100\n",
            "20/20 [==============================] - 0s 3ms/step - loss: 0.5739 - acc: 0.6938 - val_loss: 0.5778 - val_acc: 0.6948\n",
            "Epoch 34/100\n",
            "20/20 [==============================] - 0s 2ms/step - loss: 0.5703 - acc: 0.6922 - val_loss: 0.5741 - val_acc: 0.6948\n",
            "Epoch 35/100\n",
            "20/20 [==============================] - 0s 2ms/step - loss: 0.5673 - acc: 0.6938 - val_loss: 0.5707 - val_acc: 0.6948\n",
            "Epoch 36/100\n",
            "20/20 [==============================] - 0s 4ms/step - loss: 0.5645 - acc: 0.6987 - val_loss: 0.5679 - val_acc: 0.6948\n",
            "Epoch 37/100\n",
            "20/20 [==============================] - 0s 2ms/step - loss: 0.5618 - acc: 0.7036 - val_loss: 0.5648 - val_acc: 0.6948\n",
            "Epoch 38/100\n",
            "20/20 [==============================] - 0s 3ms/step - loss: 0.5589 - acc: 0.7003 - val_loss: 0.5618 - val_acc: 0.7013\n",
            "Epoch 39/100\n",
            "20/20 [==============================] - 0s 2ms/step - loss: 0.5561 - acc: 0.7020 - val_loss: 0.5586 - val_acc: 0.7143\n",
            "Epoch 40/100\n",
            "20/20 [==============================] - 0s 2ms/step - loss: 0.5536 - acc: 0.7068 - val_loss: 0.5558 - val_acc: 0.7338\n",
            "Epoch 41/100\n",
            "20/20 [==============================] - 0s 3ms/step - loss: 0.5509 - acc: 0.7068 - val_loss: 0.5529 - val_acc: 0.7338\n",
            "Epoch 42/100\n",
            "20/20 [==============================] - 0s 3ms/step - loss: 0.5485 - acc: 0.7117 - val_loss: 0.5505 - val_acc: 0.7403\n",
            "Epoch 43/100\n",
            "20/20 [==============================] - 0s 2ms/step - loss: 0.5463 - acc: 0.7134 - val_loss: 0.5478 - val_acc: 0.7338\n",
            "Epoch 44/100\n",
            "20/20 [==============================] - 0s 2ms/step - loss: 0.5441 - acc: 0.7150 - val_loss: 0.5455 - val_acc: 0.7338\n",
            "Epoch 45/100\n",
            "20/20 [==============================] - 0s 2ms/step - loss: 0.5419 - acc: 0.7182 - val_loss: 0.5435 - val_acc: 0.7403\n",
            "Epoch 46/100\n",
            "20/20 [==============================] - 0s 2ms/step - loss: 0.5399 - acc: 0.7182 - val_loss: 0.5416 - val_acc: 0.7403\n",
            "Epoch 47/100\n",
            "20/20 [==============================] - 0s 3ms/step - loss: 0.5378 - acc: 0.7182 - val_loss: 0.5394 - val_acc: 0.7403\n",
            "Epoch 48/100\n",
            "20/20 [==============================] - 0s 2ms/step - loss: 0.5357 - acc: 0.7215 - val_loss: 0.5371 - val_acc: 0.7403\n",
            "Epoch 49/100\n",
            "20/20 [==============================] - 0s 3ms/step - loss: 0.5338 - acc: 0.7199 - val_loss: 0.5348 - val_acc: 0.7403\n",
            "Epoch 50/100\n",
            "20/20 [==============================] - 0s 2ms/step - loss: 0.5318 - acc: 0.7215 - val_loss: 0.5327 - val_acc: 0.7403\n",
            "Epoch 51/100\n",
            "20/20 [==============================] - 0s 3ms/step - loss: 0.5301 - acc: 0.7231 - val_loss: 0.5310 - val_acc: 0.7403\n",
            "Epoch 52/100\n",
            "20/20 [==============================] - 0s 2ms/step - loss: 0.5285 - acc: 0.7264 - val_loss: 0.5293 - val_acc: 0.7403\n",
            "Epoch 53/100\n",
            "20/20 [==============================] - 0s 3ms/step - loss: 0.5269 - acc: 0.7296 - val_loss: 0.5273 - val_acc: 0.7468\n",
            "Epoch 54/100\n",
            "20/20 [==============================] - 0s 3ms/step - loss: 0.5252 - acc: 0.7345 - val_loss: 0.5259 - val_acc: 0.7468\n",
            "Epoch 55/100\n",
            "20/20 [==============================] - 0s 3ms/step - loss: 0.5237 - acc: 0.7378 - val_loss: 0.5242 - val_acc: 0.7468\n",
            "Epoch 56/100\n",
            "20/20 [==============================] - 0s 2ms/step - loss: 0.5221 - acc: 0.7394 - val_loss: 0.5226 - val_acc: 0.7468\n",
            "Epoch 57/100\n",
            "20/20 [==============================] - 0s 2ms/step - loss: 0.5208 - acc: 0.7378 - val_loss: 0.5211 - val_acc: 0.7468\n",
            "Epoch 58/100\n",
            "20/20 [==============================] - 0s 2ms/step - loss: 0.5193 - acc: 0.7378 - val_loss: 0.5198 - val_acc: 0.7468\n",
            "Epoch 59/100\n",
            "20/20 [==============================] - 0s 3ms/step - loss: 0.5180 - acc: 0.7378 - val_loss: 0.5187 - val_acc: 0.7468\n",
            "Epoch 60/100\n",
            "20/20 [==============================] - 0s 2ms/step - loss: 0.5166 - acc: 0.7394 - val_loss: 0.5176 - val_acc: 0.7532\n",
            "Epoch 61/100\n",
            "20/20 [==============================] - 0s 3ms/step - loss: 0.5152 - acc: 0.7443 - val_loss: 0.5157 - val_acc: 0.7532\n",
            "Epoch 62/100\n",
            "20/20 [==============================] - 0s 2ms/step - loss: 0.5138 - acc: 0.7443 - val_loss: 0.5141 - val_acc: 0.7532\n",
            "Epoch 63/100\n",
            "20/20 [==============================] - 0s 2ms/step - loss: 0.5126 - acc: 0.7443 - val_loss: 0.5132 - val_acc: 0.7727\n",
            "Epoch 64/100\n",
            "20/20 [==============================] - 0s 2ms/step - loss: 0.5115 - acc: 0.7443 - val_loss: 0.5123 - val_acc: 0.7727\n",
            "Epoch 65/100\n",
            "20/20 [==============================] - 0s 3ms/step - loss: 0.5104 - acc: 0.7476 - val_loss: 0.5119 - val_acc: 0.7727\n",
            "Epoch 66/100\n",
            "20/20 [==============================] - 0s 2ms/step - loss: 0.5093 - acc: 0.7476 - val_loss: 0.5110 - val_acc: 0.7727\n",
            "Epoch 67/100\n",
            "20/20 [==============================] - 0s 4ms/step - loss: 0.5082 - acc: 0.7492 - val_loss: 0.5099 - val_acc: 0.7857\n",
            "Epoch 68/100\n",
            "20/20 [==============================] - 0s 3ms/step - loss: 0.5071 - acc: 0.7459 - val_loss: 0.5091 - val_acc: 0.7857\n",
            "Epoch 69/100\n",
            "20/20 [==============================] - 0s 3ms/step - loss: 0.5060 - acc: 0.7492 - val_loss: 0.5081 - val_acc: 0.7857\n",
            "Epoch 70/100\n",
            "20/20 [==============================] - 0s 3ms/step - loss: 0.5051 - acc: 0.7459 - val_loss: 0.5070 - val_acc: 0.7922\n",
            "Epoch 71/100\n",
            "20/20 [==============================] - 0s 3ms/step - loss: 0.5041 - acc: 0.7508 - val_loss: 0.5060 - val_acc: 0.7922\n",
            "Epoch 72/100\n",
            "20/20 [==============================] - 0s 2ms/step - loss: 0.5032 - acc: 0.7524 - val_loss: 0.5052 - val_acc: 0.7922\n",
            "Epoch 73/100\n",
            "20/20 [==============================] - 0s 3ms/step - loss: 0.5022 - acc: 0.7508 - val_loss: 0.5042 - val_acc: 0.7857\n",
            "Epoch 74/100\n",
            "20/20 [==============================] - 0s 2ms/step - loss: 0.5013 - acc: 0.7508 - val_loss: 0.5033 - val_acc: 0.7857\n",
            "Epoch 75/100\n",
            "20/20 [==============================] - 0s 2ms/step - loss: 0.5006 - acc: 0.7508 - val_loss: 0.5020 - val_acc: 0.7857\n",
            "Epoch 76/100\n",
            "20/20 [==============================] - 0s 2ms/step - loss: 0.4996 - acc: 0.7508 - val_loss: 0.5014 - val_acc: 0.7857\n",
            "Epoch 77/100\n",
            "20/20 [==============================] - 0s 4ms/step - loss: 0.4987 - acc: 0.7557 - val_loss: 0.5006 - val_acc: 0.7922\n",
            "Epoch 78/100\n",
            "20/20 [==============================] - 0s 3ms/step - loss: 0.4979 - acc: 0.7573 - val_loss: 0.5000 - val_acc: 0.7922\n",
            "Epoch 79/100\n",
            "20/20 [==============================] - 0s 2ms/step - loss: 0.4972 - acc: 0.7606 - val_loss: 0.4991 - val_acc: 0.7987\n",
            "Epoch 80/100\n",
            "20/20 [==============================] - 0s 2ms/step - loss: 0.4964 - acc: 0.7590 - val_loss: 0.4988 - val_acc: 0.7987\n",
            "Epoch 81/100\n",
            "20/20 [==============================] - 0s 2ms/step - loss: 0.4957 - acc: 0.7622 - val_loss: 0.4984 - val_acc: 0.7987\n",
            "Epoch 82/100\n",
            "20/20 [==============================] - 0s 3ms/step - loss: 0.4952 - acc: 0.7638 - val_loss: 0.4977 - val_acc: 0.7987\n",
            "Epoch 83/100\n",
            "20/20 [==============================] - 0s 2ms/step - loss: 0.4945 - acc: 0.7638 - val_loss: 0.4969 - val_acc: 0.7987\n",
            "Epoch 84/100\n",
            "20/20 [==============================] - 0s 3ms/step - loss: 0.4938 - acc: 0.7622 - val_loss: 0.4960 - val_acc: 0.7987\n",
            "Epoch 85/100\n",
            "20/20 [==============================] - 0s 2ms/step - loss: 0.4931 - acc: 0.7622 - val_loss: 0.4956 - val_acc: 0.7922\n",
            "Epoch 86/100\n",
            "20/20 [==============================] - 0s 2ms/step - loss: 0.4925 - acc: 0.7638 - val_loss: 0.4952 - val_acc: 0.7922\n",
            "Epoch 87/100\n",
            "20/20 [==============================] - 0s 3ms/step - loss: 0.4919 - acc: 0.7638 - val_loss: 0.4942 - val_acc: 0.7922\n",
            "Epoch 88/100\n",
            "20/20 [==============================] - 0s 3ms/step - loss: 0.4912 - acc: 0.7638 - val_loss: 0.4937 - val_acc: 0.7922\n",
            "Epoch 89/100\n",
            "20/20 [==============================] - 0s 2ms/step - loss: 0.4907 - acc: 0.7638 - val_loss: 0.4935 - val_acc: 0.7922\n",
            "Epoch 90/100\n",
            "20/20 [==============================] - 0s 2ms/step - loss: 0.4902 - acc: 0.7671 - val_loss: 0.4930 - val_acc: 0.7922\n",
            "Epoch 91/100\n",
            "20/20 [==============================] - 0s 3ms/step - loss: 0.4896 - acc: 0.7671 - val_loss: 0.4929 - val_acc: 0.7922\n",
            "Epoch 92/100\n",
            "20/20 [==============================] - 0s 3ms/step - loss: 0.4891 - acc: 0.7655 - val_loss: 0.4921 - val_acc: 0.7922\n",
            "Epoch 93/100\n",
            "20/20 [==============================] - 0s 2ms/step - loss: 0.4885 - acc: 0.7655 - val_loss: 0.4917 - val_acc: 0.7922\n",
            "Epoch 94/100\n",
            "20/20 [==============================] - 0s 2ms/step - loss: 0.4881 - acc: 0.7655 - val_loss: 0.4911 - val_acc: 0.7922\n",
            "Epoch 95/100\n",
            "20/20 [==============================] - 0s 3ms/step - loss: 0.4876 - acc: 0.7655 - val_loss: 0.4906 - val_acc: 0.7922\n",
            "Epoch 96/100\n",
            "20/20 [==============================] - 0s 2ms/step - loss: 0.4871 - acc: 0.7655 - val_loss: 0.4901 - val_acc: 0.7922\n",
            "Epoch 97/100\n",
            "20/20 [==============================] - 0s 2ms/step - loss: 0.4866 - acc: 0.7687 - val_loss: 0.4897 - val_acc: 0.7922\n",
            "Epoch 98/100\n",
            "20/20 [==============================] - 0s 2ms/step - loss: 0.4862 - acc: 0.7671 - val_loss: 0.4893 - val_acc: 0.7857\n",
            "Epoch 99/100\n",
            "20/20 [==============================] - 0s 3ms/step - loss: 0.4858 - acc: 0.7655 - val_loss: 0.4894 - val_acc: 0.7857\n",
            "Epoch 100/100\n",
            "20/20 [==============================] - 0s 2ms/step - loss: 0.4854 - acc: 0.7671 - val_loss: 0.4891 - val_acc: 0.7857\n"
          ],
          "name": "stdout"
        },
        {
          "output_type": "execute_result",
          "data": {
            "text/plain": [
              "<tensorflow.python.keras.callbacks.History at 0x7f0476a21e50>"
            ]
          },
          "metadata": {
            "tags": []
          },
          "execution_count": 31
        }
      ]
    },
    {
      "cell_type": "code",
      "metadata": {
        "id": "rq9VvvKJNgrr"
      },
      "source": [
        ""
      ],
      "execution_count": null,
      "outputs": []
    }
  ]
}