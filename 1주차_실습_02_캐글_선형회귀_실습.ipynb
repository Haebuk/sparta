{
  "nbformat": 4,
  "nbformat_minor": 0,
  "metadata": {
    "colab": {
      "name": "1주차 실습 - 02. 캐글 선형회귀 실습",
      "provenance": [],
      "collapsed_sections": [],
      "include_colab_link": true
    },
    "kernelspec": {
      "name": "python3",
      "display_name": "Python 3"
    }
  },
  "cells": [
    {
      "cell_type": "markdown",
      "metadata": {
        "id": "view-in-github",
        "colab_type": "text"
      },
      "source": [
        "<a href=\"https://colab.research.google.com/github/Haebuk/sparta_ML/blob/main/1%EC%A3%BC%EC%B0%A8_%EC%8B%A4%EC%8A%B5_02_%EC%BA%90%EA%B8%80_%EC%84%A0%ED%98%95%ED%9A%8C%EA%B7%80_%EC%8B%A4%EC%8A%B5.ipynb\" target=\"_parent\"><img src=\"https://colab.research.google.com/assets/colab-badge.svg\" alt=\"Open In Colab\"/></a>"
      ]
    },
    {
      "cell_type": "markdown",
      "metadata": {
        "id": "fJgk2C1x9D2a"
      },
      "source": [
        "# Kaggle 캐글\n",
        "\n",
        "https://kaggle.com\n",
        "\n",
        "캐글은 머신러닝 엔지니어가 레벨업 할 수 있는 던전이자, 사냥터입니다. 수많은 공개된 데이터셋과 각 데이터셋 별로 사람들이 분석한 결과들을 모아놓은 플랫폼이죠.\n",
        "\n",
        "기업 및 단체에서 Prize를 걸고 데이터와 해결 과제를 등록하면, 데이터 사이언티스트들이 이를 해결하기 위해 모델을 개발하고 경쟁하기도 하는 플랫폼입니다."
      ]
    },
    {
      "cell_type": "markdown",
      "metadata": {
        "id": "ORmI7HI59t1q"
      },
      "source": [
        "## Colab에서 Kaggle 데이터셋 다운로드 방법\n",
        "\n",
        "1. [Kaggle](https://www.kaggle.com) 회원가입\n",
        "2. Account(계정) 페이지 진입 (https://www.kaggle.com/[사옹자이름]/account)\n",
        "3. API - Create New API Token 클릭하고 kaggle.json 다운로드\n",
        "4. 브라우저에서 json 파일을 열어 username 및 key 복사\n",
        "5. 아래 코드에 자신의 username 및 key를 붙여넣어 환경변수 설정 실행"
      ]
    },
    {
      "cell_type": "code",
      "metadata": {
        "id": "dR2b4ocY-Kul"
      },
      "source": [
        "import os\n",
        "os.environ['KAGGLE_USERNAME'] = 'haebuk' # username\n",
        "os.environ['KAGGLE_KEY'] = '012556a132f44be2d63242c5ac5178d4' # key"
      ],
      "execution_count": 1,
      "outputs": []
    },
    {
      "cell_type": "markdown",
      "metadata": {
        "id": "JKquhsXV_X72"
      },
      "source": [
        "## 광고 데이터셋 다운로드\n",
        "\n",
        "1. Kaggle에서 원하는 데이터셋을 검색 (예: https://www.kaggle.com/ashydv/advertising-dataset)\n",
        "2. [Copy API command] 버튼 클릭 (New Notebook 옆에 ... 버튼 클릭)\n",
        "3. 코드 셀에 붙여넣고 실행! (맨 앞에 \"!\" 꼭 붙이는거 잊지 마세요!)\n",
        "\n"
      ]
    },
    {
      "cell_type": "code",
      "metadata": {
        "colab": {
          "base_uri": "https://localhost:8080/"
        },
        "id": "5pr_OtdH4XHS",
        "outputId": "91e26b56-b984-4c4f-d383-182a38f8a828"
      },
      "source": [
        "!kaggle datasets download -d ashydv/advertising-dataset"
      ],
      "execution_count": 2,
      "outputs": [
        {
          "output_type": "stream",
          "text": [
            "Downloading advertising-dataset.zip to /content\n",
            "\r  0% 0.00/1.83k [00:00<?, ?B/s]\n",
            "\r100% 1.83k/1.83k [00:00<00:00, 3.18MB/s]\n"
          ],
          "name": "stdout"
        }
      ]
    },
    {
      "cell_type": "markdown",
      "metadata": {
        "id": "LRZT7pTeAwun"
      },
      "source": [
        "데이터셋 압축 해제"
      ]
    },
    {
      "cell_type": "code",
      "metadata": {
        "colab": {
          "base_uri": "https://localhost:8080/"
        },
        "id": "NrPmd4LwAf7B",
        "outputId": "4b53fbf3-6e1c-41f3-9f16-8ff099c23f8e"
      },
      "source": [
        "!unzip /content/advertising-dataset.zip"
      ],
      "execution_count": 3,
      "outputs": [
        {
          "output_type": "stream",
          "text": [
            "Archive:  /content/advertising-dataset.zip\n",
            "  inflating: advertising.csv         \n"
          ],
          "name": "stdout"
        }
      ]
    },
    {
      "cell_type": "markdown",
      "metadata": {
        "id": "NOfVzLpuN69u"
      },
      "source": [
        "##  광고 데이터 예측 (Single-variable linear regression)\n",
        "\n",
        "TV 광고 금액으로 Sales 예측하기"
      ]
    },
    {
      "cell_type": "code",
      "metadata": {
        "id": "ksVdzcqqN0wX"
      },
      "source": [
        "from tensorflow.keras.models import Sequential\n",
        "from tensorflow.keras.layers import Dense\n",
        "from tensorflow.keras.optimizers import Adam, SGD\n",
        "import numpy as np\n",
        "import pandas as pd\n",
        "import matplotlib.pyplot as plt \n",
        "import seaborn as sns\n",
        "from sklearn.model_selection import train_test_split"
      ],
      "execution_count": 4,
      "outputs": []
    },
    {
      "cell_type": "markdown",
      "metadata": {
        "id": "Up2hzeoQYP4p"
      },
      "source": [
        "### 데이터셋 로드"
      ]
    },
    {
      "cell_type": "code",
      "metadata": {
        "colab": {
          "base_uri": "https://localhost:8080/",
          "height": 204
        },
        "id": "cEpSXjHLOMSl",
        "outputId": "cb0757fc-e169-4084-8dc1-419ca35ea3d9"
      },
      "source": [
        "df = pd.read_csv('advertising.csv')\n",
        "df.head(5)"
      ],
      "execution_count": 5,
      "outputs": [
        {
          "output_type": "execute_result",
          "data": {
            "text/html": [
              "<div>\n",
              "<style scoped>\n",
              "    .dataframe tbody tr th:only-of-type {\n",
              "        vertical-align: middle;\n",
              "    }\n",
              "\n",
              "    .dataframe tbody tr th {\n",
              "        vertical-align: top;\n",
              "    }\n",
              "\n",
              "    .dataframe thead th {\n",
              "        text-align: right;\n",
              "    }\n",
              "</style>\n",
              "<table border=\"1\" class=\"dataframe\">\n",
              "  <thead>\n",
              "    <tr style=\"text-align: right;\">\n",
              "      <th></th>\n",
              "      <th>TV</th>\n",
              "      <th>Radio</th>\n",
              "      <th>Newspaper</th>\n",
              "      <th>Sales</th>\n",
              "    </tr>\n",
              "  </thead>\n",
              "  <tbody>\n",
              "    <tr>\n",
              "      <th>0</th>\n",
              "      <td>230.1</td>\n",
              "      <td>37.8</td>\n",
              "      <td>69.2</td>\n",
              "      <td>22.1</td>\n",
              "    </tr>\n",
              "    <tr>\n",
              "      <th>1</th>\n",
              "      <td>44.5</td>\n",
              "      <td>39.3</td>\n",
              "      <td>45.1</td>\n",
              "      <td>10.4</td>\n",
              "    </tr>\n",
              "    <tr>\n",
              "      <th>2</th>\n",
              "      <td>17.2</td>\n",
              "      <td>45.9</td>\n",
              "      <td>69.3</td>\n",
              "      <td>12.0</td>\n",
              "    </tr>\n",
              "    <tr>\n",
              "      <th>3</th>\n",
              "      <td>151.5</td>\n",
              "      <td>41.3</td>\n",
              "      <td>58.5</td>\n",
              "      <td>16.5</td>\n",
              "    </tr>\n",
              "    <tr>\n",
              "      <th>4</th>\n",
              "      <td>180.8</td>\n",
              "      <td>10.8</td>\n",
              "      <td>58.4</td>\n",
              "      <td>17.9</td>\n",
              "    </tr>\n",
              "  </tbody>\n",
              "</table>\n",
              "</div>"
            ],
            "text/plain": [
              "      TV  Radio  Newspaper  Sales\n",
              "0  230.1   37.8       69.2   22.1\n",
              "1   44.5   39.3       45.1   10.4\n",
              "2   17.2   45.9       69.3   12.0\n",
              "3  151.5   41.3       58.5   16.5\n",
              "4  180.8   10.8       58.4   17.9"
            ]
          },
          "metadata": {
            "tags": []
          },
          "execution_count": 5
        }
      ]
    },
    {
      "cell_type": "markdown",
      "metadata": {
        "id": "pYgVoNAhYSTz"
      },
      "source": [
        "### 데이터셋 크기 살펴보기"
      ]
    },
    {
      "cell_type": "code",
      "metadata": {
        "colab": {
          "base_uri": "https://localhost:8080/"
        },
        "id": "TSBBZ9lRLJLa",
        "outputId": "44eaf2bf-30bf-4842-8fad-bcd55a78db5b"
      },
      "source": [
        "print(df.shape)"
      ],
      "execution_count": 6,
      "outputs": [
        {
          "output_type": "stream",
          "text": [
            "(200, 4)\n"
          ],
          "name": "stdout"
        }
      ]
    },
    {
      "cell_type": "markdown",
      "metadata": {
        "id": "HRHjsh0xYUjg"
      },
      "source": [
        "### 데이터셋 살짝 살펴보기"
      ]
    },
    {
      "cell_type": "code",
      "metadata": {
        "colab": {
          "base_uri": "https://localhost:8080/",
          "height": 304
        },
        "id": "spTnCen_WKdY",
        "outputId": "689d9ad2-766b-4abd-ba05-49934b93599f"
      },
      "source": [
        "sns.pairplot(df, x_vars=['TV', 'Newspaper', 'Radio'], y_vars=['Sales'], height=4)"
      ],
      "execution_count": 7,
      "outputs": [
        {
          "output_type": "execute_result",
          "data": {
            "text/plain": [
              "<seaborn.axisgrid.PairGrid at 0x7f3080572050>"
            ]
          },
          "metadata": {
            "tags": []
          },
          "execution_count": 7
        },
        {
          "output_type": "display_data",
          "data": {
            "image/png": "[encoded data removed]",
            "text/plain": [
              "<Figure size 864x288 with 3 Axes>"
            ]
          },
          "metadata": {
            "tags": [],
            "needs_background": "light"
          }
        }
      ]
    },
    {
      "cell_type": "markdown",
      "metadata": {
        "id": "jmvXlwj1aED2"
      },
      "source": [
        "### 데이터셋 가공"
      ]
    },
    {
      "cell_type": "code",
      "metadata": {
        "colab": {
          "base_uri": "https://localhost:8080/"
        },
        "id": "d8k2hvaeaSFz",
        "outputId": "f9931934-5a02-4bbf-96db-d47e5918b40f"
      },
      "source": [
        "x_data = np.array(df[['TV']], dtype=np.float32)\n",
        "y_data = np.array(df['Sales'], dtype=np.float32)\n",
        "\n",
        "print(x_data.shape)\n",
        "print(y_data.shape)"
      ],
      "execution_count": 8,
      "outputs": [
        {
          "output_type": "stream",
          "text": [
            "(200, 1)\n",
            "(200,)\n"
          ],
          "name": "stdout"
        }
      ]
    },
    {
      "cell_type": "code",
      "metadata": {
        "colab": {
          "base_uri": "https://localhost:8080/"
        },
        "id": "ddaacFAiaHHD",
        "outputId": "9dbf4623-bfda-484f-cafd-bf3b07c99f66"
      },
      "source": [
        "x_data = x_data.reshape((-1, 1))\n",
        "y_data = y_data.reshape((-1, 1)) # 컬럼을 1로 맞추고 -1은 아무렇게나를 의미\n",
        "\n",
        "print(x_data.shape)\n",
        "print(y_data.shape)"
      ],
      "execution_count": 10,
      "outputs": [
        {
          "output_type": "stream",
          "text": [
            "(200, 1)\n",
            "(200, 1)\n"
          ],
          "name": "stdout"
        }
      ]
    },
    {
      "cell_type": "markdown",
      "metadata": {
        "id": "ghw_Bg0pYZEz"
      },
      "source": [
        "### 데이터셋 분할\n",
        "\n",
        "학습 데이터 80%\n",
        "검증 데이터 20%\n"
      ]
    },
    {
      "cell_type": "code",
      "metadata": {
        "colab": {
          "base_uri": "https://localhost:8080/"
        },
        "id": "TwfkqScaW48i",
        "outputId": "9bc9c311-c196-4ef2-fba3-800eda9265fb"
      },
      "source": [
        "x_train, x_val, y_train, y_val = train_test_split(x_data, y_data, test_size=0.2, random_state=2021)\n",
        "\n",
        "print(x_train.shape, x_val.shape)\n",
        "print(y_train.shape, y_val.shape)"
      ],
      "execution_count": 11,
      "outputs": [
        {
          "output_type": "stream",
          "text": [
            "(160, 1) (40, 1)\n",
            "(160, 1) (40, 1)\n"
          ],
          "name": "stdout"
        }
      ]
    },
    {
      "cell_type": "markdown",
      "metadata": {
        "id": "t3EsOEewbKEr"
      },
      "source": [
        "### 학습"
      ]
    },
    {
      "cell_type": "code",
      "metadata": {
        "colab": {
          "base_uri": "https://localhost:8080/"
        },
        "id": "e3pCXpbJYJ_I",
        "outputId": "3f600099-2d48-4c60-cd08-72227e10045e"
      },
      "source": [
        "model = Sequential([\n",
        "  Dense(1)\n",
        "])\n",
        "\n",
        "model.compile(loss='mean_squared_error', optimizer=Adam(lr=0.1)) # 묻따 아담\n",
        "\n",
        "model.fit(\n",
        "    x_train,\n",
        "    y_train,\n",
        "    validation_data=(x_val, y_val), # 검증 데이터를 넣어주면 한 epoch이 끝날때마다 자동으로 검증\n",
        "    epochs=100 # epochs 복수형으로 쓰기!\n",
        ")"
      ],
      "execution_count": 13,
      "outputs": [
        {
          "output_type": "stream",
          "text": [
            "/usr/local/lib/python3.7/dist-packages/tensorflow/python/keras/optimizer_v2/optimizer_v2.py:375: UserWarning: The `lr` argument is deprecated, use `learning_rate` instead.\n",
            "  \"The `lr` argument is deprecated, use `learning_rate` instead.\")\n"
          ],
          "name": "stderr"
        },
        {
          "output_type": "stream",
          "text": [
            "Epoch 1/100\n",
            "5/5 [==============================] - 1s 36ms/step - loss: 29178.6621 - val_loss: 15790.0176\n",
            "Epoch 2/100\n",
            "5/5 [==============================] - 0s 6ms/step - loss: 8413.6064 - val_loss: 2124.1558\n",
            "Epoch 3/100\n",
            "5/5 [==============================] - 0s 8ms/step - loss: 698.1550 - val_loss: 246.2557\n",
            "Epoch 4/100\n",
            "5/5 [==============================] - 0s 6ms/step - loss: 908.2205 - val_loss: 2109.7073\n",
            "Epoch 5/100\n",
            "5/5 [==============================] - 0s 8ms/step - loss: 2186.5388 - val_loss: 2214.2109\n",
            "Epoch 6/100\n",
            "5/5 [==============================] - 0s 7ms/step - loss: 1552.1241 - val_loss: 886.3916\n",
            "Epoch 7/100\n",
            "5/5 [==============================] - 0s 8ms/step - loss: 443.4432 - val_loss: 54.2593\n",
            "Epoch 8/100\n",
            "5/5 [==============================] - 0s 9ms/step - loss: 46.8293 - val_loss: 170.6309\n",
            "Epoch 9/100\n",
            "5/5 [==============================] - 0s 7ms/step - loss: 215.7784 - val_loss: 328.9714\n",
            "Epoch 10/100\n",
            "5/5 [==============================] - 0s 7ms/step - loss: 246.3414 - val_loss: 183.4101\n",
            "Epoch 11/100\n",
            "5/5 [==============================] - 0s 7ms/step - loss: 94.0334 - val_loss: 36.6317\n",
            "Epoch 12/100\n",
            "5/5 [==============================] - 0s 8ms/step - loss: 26.9394 - val_loss: 39.5075\n",
            "Epoch 13/100\n",
            "5/5 [==============================] - 0s 7ms/step - loss: 49.4540 - val_loss: 58.6643\n",
            "Epoch 14/100\n",
            "5/5 [==============================] - 0s 7ms/step - loss: 49.7130 - val_loss: 36.0790\n",
            "Epoch 15/100\n",
            "5/5 [==============================] - 0s 7ms/step - loss: 26.8665 - val_loss: 24.7256\n",
            "Epoch 16/100\n",
            "5/5 [==============================] - 0s 6ms/step - loss: 21.5773 - val_loss: 32.1146\n",
            "Epoch 17/100\n",
            "5/5 [==============================] - 0s 7ms/step - loss: 25.6527 - val_loss: 32.0411\n",
            "Epoch 18/100\n",
            "5/5 [==============================] - 0s 6ms/step - loss: 23.3571 - val_loss: 25.8890\n",
            "Epoch 19/100\n",
            "5/5 [==============================] - 0s 8ms/step - loss: 20.4142 - val_loss: 24.1169\n",
            "Epoch 20/100\n",
            "5/5 [==============================] - 0s 7ms/step - loss: 21.0102 - val_loss: 24.3343\n",
            "Epoch 21/100\n",
            "5/5 [==============================] - 0s 7ms/step - loss: 20.7691 - val_loss: 23.8885\n",
            "Epoch 22/100\n",
            "5/5 [==============================] - 0s 7ms/step - loss: 19.8389 - val_loss: 24.1585\n",
            "Epoch 23/100\n",
            "5/5 [==============================] - 0s 7ms/step - loss: 20.1918 - val_loss: 24.9109\n",
            "Epoch 24/100\n",
            "5/5 [==============================] - 0s 7ms/step - loss: 19.9816 - val_loss: 24.1753\n",
            "Epoch 25/100\n",
            "5/5 [==============================] - 0s 6ms/step - loss: 19.6992 - val_loss: 23.5558\n",
            "Epoch 26/100\n",
            "5/5 [==============================] - 0s 7ms/step - loss: 19.5623 - val_loss: 23.3772\n",
            "Epoch 27/100\n",
            "5/5 [==============================] - 0s 8ms/step - loss: 19.5417 - val_loss: 23.2351\n",
            "Epoch 28/100\n",
            "5/5 [==============================] - 0s 8ms/step - loss: 19.3004 - val_loss: 23.3410\n",
            "Epoch 29/100\n",
            "5/5 [==============================] - 0s 11ms/step - loss: 19.2731 - val_loss: 23.4765\n",
            "Epoch 30/100\n",
            "5/5 [==============================] - 0s 6ms/step - loss: 19.1804 - val_loss: 23.0855\n",
            "Epoch 31/100\n",
            "5/5 [==============================] - 0s 7ms/step - loss: 19.0223 - val_loss: 22.8550\n",
            "Epoch 32/100\n",
            "5/5 [==============================] - 0s 8ms/step - loss: 18.9016 - val_loss: 22.7425\n",
            "Epoch 33/100\n",
            "5/5 [==============================] - 0s 13ms/step - loss: 18.7819 - val_loss: 22.6471\n",
            "Epoch 34/100\n",
            "5/5 [==============================] - 0s 8ms/step - loss: 18.6944 - val_loss: 22.6086\n",
            "Epoch 35/100\n",
            "5/5 [==============================] - 0s 7ms/step - loss: 18.6422 - val_loss: 22.2836\n",
            "Epoch 36/100\n",
            "5/5 [==============================] - 0s 7ms/step - loss: 18.4945 - val_loss: 22.1187\n",
            "Epoch 37/100\n",
            "5/5 [==============================] - 0s 7ms/step - loss: 18.3493 - val_loss: 22.0996\n",
            "Epoch 38/100\n",
            "5/5 [==============================] - 0s 8ms/step - loss: 18.2351 - val_loss: 22.0686\n",
            "Epoch 39/100\n",
            "5/5 [==============================] - 0s 8ms/step - loss: 18.1221 - val_loss: 21.8874\n",
            "Epoch 40/100\n",
            "5/5 [==============================] - 0s 7ms/step - loss: 18.0133 - val_loss: 21.6201\n",
            "Epoch 41/100\n",
            "5/5 [==============================] - 0s 7ms/step - loss: 17.9038 - val_loss: 21.4847\n",
            "Epoch 42/100\n",
            "5/5 [==============================] - 0s 6ms/step - loss: 18.0264 - val_loss: 21.6306\n",
            "Epoch 43/100\n",
            "5/5 [==============================] - 0s 6ms/step - loss: 17.6709 - val_loss: 21.2690\n",
            "Epoch 44/100\n",
            "5/5 [==============================] - 0s 8ms/step - loss: 17.5571 - val_loss: 20.9412\n",
            "Epoch 45/100\n",
            "5/5 [==============================] - 0s 8ms/step - loss: 17.5017 - val_loss: 20.8937\n",
            "Epoch 46/100\n",
            "5/5 [==============================] - 0s 6ms/step - loss: 17.3458 - val_loss: 20.8969\n",
            "Epoch 47/100\n",
            "5/5 [==============================] - 0s 6ms/step - loss: 17.1985 - val_loss: 20.7323\n",
            "Epoch 48/100\n",
            "5/5 [==============================] - 0s 7ms/step - loss: 17.0830 - val_loss: 20.5558\n",
            "Epoch 49/100\n",
            "5/5 [==============================] - 0s 7ms/step - loss: 16.9825 - val_loss: 20.2895\n",
            "Epoch 50/100\n",
            "5/5 [==============================] - 0s 6ms/step - loss: 16.8645 - val_loss: 20.1615\n",
            "Epoch 51/100\n",
            "5/5 [==============================] - 0s 6ms/step - loss: 16.7318 - val_loss: 20.1396\n",
            "Epoch 52/100\n",
            "5/5 [==============================] - 0s 7ms/step - loss: 16.6291 - val_loss: 20.1015\n",
            "Epoch 53/100\n",
            "5/5 [==============================] - 0s 8ms/step - loss: 16.5125 - val_loss: 19.8554\n",
            "Epoch 54/100\n",
            "5/5 [==============================] - 0s 7ms/step - loss: 16.4150 - val_loss: 19.5408\n",
            "Epoch 55/100\n",
            "5/5 [==============================] - 0s 7ms/step - loss: 16.2767 - val_loss: 19.4404\n",
            "Epoch 56/100\n",
            "5/5 [==============================] - 0s 8ms/step - loss: 16.1619 - val_loss: 19.4684\n",
            "Epoch 57/100\n",
            "5/5 [==============================] - 0s 7ms/step - loss: 16.0359 - val_loss: 19.2711\n",
            "Epoch 58/100\n",
            "5/5 [==============================] - 0s 6ms/step - loss: 15.9124 - val_loss: 19.1190\n",
            "Epoch 59/100\n",
            "5/5 [==============================] - 0s 7ms/step - loss: 15.8284 - val_loss: 18.9097\n",
            "Epoch 60/100\n",
            "5/5 [==============================] - 0s 7ms/step - loss: 15.6717 - val_loss: 18.7683\n",
            "Epoch 61/100\n",
            "5/5 [==============================] - 0s 6ms/step - loss: 15.5672 - val_loss: 18.6574\n",
            "Epoch 62/100\n",
            "5/5 [==============================] - 0s 9ms/step - loss: 15.5508 - val_loss: 18.6809\n",
            "Epoch 63/100\n",
            "5/5 [==============================] - 0s 6ms/step - loss: 15.4269 - val_loss: 18.2441\n",
            "Epoch 64/100\n",
            "5/5 [==============================] - 0s 8ms/step - loss: 15.2873 - val_loss: 18.0987\n",
            "Epoch 65/100\n",
            "5/5 [==============================] - 0s 8ms/step - loss: 15.0686 - val_loss: 18.1730\n",
            "Epoch 66/100\n",
            "5/5 [==============================] - 0s 6ms/step - loss: 14.9943 - val_loss: 18.1574\n",
            "Epoch 67/100\n",
            "5/5 [==============================] - 0s 7ms/step - loss: 14.8970 - val_loss: 17.8369\n",
            "Epoch 68/100\n",
            "5/5 [==============================] - 0s 7ms/step - loss: 14.7501 - val_loss: 17.5722\n",
            "Epoch 69/100\n",
            "5/5 [==============================] - 0s 7ms/step - loss: 14.6478 - val_loss: 17.5232\n",
            "Epoch 70/100\n",
            "5/5 [==============================] - 0s 7ms/step - loss: 14.5113 - val_loss: 17.3674\n",
            "Epoch 71/100\n",
            "5/5 [==============================] - 0s 8ms/step - loss: 14.4636 - val_loss: 17.3232\n",
            "Epoch 72/100\n",
            "5/5 [==============================] - 0s 8ms/step - loss: 14.3049 - val_loss: 16.9930\n",
            "Epoch 73/100\n",
            "5/5 [==============================] - 0s 9ms/step - loss: 14.2105 - val_loss: 16.8387\n",
            "Epoch 74/100\n",
            "5/5 [==============================] - 0s 7ms/step - loss: 14.0659 - val_loss: 16.7842\n",
            "Epoch 75/100\n",
            "5/5 [==============================] - 0s 6ms/step - loss: 13.9487 - val_loss: 16.8535\n",
            "Epoch 76/100\n",
            "5/5 [==============================] - 0s 6ms/step - loss: 13.8887 - val_loss: 16.5714\n",
            "Epoch 77/100\n",
            "5/5 [==============================] - 0s 6ms/step - loss: 13.7755 - val_loss: 16.3969\n",
            "Epoch 78/100\n",
            "5/5 [==============================] - 0s 6ms/step - loss: 13.6428 - val_loss: 16.1734\n",
            "Epoch 79/100\n",
            "5/5 [==============================] - 0s 6ms/step - loss: 13.6198 - val_loss: 16.2116\n",
            "Epoch 80/100\n",
            "5/5 [==============================] - 0s 8ms/step - loss: 13.3909 - val_loss: 15.9779\n",
            "Epoch 81/100\n",
            "5/5 [==============================] - 0s 7ms/step - loss: 13.3323 - val_loss: 15.8582\n",
            "Epoch 82/100\n",
            "5/5 [==============================] - 0s 6ms/step - loss: 13.2320 - val_loss: 15.6116\n",
            "Epoch 83/100\n",
            "5/5 [==============================] - 0s 6ms/step - loss: 13.1081 - val_loss: 15.6273\n",
            "Epoch 84/100\n",
            "5/5 [==============================] - 0s 8ms/step - loss: 12.9748 - val_loss: 15.4920\n",
            "Epoch 85/100\n",
            "5/5 [==============================] - 0s 6ms/step - loss: 12.9158 - val_loss: 15.4141\n",
            "Epoch 86/100\n",
            "5/5 [==============================] - 0s 8ms/step - loss: 12.9666 - val_loss: 15.0788\n",
            "Epoch 87/100\n",
            "5/5 [==============================] - 0s 8ms/step - loss: 12.6769 - val_loss: 15.1576\n",
            "Epoch 88/100\n",
            "5/5 [==============================] - 0s 7ms/step - loss: 12.5588 - val_loss: 15.0513\n",
            "Epoch 89/100\n",
            "5/5 [==============================] - 0s 7ms/step - loss: 12.4931 - val_loss: 14.8511\n",
            "Epoch 90/100\n",
            "5/5 [==============================] - 0s 9ms/step - loss: 12.3935 - val_loss: 14.5714\n",
            "Epoch 91/100\n",
            "5/5 [==============================] - 0s 6ms/step - loss: 12.3274 - val_loss: 14.4677\n",
            "Epoch 92/100\n",
            "5/5 [==============================] - 0s 8ms/step - loss: 12.1516 - val_loss: 14.7209\n",
            "Epoch 93/100\n",
            "5/5 [==============================] - 0s 7ms/step - loss: 12.2400 - val_loss: 14.3876\n",
            "Epoch 94/100\n",
            "5/5 [==============================] - 0s 7ms/step - loss: 11.9170 - val_loss: 14.1072\n",
            "Epoch 95/100\n",
            "5/5 [==============================] - 0s 7ms/step - loss: 11.9249 - val_loss: 13.9604\n",
            "Epoch 96/100\n",
            "5/5 [==============================] - 0s 8ms/step - loss: 11.7989 - val_loss: 13.9837\n",
            "Epoch 97/100\n",
            "5/5 [==============================] - 0s 7ms/step - loss: 11.6404 - val_loss: 13.8367\n",
            "Epoch 98/100\n",
            "5/5 [==============================] - 0s 7ms/step - loss: 11.5624 - val_loss: 13.7383\n",
            "Epoch 99/100\n",
            "5/5 [==============================] - 0s 9ms/step - loss: 11.4638 - val_loss: 13.5079\n",
            "Epoch 100/100\n",
            "5/5 [==============================] - 0s 7ms/step - loss: 11.3878 - val_loss: 13.4030\n"
          ],
          "name": "stdout"
        },
        {
          "output_type": "execute_result",
          "data": {
            "text/plain": [
              "<tensorflow.python.keras.callbacks.History at 0x7f3073455490>"
            ]
          },
          "metadata": {
            "tags": []
          },
          "execution_count": 13
        }
      ]
    },
    {
      "cell_type": "markdown",
      "metadata": {
        "id": "cl7D4qePcLz6"
      },
      "source": [
        "### 검증 데이터로 예측하기"
      ]
    },
    {
      "cell_type": "code",
      "metadata": {
        "colab": {
          "base_uri": "https://localhost:8080/",
          "height": 265
        },
        "id": "DSDFaX_ZcKDQ",
        "outputId": "0fdb9b6d-5b65-4610-ad4e-f13008537379"
      },
      "source": [
        "y_pred = model.predict(x_val)\n",
        "\n",
        "plt.scatter(x_val, y_val)\n",
        "plt.scatter(x_val, y_pred, color='r')\n",
        "plt.show()"
      ],
      "execution_count": 14,
      "outputs": [
        {
          "output_type": "display_data",
          "data": {
            "image/png": "[encoded data removed]",
            "text/plain": [
              "<Figure size 432x288 with 1 Axes>"
            ]
          },
          "metadata": {
            "tags": [],
            "needs_background": "light"
          }
        }
      ]
    },
    {
      "cell_type": "markdown",
      "metadata": {
        "id": "X5mgiMiCyVPI"
      },
      "source": [
        "## 광고 데이터 예측하기 (Multi-variable linear regression)\n",
        "\n",
        "TV, Newspaper, Radio 광고 금액으로 Sales 예측하기"
      ]
    },
    {
      "cell_type": "code",
      "metadata": {
        "colab": {
          "base_uri": "https://localhost:8080/"
        },
        "id": "-QHEaAyIZTHn",
        "outputId": "30237a31-0d56-43eb-ea36-2e923538f097"
      },
      "source": [
        "from tensorflow.keras.models import Sequential\n",
        "from tensorflow.keras.layers import Dense\n",
        "from tensorflow.keras.optimizers import Adam, SGD\n",
        "import numpy as np\n",
        "import pandas as pd\n",
        "import matplotlib.pyplot as plt \n",
        "import seaborn as sns\n",
        "from sklearn.model_selection import train_test_split\n",
        "\n",
        "df = pd.read_csv('advertising.csv')\n",
        "\n",
        "x_data = np.array(df[['TV', 'Newspaper', 'Radio']], dtype=np.float32)\n",
        "y_data = np.array(df['Sales'], dtype=np.float32)\n",
        "\n",
        "x_data = x_data.reshape((-1, 3))\n",
        "y_data = y_data.reshape((-1, 1))\n",
        "\n",
        "print(x_data.shape)\n",
        "print(y_data.shape)\n",
        "\n",
        "x_train, x_val, y_train, y_val = train_test_split(x_data, y_data, test_size=0.2, random_state=2021)\n",
        "\n",
        "print(x_train.shape, x_val.shape)\n",
        "print(y_train.shape, y_val.shape)\n",
        "\n",
        "model = Sequential([\n",
        "  Dense(1)\n",
        "])\n",
        "\n",
        "model.compile(loss='mean_squared_error', optimizer=Adam(lr=0.1))\n",
        "\n",
        "model.fit(\n",
        "    x_train,\n",
        "    y_train,\n",
        "    validation_data=(x_val, y_val), # 검증 데이터를 넣어주면 한 epoch이 끝날때마다 자동으로 검증\n",
        "    epochs=100 # epochs 복수형으로 쓰기!\n",
        ")"
      ],
      "execution_count": 15,
      "outputs": [
        {
          "output_type": "stream",
          "text": [
            "(200, 3)\n",
            "(200, 1)\n",
            "(160, 3) (40, 3)\n",
            "(160, 1) (40, 1)\n",
            "Epoch 1/100\n"
          ],
          "name": "stdout"
        },
        {
          "output_type": "stream",
          "text": [
            "/usr/local/lib/python3.7/dist-packages/tensorflow/python/keras/optimizer_v2/optimizer_v2.py:375: UserWarning: The `lr` argument is deprecated, use `learning_rate` instead.\n",
            "  \"The `lr` argument is deprecated, use `learning_rate` instead.\")\n"
          ],
          "name": "stderr"
        },
        {
          "output_type": "stream",
          "text": [
            "5/5 [==============================] - 0s 30ms/step - loss: 20855.3164 - val_loss: 7378.1851\n",
            "Epoch 2/100\n",
            "5/5 [==============================] - 0s 6ms/step - loss: 2873.1973 - val_loss: 739.6560\n",
            "Epoch 3/100\n",
            "5/5 [==============================] - 0s 6ms/step - loss: 2018.0039 - val_loss: 3222.3901\n",
            "Epoch 4/100\n",
            "5/5 [==============================] - 0s 7ms/step - loss: 3498.3481 - val_loss: 2308.8384\n",
            "Epoch 5/100\n",
            "5/5 [==============================] - 0s 7ms/step - loss: 1587.5320 - val_loss: 421.9076\n",
            "Epoch 6/100\n",
            "5/5 [==============================] - 0s 7ms/step - loss: 321.5279 - val_loss: 473.1296\n",
            "Epoch 7/100\n",
            "5/5 [==============================] - 0s 7ms/step - loss: 574.5201 - val_loss: 752.3761\n",
            "Epoch 8/100\n",
            "5/5 [==============================] - 0s 7ms/step - loss: 513.7662 - val_loss: 279.0286\n",
            "Epoch 9/100\n",
            "5/5 [==============================] - 0s 7ms/step - loss: 136.9622 - val_loss: 71.5134\n",
            "Epoch 10/100\n",
            "5/5 [==============================] - 0s 6ms/step - loss: 117.0397 - val_loss: 139.9782\n",
            "Epoch 11/100\n",
            "5/5 [==============================] - 0s 6ms/step - loss: 132.4732 - val_loss: 75.7527\n",
            "Epoch 12/100\n",
            "5/5 [==============================] - 0s 6ms/step - loss: 52.9185 - val_loss: 35.8687\n",
            "Epoch 13/100\n",
            "5/5 [==============================] - 0s 8ms/step - loss: 42.1728 - val_loss: 58.1710\n",
            "Epoch 14/100\n",
            "5/5 [==============================] - 0s 7ms/step - loss: 46.0652 - val_loss: 33.7628\n",
            "Epoch 15/100\n",
            "5/5 [==============================] - 0s 9ms/step - loss: 23.9631 - val_loss: 23.1096\n",
            "Epoch 16/100\n",
            "5/5 [==============================] - 0s 6ms/step - loss: 22.7335 - val_loss: 24.7898\n",
            "Epoch 17/100\n",
            "5/5 [==============================] - 0s 7ms/step - loss: 20.3974 - val_loss: 17.7940\n",
            "Epoch 18/100\n",
            "5/5 [==============================] - 0s 6ms/step - loss: 14.6856 - val_loss: 17.0986\n",
            "Epoch 19/100\n",
            "5/5 [==============================] - 0s 7ms/step - loss: 13.5040 - val_loss: 15.4427\n",
            "Epoch 20/100\n",
            "5/5 [==============================] - 0s 11ms/step - loss: 11.3112 - val_loss: 12.9880\n",
            "Epoch 21/100\n",
            "5/5 [==============================] - 0s 12ms/step - loss: 9.6625 - val_loss: 12.1502\n",
            "Epoch 22/100\n",
            "5/5 [==============================] - 0s 6ms/step - loss: 8.8911 - val_loss: 11.3780\n",
            "Epoch 23/100\n",
            "5/5 [==============================] - 0s 8ms/step - loss: 7.9898 - val_loss: 10.8883\n",
            "Epoch 24/100\n",
            "5/5 [==============================] - 0s 6ms/step - loss: 7.6302 - val_loss: 10.6651\n",
            "Epoch 25/100\n",
            "5/5 [==============================] - 0s 6ms/step - loss: 7.1746 - val_loss: 10.0810\n",
            "Epoch 26/100\n",
            "5/5 [==============================] - 0s 6ms/step - loss: 6.7647 - val_loss: 9.8214\n",
            "Epoch 27/100\n",
            "5/5 [==============================] - 0s 6ms/step - loss: 6.5397 - val_loss: 9.6611\n",
            "Epoch 28/100\n",
            "5/5 [==============================] - 0s 6ms/step - loss: 6.3429 - val_loss: 9.5238\n",
            "Epoch 29/100\n",
            "5/5 [==============================] - 0s 6ms/step - loss: 6.1852 - val_loss: 9.3541\n",
            "Epoch 30/100\n",
            "5/5 [==============================] - 0s 9ms/step - loss: 6.1050 - val_loss: 9.2182\n",
            "Epoch 31/100\n",
            "5/5 [==============================] - 0s 8ms/step - loss: 6.0309 - val_loss: 9.1331\n",
            "Epoch 32/100\n",
            "5/5 [==============================] - 0s 7ms/step - loss: 5.9601 - val_loss: 9.0811\n",
            "Epoch 33/100\n",
            "5/5 [==============================] - 0s 6ms/step - loss: 5.9265 - val_loss: 9.0305\n",
            "Epoch 34/100\n",
            "5/5 [==============================] - 0s 7ms/step - loss: 5.9077 - val_loss: 9.0278\n",
            "Epoch 35/100\n",
            "5/5 [==============================] - 0s 7ms/step - loss: 5.8576 - val_loss: 8.9274\n",
            "Epoch 36/100\n",
            "5/5 [==============================] - 0s 6ms/step - loss: 5.8251 - val_loss: 8.8814\n",
            "Epoch 37/100\n",
            "5/5 [==============================] - 0s 7ms/step - loss: 5.8014 - val_loss: 8.8593\n",
            "Epoch 38/100\n",
            "5/5 [==============================] - 0s 6ms/step - loss: 5.7738 - val_loss: 8.8389\n",
            "Epoch 39/100\n",
            "5/5 [==============================] - 0s 7ms/step - loss: 5.8175 - val_loss: 8.7887\n",
            "Epoch 40/100\n",
            "5/5 [==============================] - 0s 8ms/step - loss: 5.7821 - val_loss: 8.8212\n",
            "Epoch 41/100\n",
            "5/5 [==============================] - 0s 7ms/step - loss: 5.7234 - val_loss: 8.7670\n",
            "Epoch 42/100\n",
            "5/5 [==============================] - 0s 9ms/step - loss: 5.6839 - val_loss: 8.7114\n",
            "Epoch 43/100\n",
            "5/5 [==============================] - 0s 7ms/step - loss: 5.6911 - val_loss: 8.6895\n",
            "Epoch 44/100\n",
            "5/5 [==============================] - 0s 8ms/step - loss: 5.6547 - val_loss: 8.6588\n",
            "Epoch 45/100\n",
            "5/5 [==============================] - 0s 11ms/step - loss: 5.6700 - val_loss: 8.6129\n",
            "Epoch 46/100\n",
            "5/5 [==============================] - 0s 9ms/step - loss: 5.6442 - val_loss: 8.6735\n",
            "Epoch 47/100\n",
            "5/5 [==============================] - 0s 8ms/step - loss: 5.6173 - val_loss: 8.6001\n",
            "Epoch 48/100\n",
            "5/5 [==============================] - 0s 7ms/step - loss: 5.5744 - val_loss: 8.5254\n",
            "Epoch 49/100\n",
            "5/5 [==============================] - 0s 7ms/step - loss: 5.5745 - val_loss: 8.4881\n",
            "Epoch 50/100\n",
            "5/5 [==============================] - 0s 7ms/step - loss: 5.5373 - val_loss: 8.5000\n",
            "Epoch 51/100\n",
            "5/5 [==============================] - 0s 7ms/step - loss: 5.5151 - val_loss: 8.4500\n",
            "Epoch 52/100\n",
            "5/5 [==============================] - 0s 7ms/step - loss: 5.4886 - val_loss: 8.4032\n",
            "Epoch 53/100\n",
            "5/5 [==============================] - 0s 12ms/step - loss: 5.5091 - val_loss: 8.4288\n",
            "Epoch 54/100\n",
            "5/5 [==============================] - 0s 6ms/step - loss: 5.4690 - val_loss: 8.3566\n",
            "Epoch 55/100\n",
            "5/5 [==============================] - 0s 6ms/step - loss: 5.4466 - val_loss: 8.3335\n",
            "Epoch 56/100\n",
            "5/5 [==============================] - 0s 7ms/step - loss: 5.4200 - val_loss: 8.3091\n",
            "Epoch 57/100\n",
            "5/5 [==============================] - 0s 9ms/step - loss: 5.3991 - val_loss: 8.2526\n",
            "Epoch 58/100\n",
            "5/5 [==============================] - 0s 7ms/step - loss: 5.3660 - val_loss: 8.2262\n",
            "Epoch 59/100\n",
            "5/5 [==============================] - 0s 7ms/step - loss: 5.3582 - val_loss: 8.2430\n",
            "Epoch 60/100\n",
            "5/5 [==============================] - 0s 7ms/step - loss: 5.3340 - val_loss: 8.1831\n",
            "Epoch 61/100\n",
            "5/5 [==============================] - 0s 9ms/step - loss: 5.2909 - val_loss: 8.1362\n",
            "Epoch 62/100\n",
            "5/5 [==============================] - 0s 10ms/step - loss: 5.2864 - val_loss: 8.1075\n",
            "Epoch 63/100\n",
            "5/5 [==============================] - 0s 9ms/step - loss: 5.3180 - val_loss: 8.1426\n",
            "Epoch 64/100\n",
            "5/5 [==============================] - 0s 7ms/step - loss: 5.2301 - val_loss: 8.0544\n",
            "Epoch 65/100\n",
            "5/5 [==============================] - 0s 7ms/step - loss: 5.2374 - val_loss: 8.0088\n",
            "Epoch 66/100\n",
            "5/5 [==============================] - 0s 8ms/step - loss: 5.2016 - val_loss: 7.9751\n",
            "Epoch 67/100\n",
            "5/5 [==============================] - 0s 7ms/step - loss: 5.1625 - val_loss: 7.9864\n",
            "Epoch 68/100\n",
            "5/5 [==============================] - 0s 7ms/step - loss: 5.1698 - val_loss: 7.9299\n",
            "Epoch 69/100\n",
            "5/5 [==============================] - 0s 8ms/step - loss: 5.1268 - val_loss: 7.8847\n",
            "Epoch 70/100\n",
            "5/5 [==============================] - 0s 8ms/step - loss: 5.1244 - val_loss: 7.8612\n",
            "Epoch 71/100\n",
            "5/5 [==============================] - 0s 7ms/step - loss: 5.1092 - val_loss: 7.8299\n",
            "Epoch 72/100\n",
            "5/5 [==============================] - 0s 7ms/step - loss: 5.0628 - val_loss: 7.8187\n",
            "Epoch 73/100\n",
            "5/5 [==============================] - 0s 8ms/step - loss: 5.1705 - val_loss: 7.8504\n",
            "Epoch 74/100\n",
            "5/5 [==============================] - 0s 7ms/step - loss: 5.0118 - val_loss: 7.7467\n",
            "Epoch 75/100\n",
            "5/5 [==============================] - 0s 7ms/step - loss: 5.0567 - val_loss: 7.6964\n",
            "Epoch 76/100\n",
            "5/5 [==============================] - 0s 7ms/step - loss: 5.0694 - val_loss: 7.7518\n",
            "Epoch 77/100\n",
            "5/5 [==============================] - 0s 7ms/step - loss: 4.9826 - val_loss: 7.6311\n",
            "Epoch 78/100\n",
            "5/5 [==============================] - 0s 8ms/step - loss: 5.0281 - val_loss: 7.6082\n",
            "Epoch 79/100\n",
            "5/5 [==============================] - 0s 7ms/step - loss: 4.9140 - val_loss: 7.6265\n",
            "Epoch 80/100\n",
            "5/5 [==============================] - 0s 7ms/step - loss: 5.0735 - val_loss: 7.6829\n",
            "Epoch 81/100\n",
            "5/5 [==============================] - 0s 7ms/step - loss: 4.8546 - val_loss: 7.5189\n",
            "Epoch 82/100\n",
            "5/5 [==============================] - 0s 7ms/step - loss: 4.9337 - val_loss: 7.4644\n",
            "Epoch 83/100\n",
            "5/5 [==============================] - 0s 6ms/step - loss: 4.8282 - val_loss: 7.5598\n",
            "Epoch 84/100\n",
            "5/5 [==============================] - 0s 9ms/step - loss: 4.8881 - val_loss: 7.4324\n",
            "Epoch 85/100\n",
            "5/5 [==============================] - 0s 6ms/step - loss: 4.8005 - val_loss: 7.3894\n",
            "Epoch 86/100\n",
            "5/5 [==============================] - 0s 7ms/step - loss: 4.7764 - val_loss: 7.3806\n",
            "Epoch 87/100\n",
            "5/5 [==============================] - 0s 8ms/step - loss: 4.7441 - val_loss: 7.3452\n",
            "Epoch 88/100\n",
            "5/5 [==============================] - 0s 7ms/step - loss: 4.7365 - val_loss: 7.3140\n",
            "Epoch 89/100\n",
            "5/5 [==============================] - 0s 8ms/step - loss: 4.7111 - val_loss: 7.2754\n",
            "Epoch 90/100\n",
            "5/5 [==============================] - 0s 7ms/step - loss: 4.7035 - val_loss: 7.2499\n",
            "Epoch 91/100\n",
            "5/5 [==============================] - 0s 7ms/step - loss: 4.6781 - val_loss: 7.1962\n",
            "Epoch 92/100\n",
            "5/5 [==============================] - 0s 6ms/step - loss: 4.7103 - val_loss: 7.1607\n",
            "Epoch 93/100\n",
            "5/5 [==============================] - 0s 8ms/step - loss: 4.6637 - val_loss: 7.1487\n",
            "Epoch 94/100\n",
            "5/5 [==============================] - 0s 7ms/step - loss: 4.6370 - val_loss: 7.1564\n",
            "Epoch 95/100\n",
            "5/5 [==============================] - 0s 7ms/step - loss: 4.5919 - val_loss: 7.1104\n",
            "Epoch 96/100\n",
            "5/5 [==============================] - 0s 7ms/step - loss: 4.6386 - val_loss: 7.0478\n",
            "Epoch 97/100\n",
            "5/5 [==============================] - 0s 6ms/step - loss: 4.5868 - val_loss: 7.0678\n",
            "Epoch 98/100\n",
            "5/5 [==============================] - 0s 7ms/step - loss: 4.5206 - val_loss: 6.9931\n",
            "Epoch 99/100\n",
            "5/5 [==============================] - 0s 7ms/step - loss: 4.5241 - val_loss: 6.9680\n",
            "Epoch 100/100\n",
            "5/5 [==============================] - 0s 7ms/step - loss: 4.5027 - val_loss: 6.9347\n"
          ],
          "name": "stdout"
        },
        {
          "output_type": "execute_result",
          "data": {
            "text/plain": [
              "<tensorflow.python.keras.callbacks.History at 0x7f30700fde10>"
            ]
          },
          "metadata": {
            "tags": []
          },
          "execution_count": 15
        }
      ]
    },
    {
      "cell_type": "code",
      "metadata": {
        "colab": {
          "base_uri": "https://localhost:8080/"
        },
        "id": "-v5iXZoUe0AO",
        "outputId": "7da12b07-c64a-4292-9047-0a21c79aa78c"
      },
      "source": [
        "y_pred = model.predict(x_val)\n",
        "\n",
        "print(y_pred.shape)"
      ],
      "execution_count": 16,
      "outputs": [
        {
          "output_type": "stream",
          "text": [
            "(40, 1)\n"
          ],
          "name": "stdout"
        }
      ]
    },
    {
      "cell_type": "markdown",
      "metadata": {
        "id": "Y_0oPW6QXNrk"
      },
      "source": [
        "3차원으로 그리기 힘들어서 변수를 쪼개서 그래프를 그려 비교"
      ]
    },
    {
      "cell_type": "markdown",
      "metadata": {
        "id": "m1lZi6pshMEj"
      },
      "source": [
        "## TV 데이터 예측 그래프"
      ]
    },
    {
      "cell_type": "code",
      "metadata": {
        "colab": {
          "base_uri": "https://localhost:8080/",
          "height": 265
        },
        "id": "kHC3fszphZLT",
        "outputId": "3bc45c74-33ea-4040-8fb7-52cb783e9201"
      },
      "source": [
        "plt.scatter(x_val[:, 0], y_val)\n",
        "plt.scatter(x_val[:, 0], y_pred, color='r')\n",
        "plt.show()"
      ],
      "execution_count": 17,
      "outputs": [
        {
          "output_type": "display_data",
          "data": {
            "image/png": "[encoded data removed]",
            "text/plain": [
              "<Figure size 432x288 with 1 Axes>"
            ]
          },
          "metadata": {
            "tags": [],
            "needs_background": "light"
          }
        }
      ]
    },
    {
      "cell_type": "markdown",
      "metadata": {
        "id": "cZfBsfSbhPN4"
      },
      "source": [
        "## Newspaper 데이터 예측 그래프"
      ]
    },
    {
      "cell_type": "code",
      "metadata": {
        "colab": {
          "base_uri": "https://localhost:8080/",
          "height": 265
        },
        "id": "TPsCzdPshBVU",
        "outputId": "7e922363-a086-434b-b06e-d30a3f6b76e0"
      },
      "source": [
        "plt.scatter(x_val[:, 1], y_val)\n",
        "plt.scatter(x_val[:, 1], y_pred, color='r')\n",
        "plt.show()"
      ],
      "execution_count": 18,
      "outputs": [
        {
          "output_type": "display_data",
          "data": {
            "image/png": "[encoded data removed]",
            "text/plain": [
              "<Figure size 432x288 with 1 Axes>"
            ]
          },
          "metadata": {
            "tags": [],
            "needs_background": "light"
          }
        }
      ]
    },
    {
      "cell_type": "markdown",
      "metadata": {
        "id": "vjR5zH3gme5P"
      },
      "source": [
        "### Radio 데이터 예측 그래프"
      ]
    },
    {
      "cell_type": "code",
      "metadata": {
        "colab": {
          "base_uri": "https://localhost:8080/",
          "height": 265
        },
        "id": "yxcB-JEmhIcO",
        "outputId": "3deeed6a-522a-4f6f-9d99-bf75d34e6d9f"
      },
      "source": [
        "plt.scatter(x_val[:, 2], y_val)\n",
        "plt.scatter(x_val[:, 2], y_pred, color='r')\n",
        "plt.show()"
      ],
      "execution_count": 19,
      "outputs": [
        {
          "output_type": "display_data",
          "data": {
            "image/png": "[encoded data removed]",
            "text/plain": [
              "<Figure size 432x288 with 1 Axes>"
            ]
          },
          "metadata": {
            "tags": [],
            "needs_background": "light"
          }
        }
      ]
    },
    {
      "cell_type": "markdown",
      "metadata": {
        "id": "LPcPlwzIXQmB"
      },
      "source": [
        "예측이 잘 됨"
      ]
    },
    {
      "cell_type": "code",
      "metadata": {
        "id": "g3hH1c-kmhSz"
      },
      "source": [
        ""
      ],
      "execution_count": null,
      "outputs": []
    }
  ]
}