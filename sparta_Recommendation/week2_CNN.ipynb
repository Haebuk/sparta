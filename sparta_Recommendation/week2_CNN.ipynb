{
  "nbformat": 4,
  "nbformat_minor": 0,
  "metadata": {
    "colab": {
      "name": "week2_CNN.ipynb",
      "provenance": [],
      "collapsed_sections": []
    },
    "kernelspec": {
      "name": "python3",
      "display_name": "Python 3"
    },
    "language_info": {
      "name": "python"
    },
    "accelerator": "GPU"
  },
  "cells": [
    {
      "cell_type": "code",
      "metadata": {
        "colab": {
          "base_uri": "https://localhost:8080/"
        },
        "id": "G38ujsVZUXsn",
        "outputId": "902613c8-0171-4414-dfc5-f10184e5fcc4"
      },
      "source": [
        "import numpy as np\n",
        "from tensorflow.keras.utils import to_categorical\n",
        "from keras.datasets import fashion_mnist\n",
        "import matplotlib.pyplot as plt\n",
        "\n",
        "(train_X, train_Y), (test_X, test_Y) = fashion_mnist.load_data()\n",
        "print('Training data shape:', train_X.shape, train_Y.shape)\n",
        "print('Testing data shape:', test_X.shape, test_Y.shape)"
      ],
      "execution_count": null,
      "outputs": [
        {
          "output_type": "stream",
          "text": [
            "Downloading data from https://storage.googleapis.com/tensorflow/tf-keras-datasets/train-labels-idx1-ubyte.gz\n",
            "32768/29515 [=================================] - 0s 0us/step\n",
            "40960/29515 [=========================================] - 0s 0us/step\n",
            "Downloading data from https://storage.googleapis.com/tensorflow/tf-keras-datasets/train-images-idx3-ubyte.gz\n",
            "26427392/26421880 [==============================] - 0s 0us/step\n",
            "26435584/26421880 [==============================] - 0s 0us/step\n",
            "Downloading data from https://storage.googleapis.com/tensorflow/tf-keras-datasets/t10k-labels-idx1-ubyte.gz\n",
            "16384/5148 [===============================================================================================] - 0s 0us/step\n",
            "Downloading data from https://storage.googleapis.com/tensorflow/tf-keras-datasets/t10k-images-idx3-ubyte.gz\n",
            "4423680/4422102 [==============================] - 0s 0us/step\n",
            "4431872/4422102 [==============================] - 0s 0us/step\n",
            "Training data shape: (60000, 28, 28) (60000,)\n",
            "Testing data shape: (10000, 28, 28) (10000,)\n"
          ],
          "name": "stdout"
        }
      ]
    },
    {
      "cell_type": "markdown",
      "metadata": {
        "id": "yzOTOthnY3nh"
      },
      "source": [
        "# output 종류 및 형태 확인"
      ]
    },
    {
      "cell_type": "code",
      "metadata": {
        "colab": {
          "base_uri": "https://localhost:8080/"
        },
        "id": "r6TOm51MUryF",
        "outputId": "efc45612-9fde-42fb-886d-908db68c88a0"
      },
      "source": [
        "# Find the unique numbers from the train labels\n",
        "classes = np.unique(train_Y)\n",
        "nClasses = len(classes)\n",
        "print('Total number of outputs:', nClasses)\n",
        "print('Output classes:', classes)"
      ],
      "execution_count": null,
      "outputs": [
        {
          "output_type": "stream",
          "text": [
            "Total number of outputs: 10\n",
            "Output classes: [0 1 2 3 4 5 6 7 8 9]\n"
          ],
          "name": "stdout"
        }
      ]
    },
    {
      "cell_type": "markdown",
      "metadata": {
        "id": "RzqJE2XHY5nI"
      },
      "source": [
        "# 샘플 데이터 확인"
      ]
    },
    {
      "cell_type": "code",
      "metadata": {
        "colab": {
          "base_uri": "https://localhost:8080/",
          "height": 191
        },
        "id": "lsryuE45U5j0",
        "outputId": "fc5a72ed-231d-4c12-98c0-e5cff19b323e"
      },
      "source": [
        "plt.figure(figsize=[5, 5])\n",
        "\n",
        "# Display the first image in training data\n",
        "plt.subplot(121)\n",
        "plt.imshow(train_X[0, :, :], cmap='gray')\n",
        "plt.title(\"Ground Truth: {}\".format(train_Y[0]))\n",
        "\n",
        "plt.subplot(122)\n",
        "plt.imshow(test_X[0, :, :], cmap='gray')\n",
        "plt.title(\"Ground Truth: {}\".format(test_Y[0]))\n",
        "\n",
        "plt.show()"
      ],
      "execution_count": null,
      "outputs": [
        {
          "output_type": "display_data",
          "data": {
            "image/png": "[encoded data removed]",
            "text/plain": [
              "<Figure size 360x360 with 2 Axes>"
            ]
          },
          "metadata": {
            "tags": [],
            "needs_background": "light"
          }
        }
      ]
    },
    {
      "cell_type": "markdown",
      "metadata": {
        "id": "VUOtfA1JY7C3"
      },
      "source": [
        "# 데이터 채널 추가"
      ]
    },
    {
      "cell_type": "code",
      "metadata": {
        "colab": {
          "base_uri": "https://localhost:8080/"
        },
        "id": "d1vdOstXVJxc",
        "outputId": "b36c2636-2502-41b8-8be0-3b25947eef1e"
      },
      "source": [
        "train_X = train_X.reshape(-1, 28, 28, 1)\n",
        "test_X = test_X.reshape(-1, 28, 28, 1)\n",
        "train_X.shape, test_X.shape"
      ],
      "execution_count": null,
      "outputs": [
        {
          "output_type": "execute_result",
          "data": {
            "text/plain": [
              "((60000, 28, 28, 1), (10000, 28, 28, 1))"
            ]
          },
          "metadata": {
            "tags": []
          },
          "execution_count": 5
        }
      ]
    },
    {
      "cell_type": "markdown",
      "metadata": {
        "id": "Hynwi7U5Y8MT"
      },
      "source": [
        "# 데이터 정규화"
      ]
    },
    {
      "cell_type": "code",
      "metadata": {
        "id": "ymObPG8nVYv0"
      },
      "source": [
        "train_X = train_X.astype('float32')\n",
        "test_X = test_X.astype('float32')\n",
        "train_X = train_X / 255.\n",
        "test_X = test_X / 255."
      ],
      "execution_count": null,
      "outputs": []
    },
    {
      "cell_type": "markdown",
      "metadata": {
        "id": "pR19ezBzY-NN"
      },
      "source": [
        "# 원핫인코딩"
      ]
    },
    {
      "cell_type": "code",
      "metadata": {
        "colab": {
          "base_uri": "https://localhost:8080/"
        },
        "id": "3-FpWRoLVg58",
        "outputId": "96308f29-bd47-4fc2-a943-76d8e9ac6e86"
      },
      "source": [
        "# Change the labels from categorical to one-hot encoding\n",
        "train_Y_one_hot = to_categorical(train_Y)\n",
        "test_Y_one_hot = to_categorical(test_Y)\n",
        "\n",
        "# Display the change for category label using one-hot encoding\n",
        "print('Original label:', train_Y[0])\n",
        "print('After conversion to one-hot:', train_Y_one_hot[0])"
      ],
      "execution_count": null,
      "outputs": [
        {
          "output_type": "stream",
          "text": [
            "Original label: 9\n",
            "After conversion to one-hot: [0. 0. 0. 0. 0. 0. 0. 0. 0. 1.]\n"
          ],
          "name": "stdout"
        }
      ]
    },
    {
      "cell_type": "markdown",
      "metadata": {
        "id": "PZpwI4nNZPU_"
      },
      "source": [
        "# 데이터 분할"
      ]
    },
    {
      "cell_type": "code",
      "metadata": {
        "colab": {
          "base_uri": "https://localhost:8080/"
        },
        "id": "7PwZ6mj9VymU",
        "outputId": "5da58605-862e-404a-c185-eaa8236edbc3"
      },
      "source": [
        "from sklearn.model_selection import train_test_split\n",
        "train_X, valid_X, train_label, valid_label = train_test_split(train_X, train_Y_one_hot,\n",
        "                                                              test_size=0.2, random_state=13)\n",
        "train_X.shape, valid_X.shape, train_label.shape, valid_label.shape"
      ],
      "execution_count": null,
      "outputs": [
        {
          "output_type": "execute_result",
          "data": {
            "text/plain": [
              "((48000, 28, 28, 1), (12000, 28, 28, 1), (48000, 10), (12000, 10))"
            ]
          },
          "metadata": {
            "tags": []
          },
          "execution_count": 8
        }
      ]
    },
    {
      "cell_type": "markdown",
      "metadata": {
        "id": "SGqyK7N8ZRAP"
      },
      "source": [
        "# 모델 정의"
      ]
    },
    {
      "cell_type": "code",
      "metadata": {
        "id": "461RAF-1WDuE"
      },
      "source": [
        "import keras\n",
        "from keras.models import Sequential, Input, Model\n",
        "from keras.layers import Dense, Dropout, Flatten\n",
        "from keras.layers import Conv2D, MaxPooling2D\n",
        "from keras.layers.normalization import BatchNormalization\n",
        "from keras.layers.advanced_activations import LeakyReLU\n",
        "batch_size = 64\n",
        "epochs = 20\n",
        "num_classes = 10"
      ],
      "execution_count": null,
      "outputs": []
    },
    {
      "cell_type": "code",
      "metadata": {
        "colab": {
          "base_uri": "https://localhost:8080/"
        },
        "id": "pFStGx-IWWp0",
        "outputId": "5f971dcb-35a6-4530-983d-5a9345e06182"
      },
      "source": [
        "fashion_model = Sequential()\n",
        "fashion_model.add(Conv2D(32, kernel_size=(3, 3), activation='linear', input_shape=(28, 28, 1), padding='same'))\n",
        "fashion_model.add(LeakyReLU(alpha=0.1))\n",
        "fashion_model.add(MaxPooling2D((2, 2), padding='same'))\n",
        "fashion_model.add(Conv2D(64, (3, 3), activation='linear', padding='same'))\n",
        "fashion_model.add(LeakyReLU(alpha=0.1))\n",
        "fashion_model.add(MaxPooling2D((2, 2), padding='same'))\n",
        "fashion_model.add(Conv2D(128, (3, 3), activation='linear', padding='same'))\n",
        "fashion_model.add(LeakyReLU(alpha=0.1))\n",
        "fashion_model.add(MaxPooling2D((2, 2), padding='same'))\n",
        "fashion_model.add(Flatten())\n",
        "fashion_model.add(Dense(128, activation='linear'))\n",
        "fashion_model.add(LeakyReLU(alpha=0.1))\n",
        "fashion_model.add(Dense(num_classes, activation='softmax'))\n",
        "\n",
        "fashion_model.compile(optimizer='adam',\n",
        "                      loss='categorical_crossentropy',\n",
        "                      metrics=['acc'])\n",
        "\n",
        "fashion_model.summary()"
      ],
      "execution_count": null,
      "outputs": [
        {
          "output_type": "stream",
          "text": [
            "Model: \"sequential\"\n",
            "_________________________________________________________________\n",
            "Layer (type)                 Output Shape              Param #   \n",
            "=================================================================\n",
            "conv2d (Conv2D)              (None, 28, 28, 32)        320       \n",
            "_________________________________________________________________\n",
            "leaky_re_lu (LeakyReLU)      (None, 28, 28, 32)        0         \n",
            "_________________________________________________________________\n",
            "max_pooling2d (MaxPooling2D) (None, 14, 14, 32)        0         \n",
            "_________________________________________________________________\n",
            "conv2d_1 (Conv2D)            (None, 14, 14, 64)        18496     \n",
            "_________________________________________________________________\n",
            "leaky_re_lu_1 (LeakyReLU)    (None, 14, 14, 64)        0         \n",
            "_________________________________________________________________\n",
            "max_pooling2d_1 (MaxPooling2 (None, 7, 7, 64)          0         \n",
            "_________________________________________________________________\n",
            "conv2d_2 (Conv2D)            (None, 7, 7, 128)         73856     \n",
            "_________________________________________________________________\n",
            "leaky_re_lu_2 (LeakyReLU)    (None, 7, 7, 128)         0         \n",
            "_________________________________________________________________\n",
            "max_pooling2d_2 (MaxPooling2 (None, 4, 4, 128)         0         \n",
            "_________________________________________________________________\n",
            "flatten (Flatten)            (None, 2048)              0         \n",
            "_________________________________________________________________\n",
            "dense (Dense)                (None, 128)               262272    \n",
            "_________________________________________________________________\n",
            "leaky_re_lu_3 (LeakyReLU)    (None, 128)               0         \n",
            "_________________________________________________________________\n",
            "dense_1 (Dense)              (None, 10)                1290      \n",
            "=================================================================\n",
            "Total params: 356,234\n",
            "Trainable params: 356,234\n",
            "Non-trainable params: 0\n",
            "_________________________________________________________________\n"
          ],
          "name": "stdout"
        }
      ]
    },
    {
      "cell_type": "markdown",
      "metadata": {
        "id": "HvbWQoCoZcwM"
      },
      "source": [
        "# 모델 학습"
      ]
    },
    {
      "cell_type": "code",
      "metadata": {
        "colab": {
          "base_uri": "https://localhost:8080/"
        },
        "id": "2LKnYKDmXQBi",
        "outputId": "be584b36-498e-483d-a340-3c6d8bff5d89"
      },
      "source": [
        "fashion_train = fashion_model.fit(train_X, train_label,\n",
        "                                  batch_size=batch_size,\n",
        "                                  epochs=epochs,\n",
        "                                  validation_data=(valid_X, valid_label))\n",
        "\n",
        "test_eval = fashion_model.evaluate(test_X, test_Y_one_hot, verbose=0)\n",
        "print('Test loss:', test_eval[0])\n",
        "print('Test acc:', test_eval[1])"
      ],
      "execution_count": null,
      "outputs": [
        {
          "output_type": "stream",
          "text": [
            "Epoch 1/20\n",
            "750/750 [==============================] - 34s 6ms/step - loss: 0.6814 - acc: 0.7510 - val_loss: 0.3354 - val_acc: 0.8804\n",
            "Epoch 2/20\n",
            "750/750 [==============================] - 4s 5ms/step - loss: 0.3057 - acc: 0.8882 - val_loss: 0.3076 - val_acc: 0.8848\n",
            "Epoch 3/20\n",
            "750/750 [==============================] - 4s 5ms/step - loss: 0.2410 - acc: 0.9102 - val_loss: 0.2489 - val_acc: 0.9080\n",
            "Epoch 4/20\n",
            "750/750 [==============================] - 4s 5ms/step - loss: 0.2093 - acc: 0.9229 - val_loss: 0.2579 - val_acc: 0.9042\n",
            "Epoch 5/20\n",
            "750/750 [==============================] - 4s 5ms/step - loss: 0.1858 - acc: 0.9301 - val_loss: 0.2480 - val_acc: 0.9127\n",
            "Epoch 6/20\n",
            "750/750 [==============================] - 4s 5ms/step - loss: 0.1591 - acc: 0.9424 - val_loss: 0.2294 - val_acc: 0.9208\n",
            "Epoch 7/20\n",
            "750/750 [==============================] - 4s 5ms/step - loss: 0.1351 - acc: 0.9490 - val_loss: 0.2264 - val_acc: 0.9215\n",
            "Epoch 8/20\n",
            "750/750 [==============================] - 4s 5ms/step - loss: 0.1196 - acc: 0.9559 - val_loss: 0.2381 - val_acc: 0.9192\n",
            "Epoch 9/20\n",
            "750/750 [==============================] - 4s 5ms/step - loss: 0.1000 - acc: 0.9633 - val_loss: 0.2639 - val_acc: 0.9182\n",
            "Epoch 10/20\n",
            "750/750 [==============================] - 3s 5ms/step - loss: 0.0820 - acc: 0.9685 - val_loss: 0.2738 - val_acc: 0.9233\n",
            "Epoch 11/20\n",
            "750/750 [==============================] - 4s 5ms/step - loss: 0.0745 - acc: 0.9726 - val_loss: 0.2805 - val_acc: 0.9222\n",
            "Epoch 12/20\n",
            "750/750 [==============================] - 4s 5ms/step - loss: 0.0599 - acc: 0.9771 - val_loss: 0.2955 - val_acc: 0.9222\n",
            "Epoch 13/20\n",
            "750/750 [==============================] - 4s 5ms/step - loss: 0.0493 - acc: 0.9812 - val_loss: 0.3132 - val_acc: 0.9206\n",
            "Epoch 14/20\n",
            "750/750 [==============================] - 4s 5ms/step - loss: 0.0412 - acc: 0.9848 - val_loss: 0.3547 - val_acc: 0.9167\n",
            "Epoch 15/20\n",
            "750/750 [==============================] - 4s 5ms/step - loss: 0.0404 - acc: 0.9856 - val_loss: 0.3472 - val_acc: 0.9198\n",
            "Epoch 16/20\n",
            "750/750 [==============================] - 4s 5ms/step - loss: 0.0358 - acc: 0.9874 - val_loss: 0.3842 - val_acc: 0.9166\n",
            "Epoch 17/20\n",
            "750/750 [==============================] - 4s 5ms/step - loss: 0.0344 - acc: 0.9872 - val_loss: 0.3985 - val_acc: 0.9197\n",
            "Epoch 18/20\n",
            "750/750 [==============================] - 4s 5ms/step - loss: 0.0295 - acc: 0.9891 - val_loss: 0.4146 - val_acc: 0.9172\n",
            "Epoch 19/20\n",
            "750/750 [==============================] - 4s 5ms/step - loss: 0.0300 - acc: 0.9884 - val_loss: 0.4715 - val_acc: 0.9177\n",
            "Epoch 20/20\n",
            "750/750 [==============================] - 4s 5ms/step - loss: 0.0237 - acc: 0.9911 - val_loss: 0.4386 - val_acc: 0.9200\n",
            "Test loss: 0.45184195041656494\n",
            "Test acc: 0.9164000153541565\n"
          ],
          "name": "stdout"
        }
      ]
    },
    {
      "cell_type": "markdown",
      "metadata": {
        "id": "K2l10VC2ZdyM"
      },
      "source": [
        "# 모델 성능 확인"
      ]
    },
    {
      "cell_type": "code",
      "metadata": {
        "colab": {
          "base_uri": "https://localhost:8080/",
          "height": 545
        },
        "id": "Rd37e7hNXoaG",
        "outputId": "d319653f-24f7-40e1-f748-a789d0a52fc3"
      },
      "source": [
        "accuracy = fashion_train.history['acc']\n",
        "val_accuracy = fashion_train.history['val_acc']\n",
        "loss = fashion_train.history['loss']\n",
        "val_loss = fashion_train.history['val_loss']\n",
        "epochs = range(len(accuracy))\n",
        "plt.plot(epochs, accuracy, 'bo', label='Training accuracy')\n",
        "plt.plot(epochs, val_accuracy, 'b', label='Validation accuracy')\n",
        "plt.title('Training and Validation accuracy')\n",
        "plt.legend()\n",
        "plt.figure()\n",
        "plt.plot(epochs, loss, 'bo', label='Training loss')\n",
        "plt.plot(epochs, val_loss, 'b', label='Validation loss')\n",
        "plt.title('Training and Validation loss')\n",
        "plt.legend()\n",
        "plt.show()"
      ],
      "execution_count": null,
      "outputs": [
        {
          "output_type": "display_data",
          "data": {
            "image/png": "[encoded data removed]",
            "text/plain": [
              "<Figure size 432x288 with 1 Axes>"
            ]
          },
          "metadata": {
            "tags": [],
            "needs_background": "light"
          }
        },
        {
          "output_type": "display_data",
          "data": {
            "image/png": "[encoded data removed]",
            "text/plain": [
              "<Figure size 432x288 with 1 Axes>"
            ]
          },
          "metadata": {
            "tags": [],
            "needs_background": "light"
          }
        }
      ]
    },
    {
      "cell_type": "code",
      "metadata": {
        "id": "m7tK2eWuYnLV"
      },
      "source": [
        ""
      ],
      "execution_count": null,
      "outputs": []
    }
  ]
}