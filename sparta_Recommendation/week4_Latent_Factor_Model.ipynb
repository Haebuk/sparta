{
  "nbformat": 4,
  "nbformat_minor": 0,
  "metadata": {
    "colab": {
      "name": "week4_Latent_Factor_Model.ipynb",
      "provenance": [],
      "collapsed_sections": []
    },
    "kernelspec": {
      "name": "python3",
      "display_name": "Python 3"
    },
    "language_info": {
      "name": "python"
    }
  },
  "cells": [
    {
      "cell_type": "code",
      "metadata": {
        "id": "oLi_vYkdtfkl"
      },
      "source": [
        "import torch\n",
        "import pandas as pd\n",
        "import torch.nn.functional as F\n",
        "import matplotlib.pyplot as plt\n",
        "\n",
        "path = '/content/drive/MyDrive/input/ml-100k/'"
      ],
      "execution_count": 5,
      "outputs": []
    },
    {
      "cell_type": "code",
      "metadata": {
        "colab": {
          "base_uri": "https://localhost:8080/",
          "height": 204
        },
        "id": "HEulr4I0ubQn",
        "outputId": "4cbdada3-fcfa-41f3-fc6a-5262e94d3fbf"
      },
      "source": [
        "train = pd.read_csv(path + 'ua.base', sep='\\t',\n",
        "                    names=['user', 'movie', 'rating', 'timestamp'])\n",
        "test = pd.read_csv(path + 'ua.test', sep='\\t',\n",
        "                    names=['user', 'movie', 'rating', 'timestamp'])\n",
        "\n",
        "train.head()"
      ],
      "execution_count": 6,
      "outputs": [
        {
          "output_type": "execute_result",
          "data": {
            "text/html": [
              "<div>\n",
              "<style scoped>\n",
              "    .dataframe tbody tr th:only-of-type {\n",
              "        vertical-align: middle;\n",
              "    }\n",
              "\n",
              "    .dataframe tbody tr th {\n",
              "        vertical-align: top;\n",
              "    }\n",
              "\n",
              "    .dataframe thead th {\n",
              "        text-align: right;\n",
              "    }\n",
              "</style>\n",
              "<table border=\"1\" class=\"dataframe\">\n",
              "  <thead>\n",
              "    <tr style=\"text-align: right;\">\n",
              "      <th></th>\n",
              "      <th>user</th>\n",
              "      <th>movie</th>\n",
              "      <th>rating</th>\n",
              "      <th>timestamp</th>\n",
              "    </tr>\n",
              "  </thead>\n",
              "  <tbody>\n",
              "    <tr>\n",
              "      <th>0</th>\n",
              "      <td>1</td>\n",
              "      <td>1</td>\n",
              "      <td>5</td>\n",
              "      <td>874965758</td>\n",
              "    </tr>\n",
              "    <tr>\n",
              "      <th>1</th>\n",
              "      <td>1</td>\n",
              "      <td>2</td>\n",
              "      <td>3</td>\n",
              "      <td>876893171</td>\n",
              "    </tr>\n",
              "    <tr>\n",
              "      <th>2</th>\n",
              "      <td>1</td>\n",
              "      <td>3</td>\n",
              "      <td>4</td>\n",
              "      <td>878542960</td>\n",
              "    </tr>\n",
              "    <tr>\n",
              "      <th>3</th>\n",
              "      <td>1</td>\n",
              "      <td>4</td>\n",
              "      <td>3</td>\n",
              "      <td>876893119</td>\n",
              "    </tr>\n",
              "    <tr>\n",
              "      <th>4</th>\n",
              "      <td>1</td>\n",
              "      <td>5</td>\n",
              "      <td>3</td>\n",
              "      <td>889751712</td>\n",
              "    </tr>\n",
              "  </tbody>\n",
              "</table>\n",
              "</div>"
            ],
            "text/plain": [
              "   user  movie  rating  timestamp\n",
              "0     1      1       5  874965758\n",
              "1     1      2       3  876893171\n",
              "2     1      3       4  878542960\n",
              "3     1      4       3  876893119\n",
              "4     1      5       3  889751712"
            ]
          },
          "metadata": {},
          "execution_count": 6
        }
      ]
    },
    {
      "cell_type": "markdown",
      "metadata": {
        "id": "IeHwO0VEusdD"
      },
      "source": [
        "# 토치 텐서로 변환"
      ]
    },
    {
      "cell_type": "code",
      "metadata": {
        "id": "lE4zGHwSujxd"
      },
      "source": [
        "items = torch.LongTensor(train['movie'])\n",
        "users = torch.LongTensor(train['user'])\n",
        "ratings = torch.FloatTensor(train['rating'])\n",
        "items_test = torch.LongTensor(test['movie'])\n",
        "users_test = torch.LongTensor(test['user'])\n",
        "ratings_test = torch.FloatTensor(test['rating'])"
      ],
      "execution_count": 7,
      "outputs": []
    },
    {
      "cell_type": "markdown",
      "metadata": {
        "id": "qAOgzTtAvUpl"
      },
      "source": [
        "# 모델 구조화 및 시각화"
      ]
    },
    {
      "cell_type": "code",
      "metadata": {
        "colab": {
          "base_uri": "https://localhost:8080/",
          "height": 460
        },
        "id": "7vo9Plj7ut1d",
        "outputId": "8dcef0c3-dd53-4540-cc6f-e9ad15c99d2f"
      },
      "source": [
        "# rank → 사용자, 아이템 vector의 차원\n",
        "# numUsers → 사용자 수\n",
        "# numItems → 아이템 수\n",
        "# P → 아이템 매트릭스\n",
        "# Q → 사용자매트릭스\n",
        "\n",
        "#차원수는 직접 조절 가능함!\n",
        "rank = 10\n",
        "\n",
        "#0부터 시작하기때문에 1 더해주기 \n",
        "numItems = items.max() + 1\n",
        "numUsers = users.max() + 1\n",
        "\n",
        "#처음에 랜덤 숫자로 채워주기 \n",
        "P = torch.randn(numItems, rank, requires_grad=True)\n",
        "Q = torch.randn(numUsers, rank, requires_grad=True)\n",
        "\n",
        "optimizer = torch.optim.Adam([P, Q], lr= 0.1)\n",
        "\n",
        "X, Y = [], []\n",
        "\n",
        "for epoch in range(1000):\n",
        "\n",
        "    # 가설 = 예상별점(아이템벡터와 유저벡터 내적)\n",
        "    hypothesis = torch.sum(P[items] * Q[users], dim=1)\n",
        "    # 비용 = MSE\n",
        "    cost = F.mse_loss(hypothesis, ratings)\n",
        "    # 기울기 계산\n",
        "    optimizer.zero_grad()\n",
        "    cost.backward()\n",
        "    optimizer.step()\n",
        "\n",
        "    X.append(epoch)\n",
        "    Y.append(cost)\n",
        "\n",
        "    if epoch % 100 == 0:\n",
        "        print('epoch: {}, cost: {:.6f}'.format(epoch, cost.item()))\n",
        "\n",
        "plt.ylabel('MSE')\n",
        "plt.xlabel('Epoch')\n",
        "plt.plot(X, Y, c='blue', label='Training MSE')\n",
        "plt.legend()\n",
        "plt.show()"
      ],
      "execution_count": 10,
      "outputs": [
        {
          "output_type": "stream",
          "text": [
            "epoch: 0, cost: 24.232168\n",
            "epoch: 100, cost: 0.564943\n",
            "epoch: 200, cost: 0.491056\n",
            "epoch: 300, cost: 0.468176\n",
            "epoch: 400, cost: 0.458510\n",
            "epoch: 500, cost: 0.453135\n",
            "epoch: 600, cost: 0.449287\n",
            "epoch: 700, cost: 0.446328\n",
            "epoch: 800, cost: 0.444256\n",
            "epoch: 900, cost: 0.442853\n"
          ],
          "name": "stdout"
        },
        {
          "output_type": "display_data",
          "data": {
            "image/png": "[encoded data removed]",
            "text/plain": [
              "<Figure size 432x288 with 1 Axes>"
            ]
          },
          "metadata": {
            "needs_background": "light"
          }
        }
      ]
    }
  ]
}