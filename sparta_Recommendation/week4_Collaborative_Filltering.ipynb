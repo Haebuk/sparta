{
  "nbformat": 4,
  "nbformat_minor": 0,
  "metadata": {
    "colab": {
      "name": "week4_Collaborative_Filltering.ipynb",
      "provenance": [],
      "collapsed_sections": []
    },
    "kernelspec": {
      "name": "python3",
      "display_name": "Python 3"
    },
    "language_info": {
      "name": "python"
    }
  },
  "cells": [
    {
      "cell_type": "code",
      "metadata": {
        "id": "WPTmoedjb4NT"
      },
      "source": [
        "import os\n",
        "import pandas as pd\n",
        "movie_filename = 'movies.csv'\n",
        "ratings_filename = 'ratings.csv'\n",
        "path = '/content/drive/MyDrive/input/ml-small/'\n",
        "df_movies = pd.read_csv(path + movie_filename, usecols=['movieId', 'title'],\n",
        "                        dtype={'movidId': 'int32', 'title': 'str'})\n",
        "df_ratings = pd.read_csv(path + ratings_filename, usecols=['movieId', 'userId', 'rating'],\n",
        "                        dtype={'movidId': 'int32', 'userId': 'int32', 'rating': 'float32'})"
      ],
      "execution_count": 1,
      "outputs": []
    },
    {
      "cell_type": "markdown",
      "metadata": {
        "id": "1qT_cUAQczsF"
      },
      "source": [
        "# rating을 movie feature 처럼 만들기"
      ]
    },
    {
      "cell_type": "code",
      "metadata": {
        "colab": {
          "base_uri": "https://localhost:8080/",
          "height": 384
        },
        "id": "1DMJKiblcyar",
        "outputId": "a7daf625-f3ff-4a19-db79-b1d8db3adcc6"
      },
      "source": [
        "from scipy.sparse import csr_matrix\n",
        "# pivot ratings into movie features\n",
        "df_movie_features = df_ratings.pivot(\n",
        "    index = 'movieId',\n",
        "    columns = 'userId',\n",
        "    values = 'rating'\n",
        ").fillna(0)\n",
        "mat_movie_features = csr_matrix(df_movie_features.values)\n",
        "\n",
        "print(df_movie_features.head())\n",
        "print(df_movies.shape)\n",
        "df_ratings.head()"
      ],
      "execution_count": 5,
      "outputs": [
        {
          "output_type": "stream",
          "text": [
            "userId   1    2    3    4    5    6    7    ...  604  605  606  607  608  609  610\n",
            "movieId                                     ...                                   \n",
            "1        4.0  0.0  0.0  0.0  4.0  0.0  4.5  ...  3.0  4.0  2.5  4.0  2.5  3.0  5.0\n",
            "2        0.0  0.0  0.0  0.0  0.0  4.0  0.0  ...  5.0  3.5  0.0  0.0  2.0  0.0  0.0\n",
            "3        4.0  0.0  0.0  0.0  0.0  5.0  0.0  ...  0.0  0.0  0.0  0.0  2.0  0.0  0.0\n",
            "4        0.0  0.0  0.0  0.0  0.0  3.0  0.0  ...  0.0  0.0  0.0  0.0  0.0  0.0  0.0\n",
            "5        0.0  0.0  0.0  0.0  0.0  5.0  0.0  ...  3.0  0.0  0.0  0.0  0.0  0.0  0.0\n",
            "\n",
            "[5 rows x 610 columns]\n",
            "(9742, 2)\n"
          ],
          "name": "stdout"
        },
        {
          "output_type": "execute_result",
          "data": {
            "text/html": [
              "<div>\n",
              "<style scoped>\n",
              "    .dataframe tbody tr th:only-of-type {\n",
              "        vertical-align: middle;\n",
              "    }\n",
              "\n",
              "    .dataframe tbody tr th {\n",
              "        vertical-align: top;\n",
              "    }\n",
              "\n",
              "    .dataframe thead th {\n",
              "        text-align: right;\n",
              "    }\n",
              "</style>\n",
              "<table border=\"1\" class=\"dataframe\">\n",
              "  <thead>\n",
              "    <tr style=\"text-align: right;\">\n",
              "      <th></th>\n",
              "      <th>userId</th>\n",
              "      <th>movieId</th>\n",
              "      <th>rating</th>\n",
              "    </tr>\n",
              "  </thead>\n",
              "  <tbody>\n",
              "    <tr>\n",
              "      <th>0</th>\n",
              "      <td>1</td>\n",
              "      <td>1</td>\n",
              "      <td>4.0</td>\n",
              "    </tr>\n",
              "    <tr>\n",
              "      <th>1</th>\n",
              "      <td>1</td>\n",
              "      <td>3</td>\n",
              "      <td>4.0</td>\n",
              "    </tr>\n",
              "    <tr>\n",
              "      <th>2</th>\n",
              "      <td>1</td>\n",
              "      <td>6</td>\n",
              "      <td>4.0</td>\n",
              "    </tr>\n",
              "    <tr>\n",
              "      <th>3</th>\n",
              "      <td>1</td>\n",
              "      <td>47</td>\n",
              "      <td>5.0</td>\n",
              "    </tr>\n",
              "    <tr>\n",
              "      <th>4</th>\n",
              "      <td>1</td>\n",
              "      <td>50</td>\n",
              "      <td>5.0</td>\n",
              "    </tr>\n",
              "  </tbody>\n",
              "</table>\n",
              "</div>"
            ],
            "text/plain": [
              "   userId  movieId  rating\n",
              "0       1        1     4.0\n",
              "1       1        3     4.0\n",
              "2       1        6     4.0\n",
              "3       1       47     5.0\n",
              "4       1       50     5.0"
            ]
          },
          "metadata": {},
          "execution_count": 5
        }
      ]
    },
    {
      "cell_type": "markdown",
      "metadata": {
        "id": "keYHC6NtdYTE"
      },
      "source": [
        "# 유사도 구하기\n",
        "## KNN 사용하기"
      ]
    },
    {
      "cell_type": "code",
      "metadata": {
        "colab": {
          "base_uri": "https://localhost:8080/"
        },
        "id": "7pruE212daqM",
        "outputId": "0b17e167-ab1a-4111-8f7b-2c67a137898d"
      },
      "source": [
        "from sklearn.neighbors import NearestNeighbors\n",
        "model_knn = NearestNeighbors(metric='cosine', algorithm='brute', n_neighbors=20, n_jobs=-1)\n",
        "\n",
        "num_users = len(df_ratings.userId.unique())\n",
        "num_items = len(df_ratings.movieId.unique())\n",
        "print(f'There are {num_users} unique users and {num_items} unique movies in this data set')"
      ],
      "execution_count": 6,
      "outputs": [
        {
          "output_type": "stream",
          "text": [
            "There are 610 unique users and 9724 unique movies in this data set\n"
          ],
          "name": "stdout"
        }
      ]
    },
    {
      "cell_type": "markdown",
      "metadata": {
        "id": "Kv1aIdsXd8xY"
      },
      "source": [
        "## 어떤지 보기"
      ]
    },
    {
      "cell_type": "code",
      "metadata": {
        "colab": {
          "base_uri": "https://localhost:8080/",
          "height": 390
        },
        "id": "K8uTgO9sd4qN",
        "outputId": "e51286bf-d4b4-4eb0-ee05-613026fe0aab"
      },
      "source": [
        "df_ratings_cnt_tmp = pd.DataFrame(df_ratings.groupby('rating').size(), columns=['count'])\n",
        "df_ratings_cnt_tmp"
      ],
      "execution_count": 7,
      "outputs": [
        {
          "output_type": "execute_result",
          "data": {
            "text/html": [
              "<div>\n",
              "<style scoped>\n",
              "    .dataframe tbody tr th:only-of-type {\n",
              "        vertical-align: middle;\n",
              "    }\n",
              "\n",
              "    .dataframe tbody tr th {\n",
              "        vertical-align: top;\n",
              "    }\n",
              "\n",
              "    .dataframe thead th {\n",
              "        text-align: right;\n",
              "    }\n",
              "</style>\n",
              "<table border=\"1\" class=\"dataframe\">\n",
              "  <thead>\n",
              "    <tr style=\"text-align: right;\">\n",
              "      <th></th>\n",
              "      <th>count</th>\n",
              "    </tr>\n",
              "    <tr>\n",
              "      <th>rating</th>\n",
              "      <th></th>\n",
              "    </tr>\n",
              "  </thead>\n",
              "  <tbody>\n",
              "    <tr>\n",
              "      <th>0.5</th>\n",
              "      <td>1370</td>\n",
              "    </tr>\n",
              "    <tr>\n",
              "      <th>1.0</th>\n",
              "      <td>2811</td>\n",
              "    </tr>\n",
              "    <tr>\n",
              "      <th>1.5</th>\n",
              "      <td>1791</td>\n",
              "    </tr>\n",
              "    <tr>\n",
              "      <th>2.0</th>\n",
              "      <td>7551</td>\n",
              "    </tr>\n",
              "    <tr>\n",
              "      <th>2.5</th>\n",
              "      <td>5550</td>\n",
              "    </tr>\n",
              "    <tr>\n",
              "      <th>3.0</th>\n",
              "      <td>20047</td>\n",
              "    </tr>\n",
              "    <tr>\n",
              "      <th>3.5</th>\n",
              "      <td>13136</td>\n",
              "    </tr>\n",
              "    <tr>\n",
              "      <th>4.0</th>\n",
              "      <td>26818</td>\n",
              "    </tr>\n",
              "    <tr>\n",
              "      <th>4.5</th>\n",
              "      <td>8551</td>\n",
              "    </tr>\n",
              "    <tr>\n",
              "      <th>5.0</th>\n",
              "      <td>13211</td>\n",
              "    </tr>\n",
              "  </tbody>\n",
              "</table>\n",
              "</div>"
            ],
            "text/plain": [
              "        count\n",
              "rating       \n",
              "0.5      1370\n",
              "1.0      2811\n",
              "1.5      1791\n",
              "2.0      7551\n",
              "2.5      5550\n",
              "3.0     20047\n",
              "3.5     13136\n",
              "4.0     26818\n",
              "4.5      8551\n",
              "5.0     13211"
            ]
          },
          "metadata": {},
          "execution_count": 7
        }
      ]
    },
    {
      "cell_type": "code",
      "metadata": {
        "colab": {
          "base_uri": "https://localhost:8080/",
          "height": 390
        },
        "id": "yaSi6dAieJIk",
        "outputId": "03d22e10-0001-4f4a-d452-995a447321e3"
      },
      "source": [
        "total_cnt = num_users * num_items\n",
        "rating_zero_cnt = total_cnt - df_ratings.shape[0]\n",
        "\n",
        "df_ratings_cnt = df_ratings_cnt_tmp.append(\n",
        "    pd.DataFrame({'count': rating_zero_cnt}, index=[0.0]),\n",
        "    verify_integrity=True\n",
        ").sort_index()\n",
        "df_ratings_cnt"
      ],
      "execution_count": 8,
      "outputs": [
        {
          "output_type": "execute_result",
          "data": {
            "text/html": [
              "<div>\n",
              "<style scoped>\n",
              "    .dataframe tbody tr th:only-of-type {\n",
              "        vertical-align: middle;\n",
              "    }\n",
              "\n",
              "    .dataframe tbody tr th {\n",
              "        vertical-align: top;\n",
              "    }\n",
              "\n",
              "    .dataframe thead th {\n",
              "        text-align: right;\n",
              "    }\n",
              "</style>\n",
              "<table border=\"1\" class=\"dataframe\">\n",
              "  <thead>\n",
              "    <tr style=\"text-align: right;\">\n",
              "      <th></th>\n",
              "      <th>count</th>\n",
              "    </tr>\n",
              "  </thead>\n",
              "  <tbody>\n",
              "    <tr>\n",
              "      <th>0.0</th>\n",
              "      <td>5830804</td>\n",
              "    </tr>\n",
              "    <tr>\n",
              "      <th>0.5</th>\n",
              "      <td>1370</td>\n",
              "    </tr>\n",
              "    <tr>\n",
              "      <th>1.0</th>\n",
              "      <td>2811</td>\n",
              "    </tr>\n",
              "    <tr>\n",
              "      <th>1.5</th>\n",
              "      <td>1791</td>\n",
              "    </tr>\n",
              "    <tr>\n",
              "      <th>2.0</th>\n",
              "      <td>7551</td>\n",
              "    </tr>\n",
              "    <tr>\n",
              "      <th>2.5</th>\n",
              "      <td>5550</td>\n",
              "    </tr>\n",
              "    <tr>\n",
              "      <th>3.0</th>\n",
              "      <td>20047</td>\n",
              "    </tr>\n",
              "    <tr>\n",
              "      <th>3.5</th>\n",
              "      <td>13136</td>\n",
              "    </tr>\n",
              "    <tr>\n",
              "      <th>4.0</th>\n",
              "      <td>26818</td>\n",
              "    </tr>\n",
              "    <tr>\n",
              "      <th>4.5</th>\n",
              "      <td>8551</td>\n",
              "    </tr>\n",
              "    <tr>\n",
              "      <th>5.0</th>\n",
              "      <td>13211</td>\n",
              "    </tr>\n",
              "  </tbody>\n",
              "</table>\n",
              "</div>"
            ],
            "text/plain": [
              "       count\n",
              "0.0  5830804\n",
              "0.5     1370\n",
              "1.0     2811\n",
              "1.5     1791\n",
              "2.0     7551\n",
              "2.5     5550\n",
              "3.0    20047\n",
              "3.5    13136\n",
              "4.0    26818\n",
              "4.5     8551\n",
              "5.0    13211"
            ]
          },
          "metadata": {},
          "execution_count": 8
        }
      ]
    },
    {
      "cell_type": "markdown",
      "metadata": {
        "id": "HlDVCqZTeuVS"
      },
      "source": [
        "- 0이 압도적으로 많음\n",
        "## Normalize"
      ]
    },
    {
      "cell_type": "code",
      "metadata": {
        "colab": {
          "base_uri": "https://localhost:8080/",
          "height": 390
        },
        "id": "40F2maXLemrL",
        "outputId": "0b427948-947d-464b-a4f6-c6271a8bbd20"
      },
      "source": [
        "# log 변환을 통해 그래프 해석 쉽게\n",
        "import numpy as np\n",
        "df_ratings_cnt['log_count'] = np.log(df_ratings_cnt['count'])\n",
        "df_ratings_cnt"
      ],
      "execution_count": 11,
      "outputs": [
        {
          "output_type": "execute_result",
          "data": {
            "text/html": [
              "<div>\n",
              "<style scoped>\n",
              "    .dataframe tbody tr th:only-of-type {\n",
              "        vertical-align: middle;\n",
              "    }\n",
              "\n",
              "    .dataframe tbody tr th {\n",
              "        vertical-align: top;\n",
              "    }\n",
              "\n",
              "    .dataframe thead th {\n",
              "        text-align: right;\n",
              "    }\n",
              "</style>\n",
              "<table border=\"1\" class=\"dataframe\">\n",
              "  <thead>\n",
              "    <tr style=\"text-align: right;\">\n",
              "      <th></th>\n",
              "      <th>count</th>\n",
              "      <th>log_count</th>\n",
              "    </tr>\n",
              "  </thead>\n",
              "  <tbody>\n",
              "    <tr>\n",
              "      <th>0.0</th>\n",
              "      <td>5830804</td>\n",
              "      <td>15.578665</td>\n",
              "    </tr>\n",
              "    <tr>\n",
              "      <th>0.5</th>\n",
              "      <td>1370</td>\n",
              "      <td>7.222566</td>\n",
              "    </tr>\n",
              "    <tr>\n",
              "      <th>1.0</th>\n",
              "      <td>2811</td>\n",
              "      <td>7.941296</td>\n",
              "    </tr>\n",
              "    <tr>\n",
              "      <th>1.5</th>\n",
              "      <td>1791</td>\n",
              "      <td>7.490529</td>\n",
              "    </tr>\n",
              "    <tr>\n",
              "      <th>2.0</th>\n",
              "      <td>7551</td>\n",
              "      <td>8.929435</td>\n",
              "    </tr>\n",
              "    <tr>\n",
              "      <th>2.5</th>\n",
              "      <td>5550</td>\n",
              "      <td>8.621553</td>\n",
              "    </tr>\n",
              "    <tr>\n",
              "      <th>3.0</th>\n",
              "      <td>20047</td>\n",
              "      <td>9.905835</td>\n",
              "    </tr>\n",
              "    <tr>\n",
              "      <th>3.5</th>\n",
              "      <td>13136</td>\n",
              "      <td>9.483112</td>\n",
              "    </tr>\n",
              "    <tr>\n",
              "      <th>4.0</th>\n",
              "      <td>26818</td>\n",
              "      <td>10.196829</td>\n",
              "    </tr>\n",
              "    <tr>\n",
              "      <th>4.5</th>\n",
              "      <td>8551</td>\n",
              "      <td>9.053804</td>\n",
              "    </tr>\n",
              "    <tr>\n",
              "      <th>5.0</th>\n",
              "      <td>13211</td>\n",
              "      <td>9.488805</td>\n",
              "    </tr>\n",
              "  </tbody>\n",
              "</table>\n",
              "</div>"
            ],
            "text/plain": [
              "       count  log_count\n",
              "0.0  5830804  15.578665\n",
              "0.5     1370   7.222566\n",
              "1.0     2811   7.941296\n",
              "1.5     1791   7.490529\n",
              "2.0     7551   8.929435\n",
              "2.5     5550   8.621553\n",
              "3.0    20047   9.905835\n",
              "3.5    13136   9.483112\n",
              "4.0    26818  10.196829\n",
              "4.5     8551   9.053804\n",
              "5.0    13211   9.488805"
            ]
          },
          "metadata": {},
          "execution_count": 11
        }
      ]
    },
    {
      "cell_type": "markdown",
      "metadata": {
        "id": "RltauJsCfome"
      },
      "source": [
        "## 각 점수별로 보기"
      ]
    },
    {
      "cell_type": "code",
      "metadata": {
        "colab": {
          "base_uri": "https://localhost:8080/",
          "height": 744
        },
        "id": "EG1THyNRfnF9",
        "outputId": "19c8dce3-741a-4848-bd00-9ff43a112eef"
      },
      "source": [
        "import matplotlib.pyplot as plt\n",
        "plt.style.use('ggplot')\n",
        "\n",
        "get_ipython().run_line_magic('matplotlib', 'inline')\n",
        "ax = df_ratings_cnt[['count']].reset_index().rename(columns={'index': 'rating score'}).plot(\n",
        "    x = 'rating score',\n",
        "    y = 'count',\n",
        "    kind = 'bar',\n",
        "    figsize=(12, 8),\n",
        "    title = 'Count for Each Rating Score (in Log Scale)',\n",
        "    logy = True,\n",
        "    fontsize=12,\n",
        ")\n",
        "ax.set_xlabel('movie rating score')\n",
        "ax.set_ylabel('number of ratings')\n",
        "\n",
        "# 평가 빈도\n",
        "# 각 영화 리뷰 수\n",
        "df_movies_cnt = pd.DataFrame(df_ratings.groupby('movieId').size(), columns=['count'])\n",
        "df_movies_cnt.head()"
      ],
      "execution_count": 16,
      "outputs": [
        {
          "output_type": "execute_result",
          "data": {
            "text/html": [
              "<div>\n",
              "<style scoped>\n",
              "    .dataframe tbody tr th:only-of-type {\n",
              "        vertical-align: middle;\n",
              "    }\n",
              "\n",
              "    .dataframe tbody tr th {\n",
              "        vertical-align: top;\n",
              "    }\n",
              "\n",
              "    .dataframe thead th {\n",
              "        text-align: right;\n",
              "    }\n",
              "</style>\n",
              "<table border=\"1\" class=\"dataframe\">\n",
              "  <thead>\n",
              "    <tr style=\"text-align: right;\">\n",
              "      <th></th>\n",
              "      <th>count</th>\n",
              "    </tr>\n",
              "    <tr>\n",
              "      <th>movieId</th>\n",
              "      <th></th>\n",
              "    </tr>\n",
              "  </thead>\n",
              "  <tbody>\n",
              "    <tr>\n",
              "      <th>1</th>\n",
              "      <td>215</td>\n",
              "    </tr>\n",
              "    <tr>\n",
              "      <th>2</th>\n",
              "      <td>110</td>\n",
              "    </tr>\n",
              "    <tr>\n",
              "      <th>3</th>\n",
              "      <td>52</td>\n",
              "    </tr>\n",
              "    <tr>\n",
              "      <th>4</th>\n",
              "      <td>7</td>\n",
              "    </tr>\n",
              "    <tr>\n",
              "      <th>5</th>\n",
              "      <td>49</td>\n",
              "    </tr>\n",
              "  </tbody>\n",
              "</table>\n",
              "</div>"
            ],
            "text/plain": [
              "         count\n",
              "movieId       \n",
              "1          215\n",
              "2          110\n",
              "3           52\n",
              "4            7\n",
              "5           49"
            ]
          },
          "metadata": {},
          "execution_count": 16
        },
        {
          "output_type": "display_data",
          "data": {
            "image/png": "[encoded data removed]",
            "text/plain": [
              "<Figure size 864x576 with 1 Axes>"
            ]
          },
          "metadata": {
            "needs_background": "light"
          }
        }
      ]
    },
    {
      "cell_type": "markdown",
      "metadata": {
        "id": "TaZQT9R2hDQ2"
      },
      "source": [
        "## 50개이상 평가된 movie만 필터"
      ]
    },
    {
      "cell_type": "code",
      "metadata": {
        "colab": {
          "base_uri": "https://localhost:8080/"
        },
        "id": "OOtgD3X7gSJW",
        "outputId": "891e521d-f36b-47a3-8e90-8983d785aaca"
      },
      "source": [
        "popularity_thres = 50\n",
        "\n",
        "popular_movies = list(set(df_movies_cnt.query('count >= @popularity_thres').index))\n",
        "df_ratings_drop_movies = df_ratings[df_ratings.movieId.isin(popular_movies)]\n",
        "print('shape of original ratings data: ', df_ratings.shape)\n",
        "print('shape of ratings data after dropping unpopular movies: ', df_ratings_drop_movies.shape)"
      ],
      "execution_count": 18,
      "outputs": [
        {
          "output_type": "stream",
          "text": [
            "shape of original ratings data:  (100836, 3)\n",
            "shape of ratings data after dropping unpopular movies:  (41360, 3)\n"
          ],
          "name": "stdout"
        }
      ]
    },
    {
      "cell_type": "markdown",
      "metadata": {
        "id": "mxiJG1_-i6rR"
      },
      "source": [
        "## 각 유저별로 Rating이 몇 개씩 있는지 확인해보기"
      ]
    },
    {
      "cell_type": "code",
      "metadata": {
        "colab": {
          "base_uri": "https://localhost:8080/",
          "height": 235
        },
        "id": "2h-p9v3livA0",
        "outputId": "8fa7cc4a-8871-4773-b539-9b4e956f6171"
      },
      "source": [
        "df_user_cnt = pd.DataFrame(df_ratings_drop_movies.groupby('userId').size(), columns=['count'])\n",
        "df_user_cnt.head()"
      ],
      "execution_count": 19,
      "outputs": [
        {
          "output_type": "execute_result",
          "data": {
            "text/html": [
              "<div>\n",
              "<style scoped>\n",
              "    .dataframe tbody tr th:only-of-type {\n",
              "        vertical-align: middle;\n",
              "    }\n",
              "\n",
              "    .dataframe tbody tr th {\n",
              "        vertical-align: top;\n",
              "    }\n",
              "\n",
              "    .dataframe thead th {\n",
              "        text-align: right;\n",
              "    }\n",
              "</style>\n",
              "<table border=\"1\" class=\"dataframe\">\n",
              "  <thead>\n",
              "    <tr style=\"text-align: right;\">\n",
              "      <th></th>\n",
              "      <th>count</th>\n",
              "    </tr>\n",
              "    <tr>\n",
              "      <th>userId</th>\n",
              "      <th></th>\n",
              "    </tr>\n",
              "  </thead>\n",
              "  <tbody>\n",
              "    <tr>\n",
              "      <th>1</th>\n",
              "      <td>117</td>\n",
              "    </tr>\n",
              "    <tr>\n",
              "      <th>2</th>\n",
              "      <td>15</td>\n",
              "    </tr>\n",
              "    <tr>\n",
              "      <th>3</th>\n",
              "      <td>6</td>\n",
              "    </tr>\n",
              "    <tr>\n",
              "      <th>4</th>\n",
              "      <td>84</td>\n",
              "    </tr>\n",
              "    <tr>\n",
              "      <th>5</th>\n",
              "      <td>34</td>\n",
              "    </tr>\n",
              "  </tbody>\n",
              "</table>\n",
              "</div>"
            ],
            "text/plain": [
              "        count\n",
              "userId       \n",
              "1         117\n",
              "2          15\n",
              "3           6\n",
              "4          84\n",
              "5          34"
            ]
          },
          "metadata": {},
          "execution_count": 19
        }
      ]
    },
    {
      "cell_type": "markdown",
      "metadata": {
        "id": "bPJKfUYLjJcf"
      },
      "source": [
        "## rating이 50개 이상이고 유효한 유저들로만 필터걸기"
      ]
    },
    {
      "cell_type": "code",
      "metadata": {
        "colab": {
          "base_uri": "https://localhost:8080/"
        },
        "id": "QfiRL7jAjIDe",
        "outputId": "e1668632-64af-4087-cf84-15c56d3b63c1"
      },
      "source": [
        "ratings_thres = 50\n",
        "active_users = list(set(df_user_cnt.query('count >= @ratings_thres').index))\n",
        "df_ratings_drop_users = df_ratings_drop_movies[df_ratings_drop_movies.userId.isin(active_users)]\n",
        "print('shape of original ratings data: ', df_ratings.shape)\n",
        "print('shape of ratings data after dropping both unpopular movies and inactive users: ', df_ratings_drop_users.shape)"
      ],
      "execution_count": 21,
      "outputs": [
        {
          "output_type": "stream",
          "text": [
            "shape of original ratings data:  (100836, 3)\n",
            "shape of ratings data after dropping both unpopular movies and inactive users:  (32999, 3)\n"
          ],
          "name": "stdout"
        }
      ]
    },
    {
      "cell_type": "markdown",
      "metadata": {
        "id": "uNrXbIB4kGCo"
      },
      "source": [
        "# Movie-User Matrix"
      ]
    },
    {
      "cell_type": "code",
      "metadata": {
        "id": "YRNmIfPmkHgC"
      },
      "source": [
        "# pivot and create movie-user matrix\n",
        "movie_user_mat = df_ratings_drop_users.pivot(index='movieId', columns='userId', values='rating').fillna(0)\n",
        "\n",
        "# map movie titles to images\n",
        "movie_to_idx = {\n",
        "    movie: i for i, movie in\n",
        "    enumerate(list(df_movies.set_index('movieId').loc[movie_user_mat.index].title))\n",
        "}\n",
        "\n",
        "# transform matrix to scipy sparse matrix\n",
        "movie_user_mat_sparse = csr_matrix(movie_user_mat.values)"
      ],
      "execution_count": 22,
      "outputs": []
    },
    {
      "cell_type": "markdown",
      "metadata": {
        "id": "ir405wpvmPkR"
      },
      "source": [
        "# KNN 모델 만들기"
      ]
    },
    {
      "cell_type": "code",
      "metadata": {
        "colab": {
          "base_uri": "https://localhost:8080/"
        },
        "id": "0ENCAUUtkpaG",
        "outputId": "bd1ac9b7-309a-422c-b225-b7609077cc21"
      },
      "source": [
        "model_knn = NearestNeighbors(metric='cosine', algorithm='brute', n_neighbors=20, n_jobs=-1)\n",
        "model_knn.fit(movie_user_mat_sparse)"
      ],
      "execution_count": 24,
      "outputs": [
        {
          "output_type": "execute_result",
          "data": {
            "text/plain": [
              "NearestNeighbors(algorithm='brute', leaf_size=30, metric='cosine',\n",
              "                 metric_params=None, n_jobs=-1, n_neighbors=20, p=2,\n",
              "                 radius=1.0)"
            ]
          },
          "metadata": {},
          "execution_count": 24
        }
      ]
    },
    {
      "cell_type": "markdown",
      "metadata": {
        "id": "yTAvahvDmoqB"
      },
      "source": [
        "# 시청항목과 추천 항목 출력 함수 정의"
      ]
    },
    {
      "cell_type": "code",
      "metadata": {
        "colab": {
          "base_uri": "https://localhost:8080/"
        },
        "id": "VE8189vamnRF",
        "outputId": "5d15a09a-3d86-4eee-b1bf-08a36d270216"
      },
      "source": [
        "!pip install fuzzywuzzy\n",
        "from fuzzywuzzy import fuzz -q"
      ],
      "execution_count": 25,
      "outputs": [
        {
          "output_type": "stream",
          "text": [
            "Collecting fuzzywuzzy\n",
            "  Downloading fuzzywuzzy-0.18.0-py2.py3-none-any.whl (18 kB)\n",
            "Installing collected packages: fuzzywuzzy\n",
            "Successfully installed fuzzywuzzy-0.18.0\n"
          ],
          "name": "stdout"
        },
        {
          "output_type": "stream",
          "text": [
            "/usr/local/lib/python3.7/dist-packages/fuzzywuzzy/fuzz.py:11: UserWarning: Using slow pure-python SequenceMatcher. Install python-Levenshtein to remove this warning\n",
            "  warnings.warn('Using slow pure-python SequenceMatcher. Install python-Levenshtein to remove this warning')\n"
          ],
          "name": "stderr"
        }
      ]
    },
    {
      "cell_type": "code",
      "metadata": {
        "id": "eEkiZHqumtNU"
      },
      "source": [
        "def fuzzy_matching(mapper, fav_movie, verbose=True):\n",
        "    \"\"\"\n",
        "    return the closest match via fuzzy ratio\n",
        "\n",
        "    Parameters\n",
        "    ----------------\n",
        "    mapper: dict, map movie title name to index of the movie in data\n",
        "    fav_movie: str, name of user input movie\n",
        "\n",
        "    verbose: bool, pring log if True\n",
        "    \n",
        "    Return\n",
        "    ----------------\n",
        "    index of the closest match\n",
        "    \"\"\"\n",
        "    match_tuple = []\n",
        "    # get match\n",
        "    for title, idx in mapper.items():\n",
        "        ratio = fuzz.ratio(title.lower(), fav_movie.lower())\n",
        "        if ratio >= 60:\n",
        "            match_tuple.append((title, idx, ratio))\n",
        "\n",
        "    # sort\n",
        "    match_tuple = sorted(match_tuple, key=lambda x: x[2])[::-1]\n",
        "    if not match_tuple:\n",
        "        print('No match found')\n",
        "        return\n",
        "    if verbose:\n",
        "        print('Found possible matches in our database: {0}\\n'.format(x[0] for x in match_tuple))\n",
        "    return match_tuple[0][1]\n",
        "\n",
        "def make_recommendation(model_knn, data, mapper, fav_movie, n_recommendations):\n",
        "    \"\"\"\n",
        "    return top n similar movie recommedations based on user's input movie\n",
        "\n",
        "    Parameters\n",
        "    ----------------\n",
        "    model_knn: sklearn model, knn model\n",
        "    data: movie-user matrix\n",
        "    mapper: dict, map movie title name to index of the movie in data\n",
        "    fav_movie: str, name of user input movie\n",
        "    n_recommendations: int, top n recommendations\n",
        "    \n",
        "    Return\n",
        "    ----------------\n",
        "    list of top n similar movie recommendations\n",
        "    \"\"\"\n",
        "    # fit\n",
        "    model_knn.fit(data)\n",
        "    # get input movie index\n",
        "    print('You have input movie:', fav_movie)\n",
        "    idx = fuzzy_matching(mapper, fav_movie, verbose=True)\n",
        "\n",
        "    print('Recommendation system start to make inference')\n",
        "    print('......\\n')\n",
        "    distances, indices = model_knn.kneighbors(data[idx], n_neighbors=n_recommendations+1)\n",
        "\n",
        "    raw_recommends = sorted(list(zip(indices.squeeze().tolist(), distances.squeeze().tolist())),\n",
        "                            key=lambda x: x[1])[:0:-1]\n",
        "    # get reverse mapper\n",
        "    reverse_mapper = {v: k for k, v in mapper.items()}\n",
        "\n",
        "    # print recommendations\n",
        "    print('Recommendations for {}:'.format(fav_movie))\n",
        "    for i, (idx, dist) in enumerate(raw_recommends):\n",
        "        print('{0}: {1}, with distance of {2}'.format(i+1, reverse_mapper[idx], dist))\n",
        "\n"
      ],
      "execution_count": 27,
      "outputs": []
    },
    {
      "cell_type": "markdown",
      "metadata": {
        "id": "FHjrWmghs7KE"
      },
      "source": [
        "# 직접 예측"
      ]
    },
    {
      "cell_type": "code",
      "metadata": {
        "colab": {
          "base_uri": "https://localhost:8080/"
        },
        "id": "k8SlHYBRsxiX",
        "outputId": "f813c6ab-7d20-4945-93e4-90febcff90c2"
      },
      "source": [
        "my_favorite = 'Iron Man'\n",
        "\n",
        "make_recommendation(\n",
        "    model_knn=model_knn,\n",
        "    data=movie_user_mat_sparse,\n",
        "    fav_movie=my_favorite,\n",
        "    mapper=movie_to_idx,\n",
        "    n_recommendations=10\n",
        ")"
      ],
      "execution_count": 28,
      "outputs": [
        {
          "output_type": "stream",
          "text": [
            "You have input movie: Iron Man\n",
            "Found possible matches in our database: <generator object fuzzy_matching.<locals>.<genexpr> at 0x7f65101f8c50>\n",
            "\n",
            "Recommendation system start to make inference\n",
            "......\n",
            "\n",
            "Recommendations for Iron Man:\n",
            "1: Batman Begins (2005), with distance of 0.3474416136741638\n",
            "2: Sherlock Holmes (2009), with distance of 0.34635400772094727\n",
            "3: Kung Fu Panda (2008), with distance of 0.3432350754737854\n",
            "4: Inception (2010), with distance of 0.3307400345802307\n",
            "5: District 9 (2009), with distance of 0.31877219676971436\n",
            "6: Up (2009), with distance of 0.31706738471984863\n",
            "7: WALL·E (2008), with distance of 0.27033132314682007\n",
            "8: Avengers, The (2012), with distance of 0.26102906465530396\n",
            "9: Avatar (2009), with distance of 0.25990235805511475\n",
            "10: Dark Knight, The (2008), with distance of 0.24018973112106323\n"
          ],
          "name": "stdout"
        }
      ]
    },
    {
      "cell_type": "code",
      "metadata": {
        "id": "KAX7djsCtG6d"
      },
      "source": [
        ""
      ],
      "execution_count": null,
      "outputs": []
    }
  ]
}