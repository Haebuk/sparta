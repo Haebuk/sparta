{
  "nbformat": 4,
  "nbformat_minor": 0,
  "metadata": {
    "colab": {
      "name": "week5.ipynb",
      "provenance": []
    },
    "kernelspec": {
      "name": "python3",
      "display_name": "Python 3"
    },
    "language_info": {
      "name": "python"
    },
    "accelerator": "GPU"
  },
  "cells": [
    {
      "cell_type": "code",
      "metadata": {
        "id": "3QAmbIh1meg3"
      },
      "source": [
        "import pandas as pd\n",
        "import numpy as np\n",
        "from sklearn.preprocessing import StandardScaler, PolynomialFeatures, LabelEncoder\n",
        "from keras.layers import Input, Embedding, Dense, Flatten, Dropout, SpatialDropout1D, Activation, concatenate\n",
        "from tensorflow.keras.optimizers import Adam, SGD\n",
        "from keras.layers.advanced_activations import ReLU, PReLU, LeakyReLU, ELU\n",
        "from keras.layers import BatchNormalization\n",
        "from keras.callbacks import EarlyStopping, ModelCheckpoint\n",
        "from keras.models import Model\n",
        "from tensorflow.keras.utils import plot_model"
      ],
      "execution_count": 1,
      "outputs": []
    },
    {
      "cell_type": "code",
      "metadata": {
        "colab": {
          "base_uri": "https://localhost:8080/"
        },
        "id": "L9rYIiQKnEv3",
        "outputId": "fc06fede-803a-4da7-fda3-f2d928c92824"
      },
      "source": [
        "PATH = '/content/drive/MyDrive/input/sparta/'\n",
        "\n",
        "enrolled = pd.read_csv(PATH + 'enrolleds_210729.csv')\n",
        "pre = pd.read_csv(PATH + 'prequestions_210729.csv')\n",
        "course = pd.read_csv(PATH + 'courses_210729.csv')\n",
        "\n",
        "print(pre.shape)\n",
        "print(enrolled.shape)\n",
        "print(course.shape)"
      ],
      "execution_count": 3,
      "outputs": [
        {
          "output_type": "stream",
          "text": [
            "(48708, 6)\n",
            "(67321, 7)\n",
            "(50, 2)\n"
          ],
          "name": "stdout"
        }
      ]
    },
    {
      "cell_type": "code",
      "metadata": {
        "colab": {
          "base_uri": "https://localhost:8080/",
          "height": 142
        },
        "id": "YLpK_FuQnTKv",
        "outputId": "d507de43-5018-4ccc-f059-15622bd30b69"
      },
      "source": [
        "pre.head(3)"
      ],
      "execution_count": 4,
      "outputs": [
        {
          "output_type": "execute_result",
          "data": {
            "text/html": [
              "<div>\n",
              "<style scoped>\n",
              "    .dataframe tbody tr th:only-of-type {\n",
              "        vertical-align: middle;\n",
              "    }\n",
              "\n",
              "    .dataframe tbody tr th {\n",
              "        vertical-align: top;\n",
              "    }\n",
              "\n",
              "    .dataframe thead th {\n",
              "        text-align: right;\n",
              "    }\n",
              "</style>\n",
              "<table border=\"1\" class=\"dataframe\">\n",
              "  <thead>\n",
              "    <tr style=\"text-align: right;\">\n",
              "      <th></th>\n",
              "      <th>user_id</th>\n",
              "      <th>course_id</th>\n",
              "      <th>round_id</th>\n",
              "      <th>job</th>\n",
              "      <th>age</th>\n",
              "      <th>gender</th>\n",
              "    </tr>\n",
              "  </thead>\n",
              "  <tbody>\n",
              "    <tr>\n",
              "      <th>0</th>\n",
              "      <td>2397731931fe978eb349</td>\n",
              "      <td>bdd218f17ec6313b96f3</td>\n",
              "      <td>655f288f4382b12fd3d9</td>\n",
              "      <td>직장인</td>\n",
              "      <td>30</td>\n",
              "      <td>남</td>\n",
              "    </tr>\n",
              "    <tr>\n",
              "      <th>1</th>\n",
              "      <td>5eb42ddf1cda5ff826f2</td>\n",
              "      <td>bdd218f17ec6313b96f3</td>\n",
              "      <td>655f288f4382b12fd3d9</td>\n",
              "      <td>창업/사업</td>\n",
              "      <td>34</td>\n",
              "      <td>남</td>\n",
              "    </tr>\n",
              "    <tr>\n",
              "      <th>2</th>\n",
              "      <td>012a9585146a4ddc9f29</td>\n",
              "      <td>bdd218f17ec6313b96f3</td>\n",
              "      <td>655f288f4382b12fd3d9</td>\n",
              "      <td>직장인</td>\n",
              "      <td>32</td>\n",
              "      <td>여</td>\n",
              "    </tr>\n",
              "  </tbody>\n",
              "</table>\n",
              "</div>"
            ],
            "text/plain": [
              "                user_id             course_id  ... age gender\n",
              "0  2397731931fe978eb349  bdd218f17ec6313b96f3  ...  30      남\n",
              "1  5eb42ddf1cda5ff826f2  bdd218f17ec6313b96f3  ...  34      남\n",
              "2  012a9585146a4ddc9f29  bdd218f17ec6313b96f3  ...  32      여\n",
              "\n",
              "[3 rows x 6 columns]"
            ]
          },
          "metadata": {},
          "execution_count": 4
        }
      ]
    },
    {
      "cell_type": "code",
      "metadata": {
        "colab": {
          "base_uri": "https://localhost:8080/",
          "height": 264
        },
        "id": "IbmLjWNxnVUd",
        "outputId": "91f7bbc3-15b9-4e01-e27b-665891de5b77"
      },
      "source": [
        "enrolled.head(3)"
      ],
      "execution_count": 5,
      "outputs": [
        {
          "output_type": "execute_result",
          "data": {
            "text/html": [
              "<div>\n",
              "<style scoped>\n",
              "    .dataframe tbody tr th:only-of-type {\n",
              "        vertical-align: middle;\n",
              "    }\n",
              "\n",
              "    .dataframe tbody tr th {\n",
              "        vertical-align: top;\n",
              "    }\n",
              "\n",
              "    .dataframe thead th {\n",
              "        text-align: right;\n",
              "    }\n",
              "</style>\n",
              "<table border=\"1\" class=\"dataframe\">\n",
              "  <thead>\n",
              "    <tr style=\"text-align: right;\">\n",
              "      <th></th>\n",
              "      <th>enrolled_id</th>\n",
              "      <th>course_id</th>\n",
              "      <th>round_id</th>\n",
              "      <th>user_id</th>\n",
              "      <th>is_registered</th>\n",
              "      <th>start_date</th>\n",
              "      <th>end_date</th>\n",
              "    </tr>\n",
              "  </thead>\n",
              "  <tbody>\n",
              "    <tr>\n",
              "      <th>0</th>\n",
              "      <td>29b2fc3febbed0d1bb56</td>\n",
              "      <td>bdd218f17ec6313b96f3</td>\n",
              "      <td>655f288f4382b12fd3d9</td>\n",
              "      <td>2151609483dab408339c</td>\n",
              "      <td>1</td>\n",
              "      <td>2020-08-03 00:00:00</td>\n",
              "      <td>2020-09-14 00:00:00</td>\n",
              "    </tr>\n",
              "    <tr>\n",
              "      <th>1</th>\n",
              "      <td>4baff9a5673307bba05e</td>\n",
              "      <td>bdd218f17ec6313b96f3</td>\n",
              "      <td>68fba9c86e209702cf6e</td>\n",
              "      <td>aaf0bbc09859eb9d2c51</td>\n",
              "      <td>0</td>\n",
              "      <td>2020-10-26 00:00:00</td>\n",
              "      <td>2020-12-07 00:00:00</td>\n",
              "    </tr>\n",
              "    <tr>\n",
              "      <th>2</th>\n",
              "      <td>993102db7757f4ddb425</td>\n",
              "      <td>bdd218f17ec6313b96f3</td>\n",
              "      <td>2143eff71c2f464d92ba</td>\n",
              "      <td>aaf0bbc09859eb9d2c51</td>\n",
              "      <td>0</td>\n",
              "      <td>2020-11-23 00:00:00</td>\n",
              "      <td>2020-12-28 00:00:00</td>\n",
              "    </tr>\n",
              "  </tbody>\n",
              "</table>\n",
              "</div>"
            ],
            "text/plain": [
              "            enrolled_id  ...             end_date\n",
              "0  29b2fc3febbed0d1bb56  ...  2020-09-14 00:00:00\n",
              "1  4baff9a5673307bba05e  ...  2020-12-07 00:00:00\n",
              "2  993102db7757f4ddb425  ...  2020-12-28 00:00:00\n",
              "\n",
              "[3 rows x 7 columns]"
            ]
          },
          "metadata": {},
          "execution_count": 5
        }
      ]
    },
    {
      "cell_type": "code",
      "metadata": {
        "colab": {
          "base_uri": "https://localhost:8080/",
          "height": 142
        },
        "id": "CQE7P9KEnZ5W",
        "outputId": "99f1b4f5-fef8-451e-aa23-c8d393a14124"
      },
      "source": [
        "course.head(3)"
      ],
      "execution_count": 6,
      "outputs": [
        {
          "output_type": "execute_result",
          "data": {
            "text/html": [
              "<div>\n",
              "<style scoped>\n",
              "    .dataframe tbody tr th:only-of-type {\n",
              "        vertical-align: middle;\n",
              "    }\n",
              "\n",
              "    .dataframe tbody tr th {\n",
              "        vertical-align: top;\n",
              "    }\n",
              "\n",
              "    .dataframe thead th {\n",
              "        text-align: right;\n",
              "    }\n",
              "</style>\n",
              "<table border=\"1\" class=\"dataframe\">\n",
              "  <thead>\n",
              "    <tr style=\"text-align: right;\">\n",
              "      <th></th>\n",
              "      <th>course_id</th>\n",
              "      <th>title</th>\n",
              "    </tr>\n",
              "  </thead>\n",
              "  <tbody>\n",
              "    <tr>\n",
              "      <th>0</th>\n",
              "      <td>bdd218f17ec6313b96f3</td>\n",
              "      <td>웹개발 종합반</td>\n",
              "    </tr>\n",
              "    <tr>\n",
              "      <th>1</th>\n",
              "      <td>cf06e86a19be34ec1e78</td>\n",
              "      <td>앱개발 종합반</td>\n",
              "    </tr>\n",
              "    <tr>\n",
              "      <th>2</th>\n",
              "      <td>8e02dc4b2b82e9a15e1e</td>\n",
              "      <td>파이썬 데이터분석 첫걸음</td>\n",
              "    </tr>\n",
              "  </tbody>\n",
              "</table>\n",
              "</div>"
            ],
            "text/plain": [
              "              course_id          title\n",
              "0  bdd218f17ec6313b96f3        웹개발 종합반\n",
              "1  cf06e86a19be34ec1e78        앱개발 종합반\n",
              "2  8e02dc4b2b82e9a15e1e  파이썬 데이터분석 첫걸음"
            ]
          },
          "metadata": {},
          "execution_count": 6
        }
      ]
    },
    {
      "cell_type": "markdown",
      "metadata": {
        "id": "APOpALXZneKt"
      },
      "source": [
        "# 데이터 전처리"
      ]
    },
    {
      "cell_type": "markdown",
      "metadata": {
        "id": "5Cki7tENzjFq"
      },
      "source": [
        "## User 데이터"
      ]
    },
    {
      "cell_type": "code",
      "metadata": {
        "colab": {
          "base_uri": "https://localhost:8080/"
        },
        "id": "QI3NZvzqnzXT",
        "outputId": "88d90484-b7ad-48c3-97e5-58dfec16bc1e"
      },
      "source": [
        "user_data = pre[['user_id', 'job', 'age', 'gender']]\n",
        "user_data['job'].unique()"
      ],
      "execution_count": 7,
      "outputs": [
        {
          "output_type": "execute_result",
          "data": {
            "text/plain": [
              "array(['직장인', '창업/사업', '대학생', '무직/준비중', '기타', '학생', '2. 직장인', '4. 무직/준비중',\n",
              "       '1. 학생', '5. 기타', '3. 창업/사업'], dtype=object)"
            ]
          },
          "metadata": {},
          "execution_count": 7
        }
      ]
    },
    {
      "cell_type": "code",
      "metadata": {
        "colab": {
          "base_uri": "https://localhost:8080/"
        },
        "id": "sCpF_tASnbOG",
        "outputId": "63d8252b-26ea-44c8-9427-d23a9508d15a"
      },
      "source": [
        "user_data['job'] = user_data['job'].replace({'1. 학생': '학생',\n",
        "                                             '2. 직장인': '직장인',\n",
        "                                             '3. 창업/사업': '창업/사업',\n",
        "                                             '4. 무직/준비중': '무직/준비중',\n",
        "                                             '5. 기타': '기타'\n",
        "                                             })\n",
        "user_data['job'].unique()"
      ],
      "execution_count": 9,
      "outputs": [
        {
          "output_type": "stream",
          "text": [
            "/usr/local/lib/python3.7/dist-packages/ipykernel_launcher.py:5: SettingWithCopyWarning: \n",
            "A value is trying to be set on a copy of a slice from a DataFrame.\n",
            "Try using .loc[row_indexer,col_indexer] = value instead\n",
            "\n",
            "See the caveats in the documentation: https://pandas.pydata.org/pandas-docs/stable/user_guide/indexing.html#returning-a-view-versus-a-copy\n",
            "  \"\"\"\n"
          ],
          "name": "stderr"
        },
        {
          "output_type": "execute_result",
          "data": {
            "text/plain": [
              "array(['직장인', '창업/사업', '대학생', '무직/준비중', '기타', '학생'], dtype=object)"
            ]
          },
          "metadata": {},
          "execution_count": 9
        }
      ]
    },
    {
      "cell_type": "code",
      "metadata": {
        "colab": {
          "base_uri": "https://localhost:8080/"
        },
        "id": "O4zZV2VNqt5S",
        "outputId": "ab334e4c-9a7d-4a74-f9a7-258c1a73fea6"
      },
      "source": [
        "user_data.shape"
      ],
      "execution_count": 10,
      "outputs": [
        {
          "output_type": "execute_result",
          "data": {
            "text/plain": [
              "(48708, 4)"
            ]
          },
          "metadata": {},
          "execution_count": 10
        }
      ]
    },
    {
      "cell_type": "code",
      "metadata": {
        "colab": {
          "base_uri": "https://localhost:8080/",
          "height": 204
        },
        "id": "tbBlN6Aox5aX",
        "outputId": "9004a82d-db92-48b2-d027-61b052b9ca5d"
      },
      "source": [
        "user_data.head()"
      ],
      "execution_count": 11,
      "outputs": [
        {
          "output_type": "execute_result",
          "data": {
            "text/html": [
              "<div>\n",
              "<style scoped>\n",
              "    .dataframe tbody tr th:only-of-type {\n",
              "        vertical-align: middle;\n",
              "    }\n",
              "\n",
              "    .dataframe tbody tr th {\n",
              "        vertical-align: top;\n",
              "    }\n",
              "\n",
              "    .dataframe thead th {\n",
              "        text-align: right;\n",
              "    }\n",
              "</style>\n",
              "<table border=\"1\" class=\"dataframe\">\n",
              "  <thead>\n",
              "    <tr style=\"text-align: right;\">\n",
              "      <th></th>\n",
              "      <th>user_id</th>\n",
              "      <th>job</th>\n",
              "      <th>age</th>\n",
              "      <th>gender</th>\n",
              "    </tr>\n",
              "  </thead>\n",
              "  <tbody>\n",
              "    <tr>\n",
              "      <th>0</th>\n",
              "      <td>2397731931fe978eb349</td>\n",
              "      <td>직장인</td>\n",
              "      <td>30</td>\n",
              "      <td>남</td>\n",
              "    </tr>\n",
              "    <tr>\n",
              "      <th>1</th>\n",
              "      <td>5eb42ddf1cda5ff826f2</td>\n",
              "      <td>창업/사업</td>\n",
              "      <td>34</td>\n",
              "      <td>남</td>\n",
              "    </tr>\n",
              "    <tr>\n",
              "      <th>2</th>\n",
              "      <td>012a9585146a4ddc9f29</td>\n",
              "      <td>직장인</td>\n",
              "      <td>32</td>\n",
              "      <td>여</td>\n",
              "    </tr>\n",
              "    <tr>\n",
              "      <th>3</th>\n",
              "      <td>347cba891997ca61b13e</td>\n",
              "      <td>창업/사업</td>\n",
              "      <td>34</td>\n",
              "      <td>여</td>\n",
              "    </tr>\n",
              "    <tr>\n",
              "      <th>4</th>\n",
              "      <td>caa3368273ce3b330b3e</td>\n",
              "      <td>대학생</td>\n",
              "      <td>23</td>\n",
              "      <td>남</td>\n",
              "    </tr>\n",
              "  </tbody>\n",
              "</table>\n",
              "</div>"
            ],
            "text/plain": [
              "                user_id    job  age gender\n",
              "0  2397731931fe978eb349    직장인   30      남\n",
              "1  5eb42ddf1cda5ff826f2  창업/사업   34      남\n",
              "2  012a9585146a4ddc9f29    직장인   32      여\n",
              "3  347cba891997ca61b13e  창업/사업   34      여\n",
              "4  caa3368273ce3b330b3e    대학생   23      남"
            ]
          },
          "metadata": {},
          "execution_count": 11
        }
      ]
    },
    {
      "cell_type": "code",
      "metadata": {
        "colab": {
          "base_uri": "https://localhost:8080/"
        },
        "id": "b9kyHtdbqQfn",
        "outputId": "ac5b8dc3-58d3-45b9-c302-85b8e54be086"
      },
      "source": [
        "user_data.info()"
      ],
      "execution_count": 12,
      "outputs": [
        {
          "output_type": "stream",
          "text": [
            "<class 'pandas.core.frame.DataFrame'>\n",
            "RangeIndex: 48708 entries, 0 to 48707\n",
            "Data columns (total 4 columns):\n",
            " #   Column   Non-Null Count  Dtype \n",
            "---  ------   --------------  ----- \n",
            " 0   user_id  48708 non-null  object\n",
            " 1   job      48708 non-null  object\n",
            " 2   age      48708 non-null  int64 \n",
            " 3   gender   48708 non-null  object\n",
            "dtypes: int64(1), object(3)\n",
            "memory usage: 1.5+ MB\n"
          ],
          "name": "stdout"
        }
      ]
    },
    {
      "cell_type": "code",
      "metadata": {
        "colab": {
          "base_uri": "https://localhost:8080/"
        },
        "id": "1Wa4p2fRqop5",
        "outputId": "806fac00-0fa9-49d5-b33b-86e4b199612e"
      },
      "source": [
        "len(user_data.user_id.unique())"
      ],
      "execution_count": 13,
      "outputs": [
        {
          "output_type": "execute_result",
          "data": {
            "text/plain": [
              "40910"
            ]
          },
          "metadata": {},
          "execution_count": 13
        }
      ]
    },
    {
      "cell_type": "code",
      "metadata": {
        "colab": {
          "base_uri": "https://localhost:8080/",
          "height": 297
        },
        "id": "jMJzlwApoNf9",
        "outputId": "8c5d9246-d243-45a5-e210-fd427b47926c"
      },
      "source": [
        "user_data.describe()"
      ],
      "execution_count": 14,
      "outputs": [
        {
          "output_type": "execute_result",
          "data": {
            "text/html": [
              "<div>\n",
              "<style scoped>\n",
              "    .dataframe tbody tr th:only-of-type {\n",
              "        vertical-align: middle;\n",
              "    }\n",
              "\n",
              "    .dataframe tbody tr th {\n",
              "        vertical-align: top;\n",
              "    }\n",
              "\n",
              "    .dataframe thead th {\n",
              "        text-align: right;\n",
              "    }\n",
              "</style>\n",
              "<table border=\"1\" class=\"dataframe\">\n",
              "  <thead>\n",
              "    <tr style=\"text-align: right;\">\n",
              "      <th></th>\n",
              "      <th>age</th>\n",
              "    </tr>\n",
              "  </thead>\n",
              "  <tbody>\n",
              "    <tr>\n",
              "      <th>count</th>\n",
              "      <td>4.870800e+04</td>\n",
              "    </tr>\n",
              "    <tr>\n",
              "      <th>mean</th>\n",
              "      <td>3.757061e+04</td>\n",
              "    </tr>\n",
              "    <tr>\n",
              "      <th>std</th>\n",
              "      <td>5.386966e+05</td>\n",
              "    </tr>\n",
              "    <tr>\n",
              "      <th>min</th>\n",
              "      <td>0.000000e+00</td>\n",
              "    </tr>\n",
              "    <tr>\n",
              "      <th>25%</th>\n",
              "      <td>2.400000e+01</td>\n",
              "    </tr>\n",
              "    <tr>\n",
              "      <th>50%</th>\n",
              "      <td>2.800000e+01</td>\n",
              "    </tr>\n",
              "    <tr>\n",
              "      <th>75%</th>\n",
              "      <td>3.400000e+01</td>\n",
              "    </tr>\n",
              "    <tr>\n",
              "      <th>max</th>\n",
              "      <td>2.009043e+07</td>\n",
              "    </tr>\n",
              "  </tbody>\n",
              "</table>\n",
              "</div>"
            ],
            "text/plain": [
              "                age\n",
              "count  4.870800e+04\n",
              "mean   3.757061e+04\n",
              "std    5.386966e+05\n",
              "min    0.000000e+00\n",
              "25%    2.400000e+01\n",
              "50%    2.800000e+01\n",
              "75%    3.400000e+01\n",
              "max    2.009043e+07"
            ]
          },
          "metadata": {},
          "execution_count": 14
        }
      ]
    },
    {
      "cell_type": "code",
      "metadata": {
        "id": "ozYCdrGro9dK"
      },
      "source": [
        "# 중복제거\n",
        "user_data = user_data.drop_duplicates(subset='user_id')\n",
        "# 100세 이상 제거\n",
        "user_data = user_data[user_data['age']<100]"
      ],
      "execution_count": 15,
      "outputs": []
    },
    {
      "cell_type": "code",
      "metadata": {
        "colab": {
          "base_uri": "https://localhost:8080/"
        },
        "id": "CFMQEnBTzMDI",
        "outputId": "2b078dc3-c347-4f7d-a246-922c3b611ec9"
      },
      "source": [
        "user_data.shape"
      ],
      "execution_count": 16,
      "outputs": [
        {
          "output_type": "execute_result",
          "data": {
            "text/plain": [
              "(40039, 4)"
            ]
          },
          "metadata": {},
          "execution_count": 16
        }
      ]
    },
    {
      "cell_type": "markdown",
      "metadata": {
        "id": "2nWu3D0_yg0q"
      },
      "source": [
        "## Enroll 데이터"
      ]
    },
    {
      "cell_type": "code",
      "metadata": {
        "colab": {
          "base_uri": "https://localhost:8080/",
          "height": 204
        },
        "id": "VxUdEbz_oMDk",
        "outputId": "49b6d97f-0c0a-40f5-ebd6-ae2c0ca54b84"
      },
      "source": [
        "enroll_data = enrolled[['course_id', 'user_id', 'is_registered']]\n",
        "enroll_data.head()"
      ],
      "execution_count": 17,
      "outputs": [
        {
          "output_type": "execute_result",
          "data": {
            "text/html": [
              "<div>\n",
              "<style scoped>\n",
              "    .dataframe tbody tr th:only-of-type {\n",
              "        vertical-align: middle;\n",
              "    }\n",
              "\n",
              "    .dataframe tbody tr th {\n",
              "        vertical-align: top;\n",
              "    }\n",
              "\n",
              "    .dataframe thead th {\n",
              "        text-align: right;\n",
              "    }\n",
              "</style>\n",
              "<table border=\"1\" class=\"dataframe\">\n",
              "  <thead>\n",
              "    <tr style=\"text-align: right;\">\n",
              "      <th></th>\n",
              "      <th>course_id</th>\n",
              "      <th>user_id</th>\n",
              "      <th>is_registered</th>\n",
              "    </tr>\n",
              "  </thead>\n",
              "  <tbody>\n",
              "    <tr>\n",
              "      <th>0</th>\n",
              "      <td>bdd218f17ec6313b96f3</td>\n",
              "      <td>2151609483dab408339c</td>\n",
              "      <td>1</td>\n",
              "    </tr>\n",
              "    <tr>\n",
              "      <th>1</th>\n",
              "      <td>bdd218f17ec6313b96f3</td>\n",
              "      <td>aaf0bbc09859eb9d2c51</td>\n",
              "      <td>0</td>\n",
              "    </tr>\n",
              "    <tr>\n",
              "      <th>2</th>\n",
              "      <td>bdd218f17ec6313b96f3</td>\n",
              "      <td>aaf0bbc09859eb9d2c51</td>\n",
              "      <td>0</td>\n",
              "    </tr>\n",
              "    <tr>\n",
              "      <th>3</th>\n",
              "      <td>bdd218f17ec6313b96f3</td>\n",
              "      <td>dbe1e66d55175b5f7ff0</td>\n",
              "      <td>0</td>\n",
              "    </tr>\n",
              "    <tr>\n",
              "      <th>4</th>\n",
              "      <td>bdd218f17ec6313b96f3</td>\n",
              "      <td>dbe1e66d55175b5f7ff0</td>\n",
              "      <td>0</td>\n",
              "    </tr>\n",
              "  </tbody>\n",
              "</table>\n",
              "</div>"
            ],
            "text/plain": [
              "              course_id               user_id  is_registered\n",
              "0  bdd218f17ec6313b96f3  2151609483dab408339c              1\n",
              "1  bdd218f17ec6313b96f3  aaf0bbc09859eb9d2c51              0\n",
              "2  bdd218f17ec6313b96f3  aaf0bbc09859eb9d2c51              0\n",
              "3  bdd218f17ec6313b96f3  dbe1e66d55175b5f7ff0              0\n",
              "4  bdd218f17ec6313b96f3  dbe1e66d55175b5f7ff0              0"
            ]
          },
          "metadata": {},
          "execution_count": 17
        }
      ]
    },
    {
      "cell_type": "code",
      "metadata": {
        "colab": {
          "base_uri": "https://localhost:8080/"
        },
        "id": "bst36rnbqLTi",
        "outputId": "803ba87e-338d-40c9-e6c0-fc3aef334a21"
      },
      "source": [
        "enroll_data.info()"
      ],
      "execution_count": 18,
      "outputs": [
        {
          "output_type": "stream",
          "text": [
            "<class 'pandas.core.frame.DataFrame'>\n",
            "RangeIndex: 67321 entries, 0 to 67320\n",
            "Data columns (total 3 columns):\n",
            " #   Column         Non-Null Count  Dtype \n",
            "---  ------         --------------  ----- \n",
            " 0   course_id      67321 non-null  object\n",
            " 1   user_id        67321 non-null  object\n",
            " 2   is_registered  67321 non-null  int64 \n",
            "dtypes: int64(1), object(2)\n",
            "memory usage: 1.5+ MB\n"
          ],
          "name": "stdout"
        }
      ]
    },
    {
      "cell_type": "code",
      "metadata": {
        "colab": {
          "base_uri": "https://localhost:8080/"
        },
        "id": "f7v57M_XqBV2",
        "outputId": "38e99264-b137-4223-9b02-1c05a86ec771"
      },
      "source": [
        "enroll_data.shape"
      ],
      "execution_count": 19,
      "outputs": [
        {
          "output_type": "execute_result",
          "data": {
            "text/plain": [
              "(67321, 3)"
            ]
          },
          "metadata": {},
          "execution_count": 19
        }
      ]
    },
    {
      "cell_type": "code",
      "metadata": {
        "colab": {
          "base_uri": "https://localhost:8080/"
        },
        "id": "P-njr8A5qDNn",
        "outputId": "ccb7789f-0ffd-4e69-f0cb-d6a8366fbaf9"
      },
      "source": [
        "# 유저데이터가 있는 interaction 데이터만 추출\n",
        "enroll_data = enroll_data[enroll_data['user_id'].isin(list(user_data.user_id.unique()))]\n",
        "print(enroll_data.shape)\n",
        "enroll_data = enroll_data.drop_duplicates(subset=None)\n",
        "print(enroll_data.shape)"
      ],
      "execution_count": 20,
      "outputs": [
        {
          "output_type": "stream",
          "text": [
            "(53226, 3)\n",
            "(52111, 3)\n"
          ],
          "name": "stdout"
        }
      ]
    },
    {
      "cell_type": "code",
      "metadata": {
        "colab": {
          "base_uri": "https://localhost:8080/",
          "height": 204
        },
        "id": "mD3Iv_Hgq3yV",
        "outputId": "2fe568a4-203e-4502-8e42-cdd66e657294"
      },
      "source": [
        "enroll_data.head()"
      ],
      "execution_count": 21,
      "outputs": [
        {
          "output_type": "execute_result",
          "data": {
            "text/html": [
              "<div>\n",
              "<style scoped>\n",
              "    .dataframe tbody tr th:only-of-type {\n",
              "        vertical-align: middle;\n",
              "    }\n",
              "\n",
              "    .dataframe tbody tr th {\n",
              "        vertical-align: top;\n",
              "    }\n",
              "\n",
              "    .dataframe thead th {\n",
              "        text-align: right;\n",
              "    }\n",
              "</style>\n",
              "<table border=\"1\" class=\"dataframe\">\n",
              "  <thead>\n",
              "    <tr style=\"text-align: right;\">\n",
              "      <th></th>\n",
              "      <th>course_id</th>\n",
              "      <th>user_id</th>\n",
              "      <th>is_registered</th>\n",
              "    </tr>\n",
              "  </thead>\n",
              "  <tbody>\n",
              "    <tr>\n",
              "      <th>1</th>\n",
              "      <td>bdd218f17ec6313b96f3</td>\n",
              "      <td>aaf0bbc09859eb9d2c51</td>\n",
              "      <td>0</td>\n",
              "    </tr>\n",
              "    <tr>\n",
              "      <th>3</th>\n",
              "      <td>bdd218f17ec6313b96f3</td>\n",
              "      <td>dbe1e66d55175b5f7ff0</td>\n",
              "      <td>0</td>\n",
              "    </tr>\n",
              "    <tr>\n",
              "      <th>7</th>\n",
              "      <td>bdd218f17ec6313b96f3</td>\n",
              "      <td>80c1857389ec2d56928f</td>\n",
              "      <td>1</td>\n",
              "    </tr>\n",
              "    <tr>\n",
              "      <th>10</th>\n",
              "      <td>bdd218f17ec6313b96f3</td>\n",
              "      <td>a9899ce51cdd8a6264af</td>\n",
              "      <td>1</td>\n",
              "    </tr>\n",
              "    <tr>\n",
              "      <th>13</th>\n",
              "      <td>bdd218f17ec6313b96f3</td>\n",
              "      <td>ba56f3de9b03501c6651</td>\n",
              "      <td>1</td>\n",
              "    </tr>\n",
              "  </tbody>\n",
              "</table>\n",
              "</div>"
            ],
            "text/plain": [
              "               course_id               user_id  is_registered\n",
              "1   bdd218f17ec6313b96f3  aaf0bbc09859eb9d2c51              0\n",
              "3   bdd218f17ec6313b96f3  dbe1e66d55175b5f7ff0              0\n",
              "7   bdd218f17ec6313b96f3  80c1857389ec2d56928f              1\n",
              "10  bdd218f17ec6313b96f3  a9899ce51cdd8a6264af              1\n",
              "13  bdd218f17ec6313b96f3  ba56f3de9b03501c6651              1"
            ]
          },
          "metadata": {},
          "execution_count": 21
        }
      ]
    },
    {
      "cell_type": "markdown",
      "metadata": {
        "id": "UcBd0GCmrocd"
      },
      "source": [
        "## Course 데이터"
      ]
    },
    {
      "cell_type": "code",
      "metadata": {
        "colab": {
          "base_uri": "https://localhost:8080/",
          "height": 204
        },
        "id": "3GNy2dcgpPNu",
        "outputId": "1f9e622f-2da7-42f7-b283-73a12e4b3c7b"
      },
      "source": [
        "course.head()"
      ],
      "execution_count": 22,
      "outputs": [
        {
          "output_type": "execute_result",
          "data": {
            "text/html": [
              "<div>\n",
              "<style scoped>\n",
              "    .dataframe tbody tr th:only-of-type {\n",
              "        vertical-align: middle;\n",
              "    }\n",
              "\n",
              "    .dataframe tbody tr th {\n",
              "        vertical-align: top;\n",
              "    }\n",
              "\n",
              "    .dataframe thead th {\n",
              "        text-align: right;\n",
              "    }\n",
              "</style>\n",
              "<table border=\"1\" class=\"dataframe\">\n",
              "  <thead>\n",
              "    <tr style=\"text-align: right;\">\n",
              "      <th></th>\n",
              "      <th>course_id</th>\n",
              "      <th>title</th>\n",
              "    </tr>\n",
              "  </thead>\n",
              "  <tbody>\n",
              "    <tr>\n",
              "      <th>0</th>\n",
              "      <td>bdd218f17ec6313b96f3</td>\n",
              "      <td>웹개발 종합반</td>\n",
              "    </tr>\n",
              "    <tr>\n",
              "      <th>1</th>\n",
              "      <td>cf06e86a19be34ec1e78</td>\n",
              "      <td>앱개발 종합반</td>\n",
              "    </tr>\n",
              "    <tr>\n",
              "      <th>2</th>\n",
              "      <td>8e02dc4b2b82e9a15e1e</td>\n",
              "      <td>파이썬 데이터분석 첫걸음</td>\n",
              "    </tr>\n",
              "    <tr>\n",
              "      <th>3</th>\n",
              "      <td>d08d0754e8d4eec3862b</td>\n",
              "      <td>이미지처리로 시작하는 딥러닝</td>\n",
              "    </tr>\n",
              "    <tr>\n",
              "      <th>4</th>\n",
              "      <td>c6de4714a96cce9afe82</td>\n",
              "      <td>엑셀보다 쉬운 SQL</td>\n",
              "    </tr>\n",
              "  </tbody>\n",
              "</table>\n",
              "</div>"
            ],
            "text/plain": [
              "              course_id            title\n",
              "0  bdd218f17ec6313b96f3          웹개발 종합반\n",
              "1  cf06e86a19be34ec1e78          앱개발 종합반\n",
              "2  8e02dc4b2b82e9a15e1e    파이썬 데이터분석 첫걸음\n",
              "3  d08d0754e8d4eec3862b  이미지처리로 시작하는 딥러닝\n",
              "4  c6de4714a96cce9afe82      엑셀보다 쉬운 SQL"
            ]
          },
          "metadata": {},
          "execution_count": 22
        }
      ]
    },
    {
      "cell_type": "code",
      "metadata": {
        "colab": {
          "base_uri": "https://localhost:8080/",
          "height": 204
        },
        "id": "3XbahFk0rqUO",
        "outputId": "3291b2bc-edd0-4bbc-8e54-8385ef7916ae"
      },
      "source": [
        "course2 = pd.read_csv(PATH + 'courses_210729_v2.csv')\n",
        "course2.head()"
      ],
      "execution_count": 23,
      "outputs": [
        {
          "output_type": "execute_result",
          "data": {
            "text/html": [
              "<div>\n",
              "<style scoped>\n",
              "    .dataframe tbody tr th:only-of-type {\n",
              "        vertical-align: middle;\n",
              "    }\n",
              "\n",
              "    .dataframe tbody tr th {\n",
              "        vertical-align: top;\n",
              "    }\n",
              "\n",
              "    .dataframe thead th {\n",
              "        text-align: right;\n",
              "    }\n",
              "</style>\n",
              "<table border=\"1\" class=\"dataframe\">\n",
              "  <thead>\n",
              "    <tr style=\"text-align: right;\">\n",
              "      <th></th>\n",
              "      <th>course_id</th>\n",
              "      <th>app</th>\n",
              "      <th>level</th>\n",
              "    </tr>\n",
              "  </thead>\n",
              "  <tbody>\n",
              "    <tr>\n",
              "      <th>0</th>\n",
              "      <td>bdd218f17ec6313b96f3</td>\n",
              "      <td>웹</td>\n",
              "      <td>종합</td>\n",
              "    </tr>\n",
              "    <tr>\n",
              "      <th>1</th>\n",
              "      <td>cf06e86a19be34ec1e78</td>\n",
              "      <td>앱</td>\n",
              "      <td>종합</td>\n",
              "    </tr>\n",
              "    <tr>\n",
              "      <th>2</th>\n",
              "      <td>8e02dc4b2b82e9a15e1e</td>\n",
              "      <td>파이썬</td>\n",
              "      <td>초급</td>\n",
              "    </tr>\n",
              "    <tr>\n",
              "      <th>3</th>\n",
              "      <td>d08d0754e8d4eec3862b</td>\n",
              "      <td>파이썬</td>\n",
              "      <td>종합</td>\n",
              "    </tr>\n",
              "    <tr>\n",
              "      <th>4</th>\n",
              "      <td>c6de4714a96cce9afe82</td>\n",
              "      <td>SQL</td>\n",
              "      <td>초급</td>\n",
              "    </tr>\n",
              "  </tbody>\n",
              "</table>\n",
              "</div>"
            ],
            "text/plain": [
              "              course_id  app level\n",
              "0  bdd218f17ec6313b96f3    웹    종합\n",
              "1  cf06e86a19be34ec1e78    앱    종합\n",
              "2  8e02dc4b2b82e9a15e1e  파이썬    초급\n",
              "3  d08d0754e8d4eec3862b  파이썬    종합\n",
              "4  c6de4714a96cce9afe82  SQL    초급"
            ]
          },
          "metadata": {},
          "execution_count": 23
        }
      ]
    },
    {
      "cell_type": "markdown",
      "metadata": {
        "id": "sDyk6MIKr161"
      },
      "source": [
        "## 없는 데이터 만들어내기"
      ]
    },
    {
      "cell_type": "code",
      "metadata": {
        "colab": {
          "base_uri": "https://localhost:8080/"
        },
        "id": "_YfeXh5jruOe",
        "outputId": "9c1d17c5-2777-4497-a94d-6f9b4ed439ea"
      },
      "source": [
        "import random\n",
        "unique_user = list(user_data.user_id.unique())\n",
        "unique_course = list(enroll_data.course_id.unique())\n",
        "\n",
        "user_list = random.choices(unique_user, k=30000)\n",
        "course_list = random.choices(unique_course, k=30000)\n",
        "print(enroll_data.shape)\n",
        "for i in range(len(user_list)):\n",
        "    user = user_list[i]\n",
        "    course = course_list[i]\n",
        "    try:\n",
        "        value = int(enroll_data.loc[(enroll_data['course_id']==course) & (enroll_data['user_id']==user),'is_registered'])\n",
        "    except TypeError:\n",
        "        enroll_data = enroll_data.append({'course_id':course, 'user_id':user, 'is_registered':0}, ignore_index=True)\n",
        "print(enroll_data.shape)"
      ],
      "execution_count": 24,
      "outputs": [
        {
          "output_type": "stream",
          "text": [
            "(52111, 3)\n",
            "(80980, 3)\n"
          ],
          "name": "stdout"
        }
      ]
    },
    {
      "cell_type": "code",
      "metadata": {
        "colab": {
          "base_uri": "https://localhost:8080/",
          "height": 222
        },
        "id": "BRlBuvZ_sla_",
        "outputId": "88bdfbce-7a17-4c6b-9fc0-462606ac6e1b"
      },
      "source": [
        "print(enroll_data.shape)\n",
        "enroll_data.head()"
      ],
      "execution_count": 25,
      "outputs": [
        {
          "output_type": "stream",
          "text": [
            "(80980, 3)\n"
          ],
          "name": "stdout"
        },
        {
          "output_type": "execute_result",
          "data": {
            "text/html": [
              "<div>\n",
              "<style scoped>\n",
              "    .dataframe tbody tr th:only-of-type {\n",
              "        vertical-align: middle;\n",
              "    }\n",
              "\n",
              "    .dataframe tbody tr th {\n",
              "        vertical-align: top;\n",
              "    }\n",
              "\n",
              "    .dataframe thead th {\n",
              "        text-align: right;\n",
              "    }\n",
              "</style>\n",
              "<table border=\"1\" class=\"dataframe\">\n",
              "  <thead>\n",
              "    <tr style=\"text-align: right;\">\n",
              "      <th></th>\n",
              "      <th>course_id</th>\n",
              "      <th>user_id</th>\n",
              "      <th>is_registered</th>\n",
              "    </tr>\n",
              "  </thead>\n",
              "  <tbody>\n",
              "    <tr>\n",
              "      <th>0</th>\n",
              "      <td>bdd218f17ec6313b96f3</td>\n",
              "      <td>aaf0bbc09859eb9d2c51</td>\n",
              "      <td>0</td>\n",
              "    </tr>\n",
              "    <tr>\n",
              "      <th>1</th>\n",
              "      <td>bdd218f17ec6313b96f3</td>\n",
              "      <td>dbe1e66d55175b5f7ff0</td>\n",
              "      <td>0</td>\n",
              "    </tr>\n",
              "    <tr>\n",
              "      <th>2</th>\n",
              "      <td>bdd218f17ec6313b96f3</td>\n",
              "      <td>80c1857389ec2d56928f</td>\n",
              "      <td>1</td>\n",
              "    </tr>\n",
              "    <tr>\n",
              "      <th>3</th>\n",
              "      <td>bdd218f17ec6313b96f3</td>\n",
              "      <td>a9899ce51cdd8a6264af</td>\n",
              "      <td>1</td>\n",
              "    </tr>\n",
              "    <tr>\n",
              "      <th>4</th>\n",
              "      <td>bdd218f17ec6313b96f3</td>\n",
              "      <td>ba56f3de9b03501c6651</td>\n",
              "      <td>1</td>\n",
              "    </tr>\n",
              "  </tbody>\n",
              "</table>\n",
              "</div>"
            ],
            "text/plain": [
              "              course_id               user_id  is_registered\n",
              "0  bdd218f17ec6313b96f3  aaf0bbc09859eb9d2c51              0\n",
              "1  bdd218f17ec6313b96f3  dbe1e66d55175b5f7ff0              0\n",
              "2  bdd218f17ec6313b96f3  80c1857389ec2d56928f              1\n",
              "3  bdd218f17ec6313b96f3  a9899ce51cdd8a6264af              1\n",
              "4  bdd218f17ec6313b96f3  ba56f3de9b03501c6651              1"
            ]
          },
          "metadata": {},
          "execution_count": 25
        }
      ]
    },
    {
      "cell_type": "code",
      "metadata": {
        "id": "zk7Uy2yDtCek"
      },
      "source": [
        "enroll_data = enroll_data.merge(user_data, left_on='user_id', right_on='user_id', how='left')"
      ],
      "execution_count": 26,
      "outputs": []
    },
    {
      "cell_type": "code",
      "metadata": {
        "colab": {
          "base_uri": "https://localhost:8080/",
          "height": 222
        },
        "id": "0wAivieSwyZF",
        "outputId": "145e224f-8942-4898-9212-e2fc78c1829f"
      },
      "source": [
        "print(enroll_data.shape)\n",
        "enroll_data.head()"
      ],
      "execution_count": 28,
      "outputs": [
        {
          "output_type": "stream",
          "text": [
            "(80980, 6)\n"
          ],
          "name": "stdout"
        },
        {
          "output_type": "execute_result",
          "data": {
            "text/html": [
              "<div>\n",
              "<style scoped>\n",
              "    .dataframe tbody tr th:only-of-type {\n",
              "        vertical-align: middle;\n",
              "    }\n",
              "\n",
              "    .dataframe tbody tr th {\n",
              "        vertical-align: top;\n",
              "    }\n",
              "\n",
              "    .dataframe thead th {\n",
              "        text-align: right;\n",
              "    }\n",
              "</style>\n",
              "<table border=\"1\" class=\"dataframe\">\n",
              "  <thead>\n",
              "    <tr style=\"text-align: right;\">\n",
              "      <th></th>\n",
              "      <th>course_id</th>\n",
              "      <th>user_id</th>\n",
              "      <th>is_registered</th>\n",
              "      <th>job</th>\n",
              "      <th>age</th>\n",
              "      <th>gender</th>\n",
              "    </tr>\n",
              "  </thead>\n",
              "  <tbody>\n",
              "    <tr>\n",
              "      <th>0</th>\n",
              "      <td>bdd218f17ec6313b96f3</td>\n",
              "      <td>aaf0bbc09859eb9d2c51</td>\n",
              "      <td>0</td>\n",
              "      <td>직장인</td>\n",
              "      <td>29</td>\n",
              "      <td>남</td>\n",
              "    </tr>\n",
              "    <tr>\n",
              "      <th>1</th>\n",
              "      <td>bdd218f17ec6313b96f3</td>\n",
              "      <td>dbe1e66d55175b5f7ff0</td>\n",
              "      <td>0</td>\n",
              "      <td>창업/사업</td>\n",
              "      <td>29</td>\n",
              "      <td>여</td>\n",
              "    </tr>\n",
              "    <tr>\n",
              "      <th>2</th>\n",
              "      <td>bdd218f17ec6313b96f3</td>\n",
              "      <td>80c1857389ec2d56928f</td>\n",
              "      <td>1</td>\n",
              "      <td>직장인</td>\n",
              "      <td>30</td>\n",
              "      <td>여</td>\n",
              "    </tr>\n",
              "    <tr>\n",
              "      <th>3</th>\n",
              "      <td>bdd218f17ec6313b96f3</td>\n",
              "      <td>a9899ce51cdd8a6264af</td>\n",
              "      <td>1</td>\n",
              "      <td>무직/준비중</td>\n",
              "      <td>24</td>\n",
              "      <td>여</td>\n",
              "    </tr>\n",
              "    <tr>\n",
              "      <th>4</th>\n",
              "      <td>bdd218f17ec6313b96f3</td>\n",
              "      <td>ba56f3de9b03501c6651</td>\n",
              "      <td>1</td>\n",
              "      <td>무직/준비중</td>\n",
              "      <td>24</td>\n",
              "      <td>여</td>\n",
              "    </tr>\n",
              "  </tbody>\n",
              "</table>\n",
              "</div>"
            ],
            "text/plain": [
              "              course_id               user_id  ...  age gender\n",
              "0  bdd218f17ec6313b96f3  aaf0bbc09859eb9d2c51  ...   29      남\n",
              "1  bdd218f17ec6313b96f3  dbe1e66d55175b5f7ff0  ...   29      여\n",
              "2  bdd218f17ec6313b96f3  80c1857389ec2d56928f  ...   30      여\n",
              "3  bdd218f17ec6313b96f3  a9899ce51cdd8a6264af  ...   24      여\n",
              "4  bdd218f17ec6313b96f3  ba56f3de9b03501c6651  ...   24      여\n",
              "\n",
              "[5 rows x 6 columns]"
            ]
          },
          "metadata": {},
          "execution_count": 28
        }
      ]
    },
    {
      "cell_type": "code",
      "metadata": {
        "id": "leIEHTkyw0P-"
      },
      "source": [
        "enroll_data = enroll_data.merge(course2, left_on='course_id', right_on='course_id', how='left')"
      ],
      "execution_count": 29,
      "outputs": []
    },
    {
      "cell_type": "code",
      "metadata": {
        "colab": {
          "base_uri": "https://localhost:8080/",
          "height": 222
        },
        "id": "wfhcJFNlw9ud",
        "outputId": "5963ac91-0456-44fd-f632-b9f114b81eb8"
      },
      "source": [
        "print(enroll_data.shape)\n",
        "enroll_data.head()"
      ],
      "execution_count": 30,
      "outputs": [
        {
          "output_type": "stream",
          "text": [
            "(80980, 8)\n"
          ],
          "name": "stdout"
        },
        {
          "output_type": "execute_result",
          "data": {
            "text/html": [
              "<div>\n",
              "<style scoped>\n",
              "    .dataframe tbody tr th:only-of-type {\n",
              "        vertical-align: middle;\n",
              "    }\n",
              "\n",
              "    .dataframe tbody tr th {\n",
              "        vertical-align: top;\n",
              "    }\n",
              "\n",
              "    .dataframe thead th {\n",
              "        text-align: right;\n",
              "    }\n",
              "</style>\n",
              "<table border=\"1\" class=\"dataframe\">\n",
              "  <thead>\n",
              "    <tr style=\"text-align: right;\">\n",
              "      <th></th>\n",
              "      <th>course_id</th>\n",
              "      <th>user_id</th>\n",
              "      <th>is_registered</th>\n",
              "      <th>job</th>\n",
              "      <th>age</th>\n",
              "      <th>gender</th>\n",
              "      <th>app</th>\n",
              "      <th>level</th>\n",
              "    </tr>\n",
              "  </thead>\n",
              "  <tbody>\n",
              "    <tr>\n",
              "      <th>0</th>\n",
              "      <td>bdd218f17ec6313b96f3</td>\n",
              "      <td>aaf0bbc09859eb9d2c51</td>\n",
              "      <td>0</td>\n",
              "      <td>직장인</td>\n",
              "      <td>29</td>\n",
              "      <td>남</td>\n",
              "      <td>웹</td>\n",
              "      <td>종합</td>\n",
              "    </tr>\n",
              "    <tr>\n",
              "      <th>1</th>\n",
              "      <td>bdd218f17ec6313b96f3</td>\n",
              "      <td>dbe1e66d55175b5f7ff0</td>\n",
              "      <td>0</td>\n",
              "      <td>창업/사업</td>\n",
              "      <td>29</td>\n",
              "      <td>여</td>\n",
              "      <td>웹</td>\n",
              "      <td>종합</td>\n",
              "    </tr>\n",
              "    <tr>\n",
              "      <th>2</th>\n",
              "      <td>bdd218f17ec6313b96f3</td>\n",
              "      <td>80c1857389ec2d56928f</td>\n",
              "      <td>1</td>\n",
              "      <td>직장인</td>\n",
              "      <td>30</td>\n",
              "      <td>여</td>\n",
              "      <td>웹</td>\n",
              "      <td>종합</td>\n",
              "    </tr>\n",
              "    <tr>\n",
              "      <th>3</th>\n",
              "      <td>bdd218f17ec6313b96f3</td>\n",
              "      <td>a9899ce51cdd8a6264af</td>\n",
              "      <td>1</td>\n",
              "      <td>무직/준비중</td>\n",
              "      <td>24</td>\n",
              "      <td>여</td>\n",
              "      <td>웹</td>\n",
              "      <td>종합</td>\n",
              "    </tr>\n",
              "    <tr>\n",
              "      <th>4</th>\n",
              "      <td>bdd218f17ec6313b96f3</td>\n",
              "      <td>ba56f3de9b03501c6651</td>\n",
              "      <td>1</td>\n",
              "      <td>무직/준비중</td>\n",
              "      <td>24</td>\n",
              "      <td>여</td>\n",
              "      <td>웹</td>\n",
              "      <td>종합</td>\n",
              "    </tr>\n",
              "  </tbody>\n",
              "</table>\n",
              "</div>"
            ],
            "text/plain": [
              "              course_id               user_id  is_registered  ... gender  app level\n",
              "0  bdd218f17ec6313b96f3  aaf0bbc09859eb9d2c51              0  ...      남    웹    종합\n",
              "1  bdd218f17ec6313b96f3  dbe1e66d55175b5f7ff0              0  ...      여    웹    종합\n",
              "2  bdd218f17ec6313b96f3  80c1857389ec2d56928f              1  ...      여    웹    종합\n",
              "3  bdd218f17ec6313b96f3  a9899ce51cdd8a6264af              1  ...      여    웹    종합\n",
              "4  bdd218f17ec6313b96f3  ba56f3de9b03501c6651              1  ...      여    웹    종합\n",
              "\n",
              "[5 rows x 8 columns]"
            ]
          },
          "metadata": {},
          "execution_count": 30
        }
      ]
    },
    {
      "cell_type": "code",
      "metadata": {
        "colab": {
          "base_uri": "https://localhost:8080/"
        },
        "id": "zo-pCw1_xfkj",
        "outputId": "83b6e213-e4c1-4f99-c660-6fb782c44ffd"
      },
      "source": [
        "enroll_data.info()"
      ],
      "execution_count": 31,
      "outputs": [
        {
          "output_type": "stream",
          "text": [
            "<class 'pandas.core.frame.DataFrame'>\n",
            "Int64Index: 80980 entries, 0 to 80979\n",
            "Data columns (total 8 columns):\n",
            " #   Column         Non-Null Count  Dtype \n",
            "---  ------         --------------  ----- \n",
            " 0   course_id      80980 non-null  object\n",
            " 1   user_id        80980 non-null  object\n",
            " 2   is_registered  80980 non-null  int64 \n",
            " 3   job            80980 non-null  object\n",
            " 4   age            80980 non-null  int64 \n",
            " 5   gender         80980 non-null  object\n",
            " 6   app            80980 non-null  object\n",
            " 7   level          80980 non-null  object\n",
            "dtypes: int64(2), object(6)\n",
            "memory usage: 5.6+ MB\n"
          ],
          "name": "stdout"
        }
      ]
    },
    {
      "cell_type": "code",
      "metadata": {
        "id": "fgSgWYLYw-4e"
      },
      "source": [
        "# y값 분리\n",
        "y = enroll_data['is_registered'].values\n",
        "enroll_data.drop('is_registered', axis=1, inplace=True)"
      ],
      "execution_count": 32,
      "outputs": []
    },
    {
      "cell_type": "code",
      "metadata": {
        "id": "Hc38mhJCxH1m"
      },
      "source": [
        "# 카테고리를 숫자로\n",
        "CATEGORICAL_COLUMNS = ['job', 'gender', 'app', 'level']\n",
        "CONTINUOUS_COLUMNS = ['age']\n",
        "for c in CATEGORICAL_COLUMNS:\n",
        "    le = LabelEncoder()\n",
        "    enroll_data[c] = le.fit_transform(enroll_data[c])"
      ],
      "execution_count": 33,
      "outputs": []
    },
    {
      "cell_type": "code",
      "metadata": {
        "colab": {
          "base_uri": "https://localhost:8080/",
          "height": 204
        },
        "id": "E6Lu0gkGxTjv",
        "outputId": "0cb38660-a937-4533-cab8-270091534757"
      },
      "source": [
        "enroll_data.head()"
      ],
      "execution_count": 34,
      "outputs": [
        {
          "output_type": "execute_result",
          "data": {
            "text/html": [
              "<div>\n",
              "<style scoped>\n",
              "    .dataframe tbody tr th:only-of-type {\n",
              "        vertical-align: middle;\n",
              "    }\n",
              "\n",
              "    .dataframe tbody tr th {\n",
              "        vertical-align: top;\n",
              "    }\n",
              "\n",
              "    .dataframe thead th {\n",
              "        text-align: right;\n",
              "    }\n",
              "</style>\n",
              "<table border=\"1\" class=\"dataframe\">\n",
              "  <thead>\n",
              "    <tr style=\"text-align: right;\">\n",
              "      <th></th>\n",
              "      <th>course_id</th>\n",
              "      <th>user_id</th>\n",
              "      <th>job</th>\n",
              "      <th>age</th>\n",
              "      <th>gender</th>\n",
              "      <th>app</th>\n",
              "      <th>level</th>\n",
              "    </tr>\n",
              "  </thead>\n",
              "  <tbody>\n",
              "    <tr>\n",
              "      <th>0</th>\n",
              "      <td>bdd218f17ec6313b96f3</td>\n",
              "      <td>aaf0bbc09859eb9d2c51</td>\n",
              "      <td>3</td>\n",
              "      <td>29</td>\n",
              "      <td>0</td>\n",
              "      <td>13</td>\n",
              "      <td>2</td>\n",
              "    </tr>\n",
              "    <tr>\n",
              "      <th>1</th>\n",
              "      <td>bdd218f17ec6313b96f3</td>\n",
              "      <td>dbe1e66d55175b5f7ff0</td>\n",
              "      <td>4</td>\n",
              "      <td>29</td>\n",
              "      <td>1</td>\n",
              "      <td>13</td>\n",
              "      <td>2</td>\n",
              "    </tr>\n",
              "    <tr>\n",
              "      <th>2</th>\n",
              "      <td>bdd218f17ec6313b96f3</td>\n",
              "      <td>80c1857389ec2d56928f</td>\n",
              "      <td>3</td>\n",
              "      <td>30</td>\n",
              "      <td>1</td>\n",
              "      <td>13</td>\n",
              "      <td>2</td>\n",
              "    </tr>\n",
              "    <tr>\n",
              "      <th>3</th>\n",
              "      <td>bdd218f17ec6313b96f3</td>\n",
              "      <td>a9899ce51cdd8a6264af</td>\n",
              "      <td>2</td>\n",
              "      <td>24</td>\n",
              "      <td>1</td>\n",
              "      <td>13</td>\n",
              "      <td>2</td>\n",
              "    </tr>\n",
              "    <tr>\n",
              "      <th>4</th>\n",
              "      <td>bdd218f17ec6313b96f3</td>\n",
              "      <td>ba56f3de9b03501c6651</td>\n",
              "      <td>2</td>\n",
              "      <td>24</td>\n",
              "      <td>1</td>\n",
              "      <td>13</td>\n",
              "      <td>2</td>\n",
              "    </tr>\n",
              "  </tbody>\n",
              "</table>\n",
              "</div>"
            ],
            "text/plain": [
              "              course_id               user_id  job  age  gender  app  level\n",
              "0  bdd218f17ec6313b96f3  aaf0bbc09859eb9d2c51    3   29       0   13      2\n",
              "1  bdd218f17ec6313b96f3  dbe1e66d55175b5f7ff0    4   29       1   13      2\n",
              "2  bdd218f17ec6313b96f3  80c1857389ec2d56928f    3   30       1   13      2\n",
              "3  bdd218f17ec6313b96f3  a9899ce51cdd8a6264af    2   24       1   13      2\n",
              "4  bdd218f17ec6313b96f3  ba56f3de9b03501c6651    2   24       1   13      2"
            ]
          },
          "metadata": {},
          "execution_count": 34
        }
      ]
    },
    {
      "cell_type": "markdown",
      "metadata": {
        "id": "bG2z9ryN1Z8k"
      },
      "source": [
        "# 데이터 분할"
      ]
    },
    {
      "cell_type": "code",
      "metadata": {
        "id": "y7bIIuww1Q6P"
      },
      "source": [
        "from sklearn.model_selection import train_test_split\n",
        "X_train, X_test, y_train, y_test = train_test_split(enroll_data, y, test_size=0.3, random_state=42)"
      ],
      "execution_count": 35,
      "outputs": []
    },
    {
      "cell_type": "code",
      "metadata": {
        "id": "PrH7ZSRz1jwH"
      },
      "source": [
        "X_train_category = np.array(X_train[CATEGORICAL_COLUMNS])\n",
        "X_test_category = np.array(X_test[CATEGORICAL_COLUMNS])\n",
        "X_train_continue = np.array(X_train[CONTINUOUS_COLUMNS], dtype='float64')\n",
        "X_test_continue = np.array(X_test[CONTINUOUS_COLUMNS], dtype='float64')"
      ],
      "execution_count": 36,
      "outputs": []
    },
    {
      "cell_type": "code",
      "metadata": {
        "colab": {
          "base_uri": "https://localhost:8080/"
        },
        "id": "Z2bpoaby1yZA",
        "outputId": "876a06fb-62bd-4e4b-ee3e-a4a5e8b788fa"
      },
      "source": [
        "print(X_train_category[:1])\n",
        "print(X_test_category[:1])\n",
        "print(X_train_continue[:1])\n",
        "print(X_test_continue[:1])"
      ],
      "execution_count": 37,
      "outputs": [
        {
          "output_type": "stream",
          "text": [
            "[[ 2  0 14  4]]\n",
            "[[ 3  1 18  4]]\n",
            "[[28.]]\n",
            "[[27.]]\n"
          ],
          "name": "stdout"
        }
      ]
    },
    {
      "cell_type": "code",
      "metadata": {
        "id": "TuDrp6n711uO"
      },
      "source": [
        "# 정규화\n",
        "scaler = StandardScaler()\n",
        "X_train_continue = scaler.fit_transform(X_train_continue)\n",
        "X_test_continue = scaler.transform(X_test_continue)"
      ],
      "execution_count": 43,
      "outputs": []
    },
    {
      "cell_type": "code",
      "metadata": {
        "colab": {
          "base_uri": "https://localhost:8080/"
        },
        "id": "cbuAA9z52CC2",
        "outputId": "895811d7-321d-4a13-d083-bd31f8176d6f"
      },
      "source": [
        "print(X_train_continue[:1])\n",
        "print(X_test_continue[:1])"
      ],
      "execution_count": 44,
      "outputs": [
        {
          "output_type": "stream",
          "text": [
            "[[-0.1727949]]\n",
            "[[-0.29213202]]\n"
          ],
          "name": "stdout"
        }
      ]
    },
    {
      "cell_type": "code",
      "metadata": {
        "id": "OC75T4yr2EHm"
      },
      "source": [
        "# Polynomial\n",
        "poly = PolynomialFeatures(degree=2, interaction_only=True)\n",
        "X_train_category_poly = poly.fit_transform(X_train_category)\n",
        "X_test_category_poly = poly.transform(X_test_category)"
      ],
      "execution_count": 45,
      "outputs": []
    },
    {
      "cell_type": "code",
      "metadata": {
        "colab": {
          "base_uri": "https://localhost:8080/"
        },
        "id": "UzDS73E12QXu",
        "outputId": "1e18f3c0-8260-4508-810f-c93e72835860"
      },
      "source": [
        "print(X_train_category_poly[:1])\n",
        "print(X_test_category_poly[:1])"
      ],
      "execution_count": 46,
      "outputs": [
        {
          "output_type": "stream",
          "text": [
            "[[ 1.  2.  0. 14.  4.  0. 28.  8.  0.  0. 56.]]\n",
            "[[ 1.  3.  1. 18.  4.  3. 54. 12. 18.  4. 72.]]\n"
          ],
          "name": "stdout"
        }
      ]
    },
    {
      "cell_type": "markdown",
      "metadata": {
        "id": "i4OxgF9l2aEp"
      },
      "source": [
        "# 모델 설계"
      ]
    },
    {
      "cell_type": "code",
      "metadata": {
        "id": "73NmZFD_2ZEb"
      },
      "source": [
        "def get_deep_model():\n",
        "\n",
        "    category_inputs = []\n",
        "    category_embeds = []\n",
        "    # 카테고리 데이터 임베딩\n",
        "    for i in range(len(CATEGORICAL_COLUMNS)):\n",
        "        input_i = Input(shape=(1,), dtype='int32')\n",
        "        dim = len(np.unique(enroll_data[CATEGORICAL_COLUMNS[i]]))\n",
        "        embed_dim = int(np.ceil(dim ** 0.5)) # 임베딩 차원 0.5배\n",
        "        embed_i = Embedding(dim, embed_dim, input_length=1)(input_i)\n",
        "        flatten_i = Flatten()(embed_i)\n",
        "        category_inputs.append(input_i)\n",
        "        category_embeds.append(flatten_i)\n",
        "\n",
        "    # 연속형 데이터 input\n",
        "    continue_input = Input(shape=(len(CONTINUOUS_COLUMNS),))\n",
        "    continue_dense = Dense(256, use_bias=False)(continue_input)\n",
        "    \n",
        "    # 카테고리와 연속형 합침\n",
        "    concat_embeds = concatenate([continue_dense] + category_embeds)\n",
        "    concat_embeds = Activation('relu')(concat_embeds)\n",
        "    bn_concat = BatchNormalization()(concat_embeds)\n",
        "\n",
        "    fc1 = Dense(512, use_bias=False)(bn_concat)\n",
        "    relu1 = ReLU()(fc1)\n",
        "    bn1 = BatchNormalization()(relu1)\n",
        "    fc2 = Dense(256, use_bias=False)(bn1)\n",
        "    relu2 = ReLU()(fc2)\n",
        "    bn2 = BatchNormalization()(relu2)\n",
        "    fc3 = Dense(128)(bn2)\n",
        "    relu3 = ReLU()(fc3)\n",
        "\n",
        "    return category_inputs, continue_input, relu3"
      ],
      "execution_count": 56,
      "outputs": []
    },
    {
      "cell_type": "code",
      "metadata": {
        "id": "BhuNLto_38Ns"
      },
      "source": [
        "def get_wide_model():\n",
        "    dim = X_train_category_poly.shape[1]\n",
        "    return Input(shape=(dim, ))"
      ],
      "execution_count": 57,
      "outputs": []
    },
    {
      "cell_type": "code",
      "metadata": {
        "id": "RhZtwAlf3_7-"
      },
      "source": [
        "category_inputs, continue_input, deep_model = get_deep_model()\n",
        "wide_model = get_wide_model()"
      ],
      "execution_count": 58,
      "outputs": []
    },
    {
      "cell_type": "code",
      "metadata": {
        "id": "fW__m12d4Fru"
      },
      "source": [
        "# Wide와 Deep 합치기\n",
        "out_layer = concatenate([deep_model, wide_model])\n",
        "inputs = [continue_input] + category_inputs + [wide_model]\n",
        "output = Dense(1, activation='sigmoid')(out_layer)\n",
        "model = Model(inputs=inputs, outputs=output)"
      ],
      "execution_count": 60,
      "outputs": []
    },
    {
      "cell_type": "code",
      "metadata": {
        "colab": {
          "base_uri": "https://localhost:8080/"
        },
        "id": "BPfmfhXD4_sR",
        "outputId": "08750ff2-d6d2-459b-92d6-b5d4d5458324"
      },
      "source": [
        "model.summary()"
      ],
      "execution_count": 61,
      "outputs": [
        {
          "output_type": "stream",
          "text": [
            "Model: \"model\"\n",
            "__________________________________________________________________________________________________\n",
            "Layer (type)                    Output Shape         Param #     Connected to                     \n",
            "==================================================================================================\n",
            "input_21 (InputLayer)           [(None, 1)]          0                                            \n",
            "__________________________________________________________________________________________________\n",
            "input_22 (InputLayer)           [(None, 1)]          0                                            \n",
            "__________________________________________________________________________________________________\n",
            "input_23 (InputLayer)           [(None, 1)]          0                                            \n",
            "__________________________________________________________________________________________________\n",
            "input_24 (InputLayer)           [(None, 1)]          0                                            \n",
            "__________________________________________________________________________________________________\n",
            "input_25 (InputLayer)           [(None, 1)]          0                                            \n",
            "__________________________________________________________________________________________________\n",
            "embedding_16 (Embedding)        (None, 1, 3)         18          input_21[0][0]                   \n",
            "__________________________________________________________________________________________________\n",
            "embedding_17 (Embedding)        (None, 1, 2)         4           input_22[0][0]                   \n",
            "__________________________________________________________________________________________________\n",
            "embedding_18 (Embedding)        (None, 1, 5)         95          input_23[0][0]                   \n",
            "__________________________________________________________________________________________________\n",
            "embedding_19 (Embedding)        (None, 1, 3)         15          input_24[0][0]                   \n",
            "__________________________________________________________________________________________________\n",
            "dense_12 (Dense)                (None, 256)          256         input_25[0][0]                   \n",
            "__________________________________________________________________________________________________\n",
            "flatten_16 (Flatten)            (None, 3)            0           embedding_16[0][0]               \n",
            "__________________________________________________________________________________________________\n",
            "flatten_17 (Flatten)            (None, 2)            0           embedding_17[0][0]               \n",
            "__________________________________________________________________________________________________\n",
            "flatten_18 (Flatten)            (None, 5)            0           embedding_18[0][0]               \n",
            "__________________________________________________________________________________________________\n",
            "flatten_19 (Flatten)            (None, 3)            0           embedding_19[0][0]               \n",
            "__________________________________________________________________________________________________\n",
            "concatenate_4 (Concatenate)     (None, 269)          0           dense_12[0][0]                   \n",
            "                                                                 flatten_16[0][0]                 \n",
            "                                                                 flatten_17[0][0]                 \n",
            "                                                                 flatten_18[0][0]                 \n",
            "                                                                 flatten_19[0][0]                 \n",
            "__________________________________________________________________________________________________\n",
            "activation_4 (Activation)       (None, 269)          0           concatenate_4[0][0]              \n",
            "__________________________________________________________________________________________________\n",
            "batch_normalization_8 (BatchNor (None, 269)          1076        activation_4[0][0]               \n",
            "__________________________________________________________________________________________________\n",
            "dense_13 (Dense)                (None, 512)          137728      batch_normalization_8[0][0]      \n",
            "__________________________________________________________________________________________________\n",
            "re_lu_8 (ReLU)                  (None, 512)          0           dense_13[0][0]                   \n",
            "__________________________________________________________________________________________________\n",
            "batch_normalization_9 (BatchNor (None, 512)          2048        re_lu_8[0][0]                    \n",
            "__________________________________________________________________________________________________\n",
            "dense_14 (Dense)                (None, 256)          131072      batch_normalization_9[0][0]      \n",
            "__________________________________________________________________________________________________\n",
            "re_lu_9 (ReLU)                  (None, 256)          0           dense_14[0][0]                   \n",
            "__________________________________________________________________________________________________\n",
            "batch_normalization_10 (BatchNo (None, 256)          1024        re_lu_9[0][0]                    \n",
            "__________________________________________________________________________________________________\n",
            "dense_15 (Dense)                (None, 128)          32896       batch_normalization_10[0][0]     \n",
            "__________________________________________________________________________________________________\n",
            "re_lu_10 (ReLU)                 (None, 128)          0           dense_15[0][0]                   \n",
            "__________________________________________________________________________________________________\n",
            "input_26 (InputLayer)           [(None, 11)]         0                                            \n",
            "__________________________________________________________________________________________________\n",
            "concatenate_5 (Concatenate)     (None, 139)          0           re_lu_10[0][0]                   \n",
            "                                                                 input_26[0][0]                   \n",
            "__________________________________________________________________________________________________\n",
            "dense_16 (Dense)                (None, 1)            140         concatenate_5[0][0]              \n",
            "==================================================================================================\n",
            "Total params: 306,372\n",
            "Trainable params: 304,298\n",
            "Non-trainable params: 2,074\n",
            "__________________________________________________________________________________________________\n"
          ],
          "name": "stdout"
        }
      ]
    },
    {
      "cell_type": "code",
      "metadata": {
        "colab": {
          "base_uri": "https://localhost:8080/",
          "height": 663
        },
        "id": "lijtgXjW5Lsv",
        "outputId": "f4035720-84a9-4f90-ac88-313e53fdac8f"
      },
      "source": [
        "!pip install pydot -q\n",
        "plot_model(model, to_file='model_plot.png', show_shapes=True, show_layer_names=True)"
      ],
      "execution_count": 63,
      "outputs": [
        {
          "output_type": "execute_result",
          "data": {
            "image/png": "[encoded data removed]",
            "text/plain": [
              "<IPython.core.display.Image object>"
            ]
          },
          "metadata": {},
          "execution_count": 63
        }
      ]
    },
    {
      "cell_type": "code",
      "metadata": {
        "id": "P6VJMj-J5XAO"
      },
      "source": [
        "checkpoint = ModelCheckpoint(\n",
        "    filepath='./data/wide-deep.h5',\n",
        "    monitor='val_loss',\n",
        "    verbose=1,\n",
        "    save_best_only=True\n",
        ")\n",
        "early_stopping = EarlyStopping(monitor='val_loss', patience=5)"
      ],
      "execution_count": 64,
      "outputs": []
    },
    {
      "cell_type": "code",
      "metadata": {
        "colab": {
          "base_uri": "https://localhost:8080/"
        },
        "id": "2rc4Krlv5od_",
        "outputId": "f292c352-83b1-4199-ce8b-9a5b9d06676c"
      },
      "source": [
        "# 입력 데이터\n",
        "input_data = [X_train_continue] + [X_train_category[:, i] for i in range(X_train_category.shape[1])] \\\n",
        "                                   + [X_train_category_poly]\n",
        "\n",
        "epochs = 30\n",
        "optimizer= 'adam'\n",
        "batch_size = 128\n",
        "\n",
        "model.compile(optimizer=optimizer, loss='binary_crossentropy', metrics=['accuracy'])\n",
        "\n",
        "model.fit(input_data, y_train,\n",
        "          epochs=epochs,\n",
        "          batch_size=batch_size,\n",
        "          validation_split=0.15,\n",
        "          callbacks=[checkpoint, early_stopping])"
      ],
      "execution_count": 66,
      "outputs": [
        {
          "output_type": "stream",
          "text": [
            "Epoch 1/30\n",
            "377/377 [==============================] - 5s 7ms/step - loss: 0.4886 - accuracy: 0.7856 - val_loss: 0.5462 - val_accuracy: 0.6841\n",
            "\n",
            "Epoch 00001: val_loss improved from inf to 0.54622, saving model to ./data/wide-deep.h5\n",
            "Epoch 2/30\n",
            "377/377 [==============================] - 3s 7ms/step - loss: 0.4399 - accuracy: 0.8173 - val_loss: 0.4271 - val_accuracy: 0.8214\n",
            "\n",
            "Epoch 00002: val_loss improved from 0.54622 to 0.42710, saving model to ./data/wide-deep.h5\n",
            "Epoch 3/30\n",
            "377/377 [==============================] - 3s 7ms/step - loss: 0.4284 - accuracy: 0.8213 - val_loss: 0.4152 - val_accuracy: 0.8265\n",
            "\n",
            "Epoch 00003: val_loss improved from 0.42710 to 0.41516, saving model to ./data/wide-deep.h5\n",
            "Epoch 4/30\n",
            "377/377 [==============================] - 2s 7ms/step - loss: 0.4245 - accuracy: 0.8214 - val_loss: 0.4114 - val_accuracy: 0.8278\n",
            "\n",
            "Epoch 00004: val_loss improved from 0.41516 to 0.41136, saving model to ./data/wide-deep.h5\n",
            "Epoch 5/30\n",
            "377/377 [==============================] - 3s 7ms/step - loss: 0.4211 - accuracy: 0.8229 - val_loss: 0.4398 - val_accuracy: 0.8102\n",
            "\n",
            "Epoch 00005: val_loss did not improve from 0.41136\n",
            "Epoch 6/30\n",
            "377/377 [==============================] - 2s 7ms/step - loss: 0.4181 - accuracy: 0.8255 - val_loss: 0.4068 - val_accuracy: 0.8299\n",
            "\n",
            "Epoch 00006: val_loss improved from 0.41136 to 0.40679, saving model to ./data/wide-deep.h5\n",
            "Epoch 7/30\n",
            "377/377 [==============================] - 2s 7ms/step - loss: 0.4144 - accuracy: 0.8259 - val_loss: 0.4155 - val_accuracy: 0.8264\n",
            "\n",
            "Epoch 00007: val_loss did not improve from 0.40679\n",
            "Epoch 8/30\n",
            "377/377 [==============================] - 2s 7ms/step - loss: 0.4132 - accuracy: 0.8264 - val_loss: 0.4048 - val_accuracy: 0.8299\n",
            "\n",
            "Epoch 00008: val_loss improved from 0.40679 to 0.40484, saving model to ./data/wide-deep.h5\n",
            "Epoch 9/30\n",
            "377/377 [==============================] - 2s 7ms/step - loss: 0.4137 - accuracy: 0.8261 - val_loss: 0.4096 - val_accuracy: 0.8272\n",
            "\n",
            "Epoch 00009: val_loss did not improve from 0.40484\n",
            "Epoch 10/30\n",
            "377/377 [==============================] - 2s 7ms/step - loss: 0.4119 - accuracy: 0.8274 - val_loss: 0.4063 - val_accuracy: 0.8281\n",
            "\n",
            "Epoch 00010: val_loss did not improve from 0.40484\n",
            "Epoch 11/30\n",
            "377/377 [==============================] - 3s 7ms/step - loss: 0.4116 - accuracy: 0.8273 - val_loss: 0.4044 - val_accuracy: 0.8309\n",
            "\n",
            "Epoch 00011: val_loss improved from 0.40484 to 0.40439, saving model to ./data/wide-deep.h5\n",
            "Epoch 12/30\n",
            "377/377 [==============================] - 3s 7ms/step - loss: 0.4113 - accuracy: 0.8273 - val_loss: 0.4054 - val_accuracy: 0.8276\n",
            "\n",
            "Epoch 00012: val_loss did not improve from 0.40439\n",
            "Epoch 13/30\n",
            "377/377 [==============================] - 3s 7ms/step - loss: 0.4105 - accuracy: 0.8270 - val_loss: 0.4042 - val_accuracy: 0.8286\n",
            "\n",
            "Epoch 00013: val_loss improved from 0.40439 to 0.40423, saving model to ./data/wide-deep.h5\n",
            "Epoch 14/30\n",
            "377/377 [==============================] - 2s 7ms/step - loss: 0.4098 - accuracy: 0.8272 - val_loss: 0.4072 - val_accuracy: 0.8270\n",
            "\n",
            "Epoch 00014: val_loss did not improve from 0.40423\n",
            "Epoch 15/30\n",
            "377/377 [==============================] - 3s 7ms/step - loss: 0.4104 - accuracy: 0.8268 - val_loss: 0.4047 - val_accuracy: 0.8262\n",
            "\n",
            "Epoch 00015: val_loss did not improve from 0.40423\n",
            "Epoch 16/30\n",
            "377/377 [==============================] - 3s 7ms/step - loss: 0.4095 - accuracy: 0.8264 - val_loss: 0.4061 - val_accuracy: 0.8264\n",
            "\n",
            "Epoch 00016: val_loss did not improve from 0.40423\n",
            "Epoch 17/30\n",
            "377/377 [==============================] - 2s 7ms/step - loss: 0.4099 - accuracy: 0.8265 - val_loss: 0.4108 - val_accuracy: 0.8278\n",
            "\n",
            "Epoch 00017: val_loss did not improve from 0.40423\n",
            "Epoch 18/30\n",
            "377/377 [==============================] - 2s 7ms/step - loss: 0.4088 - accuracy: 0.8281 - val_loss: 0.4052 - val_accuracy: 0.8269\n",
            "\n",
            "Epoch 00018: val_loss did not improve from 0.40423\n"
          ],
          "name": "stdout"
        },
        {
          "output_type": "execute_result",
          "data": {
            "text/plain": [
              "<keras.callbacks.History at 0x7fa4f808dc90>"
            ]
          },
          "metadata": {},
          "execution_count": 66
        }
      ]
    },
    {
      "cell_type": "code",
      "metadata": {
        "id": "90D_dbqx6GmH"
      },
      "source": [
        "eval_input_data = [X_test_continue] + [X_test_category[:, i] for i in range(X_test_category.shape[1])] \\\n",
        "                    + [X_test_category_poly]"
      ],
      "execution_count": 67,
      "outputs": []
    },
    {
      "cell_type": "code",
      "metadata": {
        "colab": {
          "base_uri": "https://localhost:8080/"
        },
        "id": "pNPbJQV56hjd",
        "outputId": "36a15c38-12ed-4937-d843-474ac0996f01"
      },
      "source": [
        "loss, acc = model.evaluate(eval_input_data, y_test)"
      ],
      "execution_count": 68,
      "outputs": [
        {
          "output_type": "stream",
          "text": [
            "760/760 [==============================] - 2s 3ms/step - loss: 0.4150 - accuracy: 0.8236\n"
          ],
          "name": "stdout"
        }
      ]
    },
    {
      "cell_type": "code",
      "metadata": {
        "colab": {
          "base_uri": "https://localhost:8080/"
        },
        "id": "tv3pStp96kCf",
        "outputId": "bc54f2d0-edff-4c4c-ad1f-98347443bd06"
      },
      "source": [
        "print(f'test_loss:{loss:.4f} - test_acc:{acc:.4f}')"
      ],
      "execution_count": 69,
      "outputs": [
        {
          "output_type": "stream",
          "text": [
            "test_loss:0.4150 - test_acc:0.8236\n"
          ],
          "name": "stdout"
        }
      ]
    },
    {
      "cell_type": "code",
      "metadata": {
        "colab": {
          "base_uri": "https://localhost:8080/"
        },
        "id": "dwHrVE1l6opv",
        "outputId": "be8f82f6-260f-4555-8898-7c42452398ca"
      },
      "source": [
        "y_test.sum()"
      ],
      "execution_count": 70,
      "outputs": [
        {
          "output_type": "execute_result",
          "data": {
            "text/plain": [
              "15149"
            ]
          },
          "metadata": {},
          "execution_count": 70
        }
      ]
    },
    {
      "cell_type": "code",
      "metadata": {
        "id": "Ux8rl1sR6pt_"
      },
      "source": [
        ""
      ],
      "execution_count": null,
      "outputs": []
    }
  ]
}